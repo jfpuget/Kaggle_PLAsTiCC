{
 "cells": [
  {
   "cell_type": "code",
   "execution_count": 1,
   "metadata": {},
   "outputs": [],
   "source": [
    "fname='bazin_003'\n",
    "\n",
    "n_tta = 6\n",
    "\n",
    "seed = 0"
   ]
  },
  {
   "cell_type": "code",
   "execution_count": 2,
   "metadata": {},
   "outputs": [],
   "source": [
    "import numpy as np\n",
    "import pandas as pd\n",
    "from sklearn.model_selection import StratifiedKFold\n",
    "from sklearn.metrics import confusion_matrix\n",
    "from scipy.optimize import curve_fit\n",
    "import gc\n",
    "import matplotlib.pyplot as plt\n",
    "import seaborn as sns\n",
    "import logging\n",
    "from tqdm import tqdm_notebook\n",
    "import itertools\n",
    "import pickle as pkl\n",
    "\n",
    "from multiprocessing import Pool"
   ]
  },
  {
   "cell_type": "code",
   "execution_count": 3,
   "metadata": {},
   "outputs": [],
   "source": [
    "import random as rn\n",
    "def init_seeds(seed):\n",
    "\n",
    "    # The below is necessary for starting Numpy generated random numbers\n",
    "    # in a well-defined initial state.\n",
    "\n",
    "    np.random.seed(seed)\n",
    "\n",
    "    # The below is necessary for starting core Python generated random numbers\n",
    "    # in a well-defined state.\n",
    "\n",
    "    rn.seed(seed)\n",
    "\n",
    "\n",
    "init_seeds(seed)"
   ]
  },
  {
   "cell_type": "code",
   "execution_count": 4,
   "metadata": {},
   "outputs": [],
   "source": [
    "def curve(t, A, t0, trise, tfall):\n",
    "    if tfall <= trise:\n",
    "        return np.zeros(t.shape)\n",
    "    res = A * np.exp(-(t - t0) / tfall) / (1 + np.exp(-(t - t0) / trise))\n",
    "    return res"
   ]
  },
  {
   "cell_type": "code",
   "execution_count": 5,
   "metadata": {},
   "outputs": [],
   "source": [
    "# eda_024_bazin\n",
    "def get_bazin(train, object_id):\n",
    "    passbands = [0, 1, 2, 3, 4, 5]\n",
    "    res = pd.DataFrame()\n",
    "    res['object_id'] = [object_id]\n",
    "    res['bazin_trise'] = np.NaN\n",
    "    for pb in passbands:\n",
    "        res['bazin_tfall_%d' % pb] = np.NaN\n",
    "        res['bazin_A_%d' % pb] = np.NaN\n",
    "    df0 = train[train.object_id == object_id]\n",
    "    if df0.hostgal_photoz.mean() == 0:\n",
    "        return res\n",
    "    offset = 11\n",
    "    t0s = []\n",
    "    trises = []\n",
    "    p0s = []\n",
    "    bmins = []\n",
    "    bmaxs = []\n",
    "    xs = []\n",
    "    ys = []\n",
    "    y_errs = []\n",
    "    mcovs = []\n",
    "    for pb in range(6):\n",
    "        try:\n",
    "            df = df0[(df0.object_id == object_id) & (df0.passband == pb)]\n",
    "            mjd_delta_prev = (df.mjd - df.mjd.shift(1)).fillna(100).values.ravel()\n",
    "            mjd_delta_next = (df.mjd.shift(-1) - df.mjd).fillna(100).values.ravel()\n",
    "            x_min = df.mjd.min()\n",
    "            x_max = df.mjd.max()\n",
    "            y_err_mean = df.flux_err.mean()\n",
    "            mjd_delta_prev = np.concatenate((100 * np.ones((offset,)),\n",
    "                                mjd_delta_prev,\n",
    "                                100 * np.ones((offset,)),\n",
    "                              ))\n",
    "            mjd_delta_next = np.concatenate((100 * np.ones((offset,)),\n",
    "                                mjd_delta_next,\n",
    "                                100 * np.ones((offset,)),\n",
    "                              ))\n",
    "            x = np.concatenate((np.linspace(x_min-500, x_min -450, offset),\n",
    "                                df.mjd.values,\n",
    "                                np.linspace(x_max+450, x_max+500, offset),\n",
    "                              ))\n",
    "            y = np.concatenate((np.random.randn(offset) * y_err_mean,\n",
    "                                df.flux.values,\n",
    "                                np.random.randn(offset) * y_err_mean\n",
    "                               ))\n",
    "            y_err = np.concatenate((y_err_mean * np.ones(offset),\n",
    "                                    df.flux_err,\n",
    "                                    y_err_mean * np.ones(offset)\n",
    "                                  ))\n",
    "            idxmax = np.argmax(y)\n",
    "            t00 = x[np.argmax(y)]\n",
    "            A = y.max() \n",
    "            Amin = A*1.3\n",
    "            Amax = 4*A\n",
    "            tstart = -5\n",
    "            trise = 5\n",
    "            tfall = 10\n",
    "            if mjd_delta_prev[idxmax] > 50:\n",
    "                tstart = -50\n",
    "                Amin = 2*A\n",
    "                Amax = 5*A\n",
    "                trise=20\n",
    "                tfall=40\n",
    "            tmax = 20\n",
    "            if mjd_delta_next[idxmax] > 50:\n",
    "                Amin = 2*A\n",
    "                Amax = 5*A\n",
    "                trise=20\n",
    "                tfall=40\n",
    "            \n",
    "            \n",
    "            p0 = [(Amin + Amax) / 2, t00 + tstart, trise, tfall]\n",
    "            bmin = [Amin, t00 + tstart - 100, trise/10, tfall/10]\n",
    "            bmax =[Amax, t00 + tstart, trise*10, tfall*10]\n",
    "            bounds = (bmin, bmax)\n",
    "\n",
    "            def test_func(t, A, t0, trise, tfall): \n",
    "                res = curve(t, A, t0, trise, tfall)\n",
    "                return res\n",
    "\n",
    "            params, params_covariance = curve_fit(test_func, x, y, p0, y_err, \n",
    "                                                  bounds=bounds,\n",
    "                                                  max_nfev=1000)\n",
    "            \n",
    "            median_cov = np.abs(np.median(params_covariance / A))\n",
    "            \n",
    "            if median_cov <= 10 and pb in range(1, 5):\n",
    "                t0s.append(params[1])\n",
    "            trises.append(params[2])\n",
    "            p0s.append([params[0], params[3]])\n",
    "            bmins.append([bmin[0], bmin[3]])\n",
    "            bmaxs.append([bmax[0], bmax[3]])\n",
    "            xs.append(x)\n",
    "            ys.append(y)\n",
    "            y_errs.append(y_err)\n",
    "            mcovs.append(median_cov)\n",
    "        except:\n",
    "            continue\n",
    "    if len(t0s) <= 1:\n",
    "        return\n",
    "    t00 = np.median(t0s)\n",
    "    trise = np.median(trises)\n",
    "    res['bazin_trise'] = trise\n",
    "    for pb, p0, bmin, bmax, x, y, y_err, median_cov in zip(range(0,6), p0s, bmins, bmaxs, xs, ys, y_errs, mcovs):\n",
    "        try:\n",
    "            bounds = (bmin, bmax)\n",
    "\n",
    "            def test_func(t, A, tfall): \n",
    "                res = curve(t, A, t00, trise, tfall)\n",
    "                return res\n",
    "\n",
    "            params, params_covariance = curve_fit(test_func, x, y, p0, y_err, \n",
    "                                                  bounds=bounds,\n",
    "                                                  max_nfev=1000)\n",
    "\n",
    "            \n",
    "            median_cov = np.median(params_covariance / A)\n",
    "            \n",
    "            if median_cov <= 10:\n",
    "                res['bazin_tfall_%d' % pb] = params[1]\n",
    "                res['bazin_A_%d' % pb] = params[0]\n",
    "        except:\n",
    "            continue\n",
    "    return res\n",
    "    "
   ]
  },
  {
   "cell_type": "raw",
   "metadata": {},
   "source": [
    "get_bazin(train.merge(meta_train, how='left', on='object_id'), 4173)"
   ]
  },
  {
   "cell_type": "code",
   "execution_count": 6,
   "metadata": {},
   "outputs": [],
   "source": [
    "def apply_bazin(df, meta):\n",
    "    df = df[['object_id', 'mjd', 'passband', 'flux', 'flux_err']].merge(meta[['object_id', 'hostgal_photoz']],\n",
    "                                                           how='left', on='object_id')\n",
    "    agg =  [get_bazin(df, object_id) for object_id in tqdm_notebook(df.object_id.unique())]\n",
    "    return pd.concat(agg, axis=0)"
   ]
  },
  {
   "cell_type": "code",
   "execution_count": 7,
   "metadata": {},
   "outputs": [
    {
     "data": {
      "text/html": [
       "<div>\n",
       "<style scoped>\n",
       "    .dataframe tbody tr th:only-of-type {\n",
       "        vertical-align: middle;\n",
       "    }\n",
       "\n",
       "    .dataframe tbody tr th {\n",
       "        vertical-align: top;\n",
       "    }\n",
       "\n",
       "    .dataframe thead th {\n",
       "        text-align: right;\n",
       "    }\n",
       "</style>\n",
       "<table border=\"1\" class=\"dataframe\">\n",
       "  <thead>\n",
       "    <tr style=\"text-align: right;\">\n",
       "      <th></th>\n",
       "      <th>object_id</th>\n",
       "      <th>mjd</th>\n",
       "      <th>passband</th>\n",
       "      <th>flux</th>\n",
       "      <th>flux_err</th>\n",
       "      <th>detected</th>\n",
       "    </tr>\n",
       "  </thead>\n",
       "  <tbody>\n",
       "    <tr>\n",
       "      <th>0</th>\n",
       "      <td>615</td>\n",
       "      <td>59750.4229</td>\n",
       "      <td>2</td>\n",
       "      <td>-544.810303</td>\n",
       "      <td>3.622952</td>\n",
       "      <td>1</td>\n",
       "    </tr>\n",
       "    <tr>\n",
       "      <th>1</th>\n",
       "      <td>615</td>\n",
       "      <td>59750.4306</td>\n",
       "      <td>1</td>\n",
       "      <td>-816.434326</td>\n",
       "      <td>5.553370</td>\n",
       "      <td>1</td>\n",
       "    </tr>\n",
       "    <tr>\n",
       "      <th>2</th>\n",
       "      <td>615</td>\n",
       "      <td>59750.4383</td>\n",
       "      <td>3</td>\n",
       "      <td>-471.385529</td>\n",
       "      <td>3.801213</td>\n",
       "      <td>1</td>\n",
       "    </tr>\n",
       "    <tr>\n",
       "      <th>3</th>\n",
       "      <td>615</td>\n",
       "      <td>59750.4450</td>\n",
       "      <td>4</td>\n",
       "      <td>-388.984985</td>\n",
       "      <td>11.395031</td>\n",
       "      <td>1</td>\n",
       "    </tr>\n",
       "    <tr>\n",
       "      <th>4</th>\n",
       "      <td>615</td>\n",
       "      <td>59752.4070</td>\n",
       "      <td>2</td>\n",
       "      <td>-681.858887</td>\n",
       "      <td>4.041204</td>\n",
       "      <td>1</td>\n",
       "    </tr>\n",
       "  </tbody>\n",
       "</table>\n",
       "</div>"
      ],
      "text/plain": [
       "   object_id         mjd  passband        flux   flux_err  detected\n",
       "0        615  59750.4229         2 -544.810303   3.622952         1\n",
       "1        615  59750.4306         1 -816.434326   5.553370         1\n",
       "2        615  59750.4383         3 -471.385529   3.801213         1\n",
       "3        615  59750.4450         4 -388.984985  11.395031         1\n",
       "4        615  59752.4070         2 -681.858887   4.041204         1"
      ]
     },
     "execution_count": 7,
     "metadata": {},
     "output_type": "execute_result"
    }
   ],
   "source": [
    "train = pd.read_csv('../input/training_set.csv')\n",
    "train.head()"
   ]
  },
  {
   "cell_type": "code",
   "execution_count": 8,
   "metadata": {},
   "outputs": [
    {
     "data": {
      "text/html": [
       "<div>\n",
       "<style scoped>\n",
       "    .dataframe tbody tr th:only-of-type {\n",
       "        vertical-align: middle;\n",
       "    }\n",
       "\n",
       "    .dataframe tbody tr th {\n",
       "        vertical-align: top;\n",
       "    }\n",
       "\n",
       "    .dataframe thead th {\n",
       "        text-align: right;\n",
       "    }\n",
       "</style>\n",
       "<table border=\"1\" class=\"dataframe\">\n",
       "  <thead>\n",
       "    <tr style=\"text-align: right;\">\n",
       "      <th></th>\n",
       "      <th>object_id</th>\n",
       "      <th>ddf</th>\n",
       "      <th>hostgal_photoz</th>\n",
       "      <th>target</th>\n",
       "    </tr>\n",
       "  </thead>\n",
       "  <tbody>\n",
       "    <tr>\n",
       "      <th>0</th>\n",
       "      <td>615</td>\n",
       "      <td>1</td>\n",
       "      <td>0.0000</td>\n",
       "      <td>92</td>\n",
       "    </tr>\n",
       "    <tr>\n",
       "      <th>1</th>\n",
       "      <td>713</td>\n",
       "      <td>1</td>\n",
       "      <td>1.6267</td>\n",
       "      <td>88</td>\n",
       "    </tr>\n",
       "    <tr>\n",
       "      <th>2</th>\n",
       "      <td>730</td>\n",
       "      <td>1</td>\n",
       "      <td>0.2262</td>\n",
       "      <td>42</td>\n",
       "    </tr>\n",
       "    <tr>\n",
       "      <th>3</th>\n",
       "      <td>745</td>\n",
       "      <td>1</td>\n",
       "      <td>0.2813</td>\n",
       "      <td>90</td>\n",
       "    </tr>\n",
       "    <tr>\n",
       "      <th>4</th>\n",
       "      <td>1124</td>\n",
       "      <td>1</td>\n",
       "      <td>0.2415</td>\n",
       "      <td>90</td>\n",
       "    </tr>\n",
       "  </tbody>\n",
       "</table>\n",
       "</div>"
      ],
      "text/plain": [
       "   object_id  ddf  hostgal_photoz  target\n",
       "0        615    1          0.0000      92\n",
       "1        713    1          1.6267      88\n",
       "2        730    1          0.2262      42\n",
       "3        745    1          0.2813      90\n",
       "4       1124    1          0.2415      90"
      ]
     },
     "execution_count": 8,
     "metadata": {},
     "output_type": "execute_result"
    }
   ],
   "source": [
    "meta_cols = ['object_id', 'ddf', 'hostgal_photoz', 'target']\n",
    "meta_train = pd.read_csv('../input/training_set_metadata.csv')[meta_cols]\n",
    "meta_train.head()"
   ]
  },
  {
   "cell_type": "code",
   "execution_count": 9,
   "metadata": {},
   "outputs": [],
   "source": [
    "def work_tta(param):\n",
    "    (i, fname) = param\n",
    "    print('starting worker', i)\n",
    "    train = pd.read_csv('../input/training_set.csv')\n",
    "    meta_train = pd.read_csv('../input/training_set_metadata.csv')[meta_cols]\n",
    "    df = train.copy()\n",
    "    if i > 0:\n",
    "        init_seeds(i)\n",
    "        df['flux'] += df['flux_err'] * np.random.randn(*df['flux_err'].shape)\n",
    "    df = apply_bazin(df, meta_train)\n",
    "    with open('../data/tta_%d_%s.pkl' % (i, fname), 'wb') as file:\n",
    "        pkl.dump(df, file)  \n",
    "    print('ending worker', i)\n",
    "    return 'done'"
   ]
  },
  {
   "cell_type": "code",
   "execution_count": 10,
   "metadata": {
    "scrolled": true
   },
   "outputs": [
    {
     "name": "stdout",
     "output_type": "stream",
     "text": [
      "starting worker 2\n",
      "starting worker 1\n",
      "starting worker 0\n",
      "starting worker 3\n",
      "starting worker 9\n",
      "starting worker 7\n",
      "starting worker 5\n",
      "starting worker 4\n",
      "starting worker 6\n",
      "starting worker 8\n",
      "starting worker 10\n"
     ]
    },
    {
     "data": {
      "application/vnd.jupyter.widget-view+json": {
       "model_id": "29fb2dbcd20640eca1dc19e5ef73fe19",
       "version_major": 2,
       "version_minor": 0
      },
      "text/plain": [
       "HBox(children=(IntProgress(value=0, max=7848), HTML(value='')))"
      ]
     },
     "metadata": {},
     "output_type": "display_data"
    },
    {
     "data": {
      "application/vnd.jupyter.widget-view+json": {
       "model_id": "775e4cdea1834ed794c8f5ada0d813c4",
       "version_major": 2,
       "version_minor": 0
      },
      "text/plain": [
       "HBox(children=(IntProgress(value=0, max=7848), HTML(value='')))"
      ]
     },
     "metadata": {},
     "output_type": "display_data"
    },
    {
     "data": {
      "application/vnd.jupyter.widget-view+json": {
       "model_id": "cd6341f69422493e823b34706a3fa449",
       "version_major": 2,
       "version_minor": 0
      },
      "text/plain": [
       "HBox(children=(IntProgress(value=0, max=7848), HTML(value='')))"
      ]
     },
     "metadata": {},
     "output_type": "display_data"
    },
    {
     "data": {
      "application/vnd.jupyter.widget-view+json": {
       "model_id": "a4d8635de4bf49259ebb4d3f76d1701f",
       "version_major": 2,
       "version_minor": 0
      },
      "text/plain": [
       "HBox(children=(IntProgress(value=0, max=7848), HTML(value='')))"
      ]
     },
     "metadata": {},
     "output_type": "display_data"
    },
    {
     "data": {
      "application/vnd.jupyter.widget-view+json": {
       "model_id": "974b9c84d5ab4469bef9ff695911107a",
       "version_major": 2,
       "version_minor": 0
      },
      "text/plain": [
       "HBox(children=(IntProgress(value=0, max=7848), HTML(value='')))"
      ]
     },
     "metadata": {},
     "output_type": "display_data"
    },
    {
     "data": {
      "application/vnd.jupyter.widget-view+json": {
       "model_id": "5e6ce90efe0844c78cd7802e5bc97140",
       "version_major": 2,
       "version_minor": 0
      },
      "text/plain": [
       "HBox(children=(IntProgress(value=0, max=7848), HTML(value='')))"
      ]
     },
     "metadata": {},
     "output_type": "display_data"
    },
    {
     "data": {
      "application/vnd.jupyter.widget-view+json": {
       "model_id": "fc549382af044026b26991acb1a35f1c",
       "version_major": 2,
       "version_minor": 0
      },
      "text/plain": [
       "HBox(children=(IntProgress(value=0, max=7848), HTML(value='')))"
      ]
     },
     "metadata": {},
     "output_type": "display_data"
    },
    {
     "data": {
      "application/vnd.jupyter.widget-view+json": {
       "model_id": "c7adbdc501c24737b022d86b5b54d001",
       "version_major": 2,
       "version_minor": 0
      },
      "text/plain": [
       "HBox(children=(IntProgress(value=0, max=7848), HTML(value='')))"
      ]
     },
     "metadata": {},
     "output_type": "display_data"
    },
    {
     "data": {
      "application/vnd.jupyter.widget-view+json": {
       "model_id": "fc23b35f6bc24d9987deeb3846ed7479",
       "version_major": 2,
       "version_minor": 0
      },
      "text/plain": [
       "HBox(children=(IntProgress(value=0, max=7848), HTML(value='')))"
      ]
     },
     "metadata": {},
     "output_type": "display_data"
    },
    {
     "data": {
      "application/vnd.jupyter.widget-view+json": {
       "model_id": "94da7a3fcd214b34a45fd598fed04240",
       "version_major": 2,
       "version_minor": 0
      },
      "text/plain": [
       "HBox(children=(IntProgress(value=0, max=7848), HTML(value='')))"
      ]
     },
     "metadata": {},
     "output_type": "display_data"
    },
    {
     "name": "stderr",
     "output_type": "stream",
     "text": [
      "/home/jfpuget/anaconda3/envs/xgb8/lib/python3.6/site-packages/ipykernel/__main__.py:4: RuntimeWarning: invalid value encountered in true_divide\n"
     ]
    },
    {
     "data": {
      "application/vnd.jupyter.widget-view+json": {
       "model_id": "5b495802e3154605a02a4623e5785267",
       "version_major": 2,
       "version_minor": 0
      },
      "text/plain": [
       "HBox(children=(IntProgress(value=0, max=7848), HTML(value='')))"
      ]
     },
     "metadata": {},
     "output_type": "display_data"
    },
    {
     "name": "stderr",
     "output_type": "stream",
     "text": [
      "/home/jfpuget/anaconda3/envs/xgb8/lib/python3.6/site-packages/ipykernel/__main__.py:4: RuntimeWarning: invalid value encountered in true_divide\n",
      "/home/jfpuget/anaconda3/envs/xgb8/lib/python3.6/site-packages/ipykernel/__main__.py:4: RuntimeWarning: overflow encountered in multiply\n",
      "/home/jfpuget/anaconda3/envs/xgb8/lib/python3.6/site-packages/ipykernel/__main__.py:4: RuntimeWarning: invalid value encountered in true_divide\n",
      "/home/jfpuget/anaconda3/envs/xgb8/lib/python3.6/site-packages/ipykernel/__main__.py:4: RuntimeWarning: invalid value encountered in true_divide\n",
      "/home/jfpuget/anaconda3/envs/xgb8/lib/python3.6/site-packages/ipykernel/__main__.py:4: RuntimeWarning: overflow encountered in multiply\n",
      "/home/jfpuget/anaconda3/envs/xgb8/lib/python3.6/site-packages/ipykernel/__main__.py:4: RuntimeWarning: overflow encountered in multiply\n",
      "/home/jfpuget/anaconda3/envs/xgb8/lib/python3.6/site-packages/ipykernel/__main__.py:4: RuntimeWarning: invalid value encountered in true_divide\n",
      "/home/jfpuget/anaconda3/envs/xgb8/lib/python3.6/site-packages/ipykernel/__main__.py:4: RuntimeWarning: invalid value encountered in true_divide\n",
      "/home/jfpuget/anaconda3/envs/xgb8/lib/python3.6/site-packages/ipykernel/__main__.py:4: RuntimeWarning: overflow encountered in multiply\n",
      "/home/jfpuget/anaconda3/envs/xgb8/lib/python3.6/site-packages/ipykernel/__main__.py:4: RuntimeWarning: invalid value encountered in true_divide\n",
      "/home/jfpuget/anaconda3/envs/xgb8/lib/python3.6/site-packages/ipykernel/__main__.py:4: RuntimeWarning: overflow encountered in multiply\n",
      "/home/jfpuget/anaconda3/envs/xgb8/lib/python3.6/site-packages/ipykernel/__main__.py:4: RuntimeWarning: overflow encountered in multiply\n",
      "/home/jfpuget/anaconda3/envs/xgb8/lib/python3.6/site-packages/ipykernel/__main__.py:4: RuntimeWarning: invalid value encountered in true_divide\n",
      "/home/jfpuget/anaconda3/envs/xgb8/lib/python3.6/site-packages/ipykernel/__main__.py:4: RuntimeWarning: overflow encountered in multiply\n",
      "/home/jfpuget/anaconda3/envs/xgb8/lib/python3.6/site-packages/ipykernel/__main__.py:4: RuntimeWarning: overflow encountered in multiply\n",
      "/home/jfpuget/anaconda3/envs/xgb8/lib/python3.6/site-packages/ipykernel/__main__.py:4: RuntimeWarning: invalid value encountered in true_divide\n",
      "/home/jfpuget/anaconda3/envs/xgb8/lib/python3.6/site-packages/ipykernel/__main__.py:4: RuntimeWarning: invalid value encountered in true_divide\n",
      "/home/jfpuget/anaconda3/envs/xgb8/lib/python3.6/site-packages/ipykernel/__main__.py:4: RuntimeWarning: overflow encountered in multiply\n",
      "/home/jfpuget/anaconda3/envs/xgb8/lib/python3.6/site-packages/ipykernel/__main__.py:4: RuntimeWarning: overflow encountered in multiply\n",
      "/home/jfpuget/anaconda3/envs/xgb8/lib/python3.6/site-packages/ipykernel/__main__.py:4: RuntimeWarning: invalid value encountered in true_divide\n",
      "/home/jfpuget/anaconda3/envs/xgb8/lib/python3.6/site-packages/ipykernel/__main__.py:4: RuntimeWarning: overflow encountered in multiply\n",
      "/home/jfpuget/anaconda3/envs/xgb8/lib/python3.6/site-packages/scipy/optimize/_lsq/common.py:501: RuntimeWarning: invalid value encountered in less\n",
      "  mask = (g < 0) & np.isfinite(ub)\n",
      "/home/jfpuget/anaconda3/envs/xgb8/lib/python3.6/site-packages/scipy/optimize/_lsq/common.py:505: RuntimeWarning: invalid value encountered in greater\n",
      "  mask = (g > 0) & np.isfinite(lb)\n",
      "/home/jfpuget/anaconda3/envs/xgb8/lib/python3.6/site-packages/scipy/optimize/_lsq/common.py:501: RuntimeWarning: invalid value encountered in less\n",
      "  mask = (g < 0) & np.isfinite(ub)\n",
      "/home/jfpuget/anaconda3/envs/xgb8/lib/python3.6/site-packages/scipy/optimize/_lsq/common.py:505: RuntimeWarning: invalid value encountered in greater\n",
      "  mask = (g > 0) & np.isfinite(lb)\n",
      "/home/jfpuget/anaconda3/envs/xgb8/lib/python3.6/site-packages/scipy/optimize/_lsq/common.py:501: RuntimeWarning: invalid value encountered in less\n",
      "  mask = (g < 0) & np.isfinite(ub)\n",
      "/home/jfpuget/anaconda3/envs/xgb8/lib/python3.6/site-packages/scipy/optimize/_lsq/common.py:505: RuntimeWarning: invalid value encountered in greater\n",
      "  mask = (g > 0) & np.isfinite(lb)\n",
      "/home/jfpuget/anaconda3/envs/xgb8/lib/python3.6/site-packages/scipy/optimize/_lsq/common.py:501: RuntimeWarning: invalid value encountered in less\n",
      "  mask = (g < 0) & np.isfinite(ub)\n",
      "/home/jfpuget/anaconda3/envs/xgb8/lib/python3.6/site-packages/scipy/optimize/_lsq/common.py:505: RuntimeWarning: invalid value encountered in greater\n",
      "  mask = (g > 0) & np.isfinite(lb)\n",
      "/home/jfpuget/anaconda3/envs/xgb8/lib/python3.6/site-packages/scipy/optimize/_lsq/common.py:501: RuntimeWarning: invalid value encountered in less\n",
      "  mask = (g < 0) & np.isfinite(ub)\n",
      "/home/jfpuget/anaconda3/envs/xgb8/lib/python3.6/site-packages/scipy/optimize/_lsq/common.py:505: RuntimeWarning: invalid value encountered in greater\n",
      "  mask = (g > 0) & np.isfinite(lb)\n",
      "/home/jfpuget/anaconda3/envs/xgb8/lib/python3.6/site-packages/scipy/optimize/_lsq/common.py:501: RuntimeWarning: invalid value encountered in less\n",
      "  mask = (g < 0) & np.isfinite(ub)\n",
      "/home/jfpuget/anaconda3/envs/xgb8/lib/python3.6/site-packages/scipy/optimize/_lsq/common.py:505: RuntimeWarning: invalid value encountered in greater\n",
      "  mask = (g > 0) & np.isfinite(lb)\n",
      "/home/jfpuget/anaconda3/envs/xgb8/lib/python3.6/site-packages/scipy/optimize/_lsq/common.py:501: RuntimeWarning: invalid value encountered in less\n",
      "  mask = (g < 0) & np.isfinite(ub)\n",
      "/home/jfpuget/anaconda3/envs/xgb8/lib/python3.6/site-packages/scipy/optimize/_lsq/common.py:505: RuntimeWarning: invalid value encountered in greater\n",
      "  mask = (g > 0) & np.isfinite(lb)\n",
      "/home/jfpuget/anaconda3/envs/xgb8/lib/python3.6/site-packages/scipy/optimize/_lsq/common.py:501: RuntimeWarning: invalid value encountered in less\n",
      "  mask = (g < 0) & np.isfinite(ub)\n",
      "/home/jfpuget/anaconda3/envs/xgb8/lib/python3.6/site-packages/scipy/optimize/_lsq/common.py:505: RuntimeWarning: invalid value encountered in greater\n",
      "  mask = (g > 0) & np.isfinite(lb)\n",
      "/home/jfpuget/anaconda3/envs/xgb8/lib/python3.6/site-packages/scipy/optimize/_lsq/common.py:501: RuntimeWarning: invalid value encountered in less\n",
      "  mask = (g < 0) & np.isfinite(ub)\n",
      "/home/jfpuget/anaconda3/envs/xgb8/lib/python3.6/site-packages/scipy/optimize/_lsq/common.py:505: RuntimeWarning: invalid value encountered in greater\n",
      "  mask = (g > 0) & np.isfinite(lb)\n",
      "/home/jfpuget/anaconda3/envs/xgb8/lib/python3.6/site-packages/scipy/optimize/_lsq/common.py:501: RuntimeWarning: invalid value encountered in less\n",
      "  mask = (g < 0) & np.isfinite(ub)\n",
      "/home/jfpuget/anaconda3/envs/xgb8/lib/python3.6/site-packages/scipy/optimize/_lsq/common.py:505: RuntimeWarning: invalid value encountered in greater\n",
      "  mask = (g > 0) & np.isfinite(lb)\n",
      "/home/jfpuget/anaconda3/envs/xgb8/lib/python3.6/site-packages/scipy/optimize/_lsq/common.py:501: RuntimeWarning: invalid value encountered in less\n",
      "  mask = (g < 0) & np.isfinite(ub)\n",
      "/home/jfpuget/anaconda3/envs/xgb8/lib/python3.6/site-packages/scipy/optimize/_lsq/common.py:505: RuntimeWarning: invalid value encountered in greater\n",
      "  mask = (g > 0) & np.isfinite(lb)\n"
     ]
    },
    {
     "name": "stdout",
     "output_type": "stream",
     "text": [
      "\n",
      "ending worker 0\n",
      "\n",
      "ending worker 7\n",
      "\n",
      "ending worker 3\n",
      "\n",
      "ending worker 2\n",
      "\n",
      "ending worker 1\n",
      "\n",
      "\n",
      "ending worker 6\n",
      "ending worker 4\n",
      "\n",
      "ending worker 9\n",
      "\n",
      "\n",
      "ending worker 8\n",
      "ending worker 5\n",
      "\n",
      "ending worker 10\n"
     ]
    }
   ],
   "source": [
    "params = [(i, fname) for i in range(11)]\n",
    "\n",
    "if 1: \n",
    "    pool = Pool(processes=11, maxtasksperchild=1)\n",
    "    ls   = pool.map( work_tta, params, chunksize=1 )\n",
    "    pool.close()\n",
    "else:\n",
    "    ls = [work_tta(param) for param in params]"
   ]
  },
  {
   "cell_type": "code",
   "execution_count": 11,
   "metadata": {},
   "outputs": [],
   "source": [
    "def work_test(param):\n",
    "    (i, fname) = param\n",
    "    print('starting worker', i)\n",
    "    with open('../input/test_chunk_%d.csv' %i, 'rb') as file:\n",
    "        test = pkl.load(file)\n",
    "    meta_test = pd.read_csv('../input/training_set_metadata.csv')[meta_cols]\n",
    "    df = apply_bazin(test, meta_test)\n",
    "    with open('../data/bazin_test_%d_%s.pkl' % (i, fname), 'wb') as file:\n",
    "        pkl.dump(df, file)  \n",
    "    print('ending worker', i)\n",
    "    return 'done'"
   ]
  },
  {
   "cell_type": "code",
   "execution_count": 12,
   "metadata": {
    "scrolled": false
   },
   "outputs": [
    {
     "name": "stdout",
     "output_type": "stream",
     "text": [
      "starting worker 0\n",
      "starting worker 4\n",
      "starting worker 7\n",
      "starting worker 2\n",
      "starting worker 3\n",
      "starting worker 5\n",
      "starting worker 1\n",
      "starting worker 14\n",
      "starting worker 12\n",
      "starting worker 11\n",
      "starting worker 13\n",
      "starting worker 9\n",
      "starting worker 8\n",
      "starting worker 15\n",
      "starting worker 10\n",
      "starting worker 16\n",
      "starting worker 6\n",
      "starting worker 18\n",
      "starting worker 17\n",
      "starting worker 19\n"
     ]
    },
    {
     "data": {
      "application/vnd.jupyter.widget-view+json": {
       "model_id": "97e26f263af2468a923b7dfafcd3ff5a",
       "version_major": 2,
       "version_minor": 0
      },
      "text/plain": [
       "HBox(children=(IntProgress(value=0, max=15137), HTML(value='')))"
      ]
     },
     "metadata": {},
     "output_type": "display_data"
    },
    {
     "name": "stderr",
     "output_type": "stream",
     "text": [
      "/home/jfpuget/anaconda3/envs/xgb8/lib/python3.6/site-packages/ipykernel/__main__.py:4: RuntimeWarning: invalid value encountered in true_divide\n",
      "/home/jfpuget/anaconda3/envs/xgb8/lib/python3.6/site-packages/ipykernel/__main__.py:4: RuntimeWarning: overflow encountered in multiply\n"
     ]
    },
    {
     "data": {
      "application/vnd.jupyter.widget-view+json": {
       "model_id": "936e290a8e0a47fbbffab0b312d4dd58",
       "version_major": 2,
       "version_minor": 0
      },
      "text/plain": [
       "HBox(children=(IntProgress(value=0, max=39033), HTML(value='')))"
      ]
     },
     "metadata": {},
     "output_type": "display_data"
    },
    {
     "data": {
      "application/vnd.jupyter.widget-view+json": {
       "model_id": "d3814b93e2d34c1fbf15c41b39f06b31",
       "version_major": 2,
       "version_minor": 0
      },
      "text/plain": [
       "HBox(children=(IntProgress(value=0, max=39079), HTML(value='')))"
      ]
     },
     "metadata": {},
     "output_type": "display_data"
    },
    {
     "data": {
      "application/vnd.jupyter.widget-view+json": {
       "model_id": "c8bd1d4429c64bc4bd2b16b578ae2970",
       "version_major": 2,
       "version_minor": 0
      },
      "text/plain": [
       "HBox(children=(IntProgress(value=0, max=39096), HTML(value='')))"
      ]
     },
     "metadata": {},
     "output_type": "display_data"
    },
    {
     "data": {
      "application/vnd.jupyter.widget-view+json": {
       "model_id": "ea30f661b9784114be1fd380c46db6fa",
       "version_major": 2,
       "version_minor": 0
      },
      "text/plain": [
       "HBox(children=(IntProgress(value=0, max=39048), HTML(value='')))"
      ]
     },
     "metadata": {},
     "output_type": "display_data"
    },
    {
     "data": {
      "application/vnd.jupyter.widget-view+json": {
       "model_id": "f4101dcf5f0e4d25a0c6623f2a7508e8",
       "version_major": 2,
       "version_minor": 0
      },
      "text/plain": [
       "HBox(children=(IntProgress(value=0, max=15183), HTML(value='')))"
      ]
     },
     "metadata": {},
     "output_type": "display_data"
    },
    {
     "data": {
      "application/vnd.jupyter.widget-view+json": {
       "model_id": "1c467e1d48c5450e88a56b4a1af07519",
       "version_major": 2,
       "version_minor": 0
      },
      "text/plain": [
       "HBox(children=(IntProgress(value=0, max=39110), HTML(value='')))"
      ]
     },
     "metadata": {},
     "output_type": "display_data"
    },
    {
     "data": {
      "application/vnd.jupyter.widget-view+json": {
       "model_id": "622bb88cadd74fb3bbb0ed967ce06e63",
       "version_major": 2,
       "version_minor": 0
      },
      "text/plain": [
       "HBox(children=(IntProgress(value=0, max=39054), HTML(value='')))"
      ]
     },
     "metadata": {},
     "output_type": "display_data"
    },
    {
     "data": {
      "application/vnd.jupyter.widget-view+json": {
       "model_id": "0bbd9e12ba00439f901c584e9a1306fa",
       "version_major": 2,
       "version_minor": 0
      },
      "text/plain": [
       "HBox(children=(IntProgress(value=0, max=39058), HTML(value='')))"
      ]
     },
     "metadata": {},
     "output_type": "display_data"
    },
    {
     "data": {
      "application/vnd.jupyter.widget-view+json": {
       "model_id": "8c7aa7bf05cb4071a7e0b9a81c368f0d",
       "version_major": 2,
       "version_minor": 0
      },
      "text/plain": [
       "HBox(children=(IntProgress(value=0, max=39057), HTML(value='')))"
      ]
     },
     "metadata": {},
     "output_type": "display_data"
    },
    {
     "data": {
      "application/vnd.jupyter.widget-view+json": {
       "model_id": "06c9120b42ca40809d8ed5a8df9fd914",
       "version_major": 2,
       "version_minor": 0
      },
      "text/plain": [
       "HBox(children=(IntProgress(value=0, max=39096), HTML(value='')))"
      ]
     },
     "metadata": {},
     "output_type": "display_data"
    },
    {
     "data": {
      "application/vnd.jupyter.widget-view+json": {
       "model_id": "98049b46405b4d9ebdce63c662950a64",
       "version_major": 2,
       "version_minor": 0
      },
      "text/plain": [
       "HBox(children=(IntProgress(value=0, max=39054), HTML(value='')))"
      ]
     },
     "metadata": {},
     "output_type": "display_data"
    },
    {
     "data": {
      "application/vnd.jupyter.widget-view+json": {
       "model_id": "13dec6e229c2406688c34e56bfcb3164",
       "version_major": 2,
       "version_minor": 0
      },
      "text/plain": [
       "HBox(children=(IntProgress(value=0, max=39087), HTML(value='')))"
      ]
     },
     "metadata": {},
     "output_type": "display_data"
    },
    {
     "data": {
      "application/vnd.jupyter.widget-view+json": {
       "model_id": "decf2ec9700240fa9338020c08b1eba9",
       "version_major": 2,
       "version_minor": 0
      },
      "text/plain": [
       "HBox(children=(IntProgress(value=0, max=39092), HTML(value='')))"
      ]
     },
     "metadata": {},
     "output_type": "display_data"
    },
    {
     "data": {
      "application/vnd.jupyter.widget-view+json": {
       "model_id": "54b890322070449da9ced8ed627218d3",
       "version_major": 2,
       "version_minor": 0
      },
      "text/plain": [
       "HBox(children=(IntProgress(value=0, max=39078), HTML(value='')))"
      ]
     },
     "metadata": {},
     "output_type": "display_data"
    },
    {
     "data": {
      "application/vnd.jupyter.widget-view+json": {
       "model_id": "32aa614f93f84a07beab574eb7cb31bd",
       "version_major": 2,
       "version_minor": 0
      },
      "text/plain": [
       "HBox(children=(IntProgress(value=0, max=39055), HTML(value='')))"
      ]
     },
     "metadata": {},
     "output_type": "display_data"
    },
    {
     "data": {
      "application/vnd.jupyter.widget-view+json": {
       "model_id": "1979066d42a24614bc0000ed350ca8e4",
       "version_major": 2,
       "version_minor": 0
      },
      "text/plain": [
       "HBox(children=(IntProgress(value=0, max=39098), HTML(value='')))"
      ]
     },
     "metadata": {},
     "output_type": "display_data"
    },
    {
     "data": {
      "application/vnd.jupyter.widget-view+json": {
       "model_id": "07763a350d6145a18e8b7b6c3525e8a4",
       "version_major": 2,
       "version_minor": 0
      },
      "text/plain": [
       "HBox(children=(IntProgress(value=0, max=34964), HTML(value='')))"
      ]
     },
     "metadata": {},
     "output_type": "display_data"
    },
    {
     "data": {
      "application/vnd.jupyter.widget-view+json": {
       "model_id": "22b48d33eb53445994d322f51351836d",
       "version_major": 2,
       "version_minor": 0
      },
      "text/plain": [
       "HBox(children=(IntProgress(value=0, max=39078), HTML(value='')))"
      ]
     },
     "metadata": {},
     "output_type": "display_data"
    },
    {
     "name": "stderr",
     "output_type": "stream",
     "text": [
      "/home/jfpuget/anaconda3/envs/xgb8/lib/python3.6/site-packages/ipykernel/__main__.py:4: RuntimeWarning: invalid value encountered in true_divide\n"
     ]
    },
    {
     "data": {
      "application/vnd.jupyter.widget-view+json": {
       "model_id": "3e5244d1364d43cfaa8f96393abfb8d7",
       "version_major": 2,
       "version_minor": 0
      },
      "text/plain": [
       "HBox(children=(IntProgress(value=0, max=39095), HTML(value='')))"
      ]
     },
     "metadata": {},
     "output_type": "display_data"
    },
    {
     "name": "stderr",
     "output_type": "stream",
     "text": [
      "/home/jfpuget/anaconda3/envs/xgb8/lib/python3.6/site-packages/ipykernel/__main__.py:4: RuntimeWarning: invalid value encountered in true_divide\n",
      "/home/jfpuget/anaconda3/envs/xgb8/lib/python3.6/site-packages/ipykernel/__main__.py:4: RuntimeWarning: invalid value encountered in true_divide\n",
      "/home/jfpuget/anaconda3/envs/xgb8/lib/python3.6/site-packages/ipykernel/__main__.py:4: RuntimeWarning: invalid value encountered in true_divide\n",
      "/home/jfpuget/anaconda3/envs/xgb8/lib/python3.6/site-packages/ipykernel/__main__.py:4: RuntimeWarning: overflow encountered in multiply\n",
      "/home/jfpuget/anaconda3/envs/xgb8/lib/python3.6/site-packages/ipykernel/__main__.py:4: RuntimeWarning: invalid value encountered in true_divide\n",
      "/home/jfpuget/anaconda3/envs/xgb8/lib/python3.6/site-packages/ipykernel/__main__.py:4: RuntimeWarning: overflow encountered in multiply\n",
      "/home/jfpuget/anaconda3/envs/xgb8/lib/python3.6/site-packages/ipykernel/__main__.py:4: RuntimeWarning: invalid value encountered in true_divide\n",
      "/home/jfpuget/anaconda3/envs/xgb8/lib/python3.6/site-packages/ipykernel/__main__.py:4: RuntimeWarning: overflow encountered in multiply\n",
      "/home/jfpuget/anaconda3/envs/xgb8/lib/python3.6/site-packages/ipykernel/__main__.py:4: RuntimeWarning: overflow encountered in multiply\n",
      "/home/jfpuget/anaconda3/envs/xgb8/lib/python3.6/site-packages/ipykernel/__main__.py:4: RuntimeWarning: overflow encountered in multiply\n",
      "/home/jfpuget/anaconda3/envs/xgb8/lib/python3.6/site-packages/ipykernel/__main__.py:4: RuntimeWarning: invalid value encountered in true_divide\n",
      "/home/jfpuget/anaconda3/envs/xgb8/lib/python3.6/site-packages/ipykernel/__main__.py:4: RuntimeWarning: overflow encountered in multiply\n",
      "/home/jfpuget/anaconda3/envs/xgb8/lib/python3.6/site-packages/ipykernel/__main__.py:4: RuntimeWarning: invalid value encountered in true_divide\n",
      "/home/jfpuget/anaconda3/envs/xgb8/lib/python3.6/site-packages/ipykernel/__main__.py:4: RuntimeWarning: overflow encountered in multiply\n",
      "/home/jfpuget/anaconda3/envs/xgb8/lib/python3.6/site-packages/ipykernel/__main__.py:4: RuntimeWarning: invalid value encountered in true_divide\n",
      "/home/jfpuget/anaconda3/envs/xgb8/lib/python3.6/site-packages/ipykernel/__main__.py:4: RuntimeWarning: overflow encountered in multiply\n",
      "/home/jfpuget/anaconda3/envs/xgb8/lib/python3.6/site-packages/ipykernel/__main__.py:4: RuntimeWarning: overflow encountered in multiply\n",
      "/home/jfpuget/anaconda3/envs/xgb8/lib/python3.6/site-packages/ipykernel/__main__.py:4: RuntimeWarning: invalid value encountered in true_divide\n",
      "/home/jfpuget/anaconda3/envs/xgb8/lib/python3.6/site-packages/ipykernel/__main__.py:4: RuntimeWarning: invalid value encountered in true_divide\n",
      "/home/jfpuget/anaconda3/envs/xgb8/lib/python3.6/site-packages/ipykernel/__main__.py:4: RuntimeWarning: invalid value encountered in true_divide\n",
      "/home/jfpuget/anaconda3/envs/xgb8/lib/python3.6/site-packages/ipykernel/__main__.py:4: RuntimeWarning: overflow encountered in multiply\n",
      "/home/jfpuget/anaconda3/envs/xgb8/lib/python3.6/site-packages/ipykernel/__main__.py:4: RuntimeWarning: overflow encountered in multiply\n",
      "/home/jfpuget/anaconda3/envs/xgb8/lib/python3.6/site-packages/ipykernel/__main__.py:4: RuntimeWarning: invalid value encountered in true_divide\n",
      "/home/jfpuget/anaconda3/envs/xgb8/lib/python3.6/site-packages/ipykernel/__main__.py:4: RuntimeWarning: overflow encountered in multiply\n",
      "/home/jfpuget/anaconda3/envs/xgb8/lib/python3.6/site-packages/ipykernel/__main__.py:4: RuntimeWarning: invalid value encountered in true_divide\n",
      "/home/jfpuget/anaconda3/envs/xgb8/lib/python3.6/site-packages/scipy/optimize/_lsq/common.py:501: RuntimeWarning: invalid value encountered in less\n",
      "  mask = (g < 0) & np.isfinite(ub)\n",
      "/home/jfpuget/anaconda3/envs/xgb8/lib/python3.6/site-packages/scipy/optimize/_lsq/common.py:505: RuntimeWarning: invalid value encountered in greater\n",
      "  mask = (g > 0) & np.isfinite(lb)\n",
      "/home/jfpuget/anaconda3/envs/xgb8/lib/python3.6/site-packages/ipykernel/__main__.py:4: RuntimeWarning: invalid value encountered in true_divide\n",
      "/home/jfpuget/anaconda3/envs/xgb8/lib/python3.6/site-packages/ipykernel/__main__.py:4: RuntimeWarning: overflow encountered in multiply\n",
      "/home/jfpuget/anaconda3/envs/xgb8/lib/python3.6/site-packages/ipykernel/__main__.py:4: RuntimeWarning: invalid value encountered in true_divide\n",
      "/home/jfpuget/anaconda3/envs/xgb8/lib/python3.6/site-packages/ipykernel/__main__.py:4: RuntimeWarning: overflow encountered in multiply\n",
      "/home/jfpuget/anaconda3/envs/xgb8/lib/python3.6/site-packages/ipykernel/__main__.py:4: RuntimeWarning: overflow encountered in multiply\n",
      "/home/jfpuget/anaconda3/envs/xgb8/lib/python3.6/site-packages/ipykernel/__main__.py:4: RuntimeWarning: invalid value encountered in true_divide\n",
      "/home/jfpuget/anaconda3/envs/xgb8/lib/python3.6/site-packages/ipykernel/__main__.py:4: RuntimeWarning: overflow encountered in multiply\n",
      "/home/jfpuget/anaconda3/envs/xgb8/lib/python3.6/site-packages/ipykernel/__main__.py:4: RuntimeWarning: overflow encountered in multiply\n",
      "/home/jfpuget/anaconda3/envs/xgb8/lib/python3.6/site-packages/ipykernel/__main__.py:4: RuntimeWarning: invalid value encountered in true_divide\n",
      "/home/jfpuget/anaconda3/envs/xgb8/lib/python3.6/site-packages/ipykernel/__main__.py:4: RuntimeWarning: overflow encountered in multiply\n",
      "/home/jfpuget/anaconda3/envs/xgb8/lib/python3.6/site-packages/ipykernel/__main__.py:4: RuntimeWarning: invalid value encountered in true_divide\n",
      "/home/jfpuget/anaconda3/envs/xgb8/lib/python3.6/site-packages/ipykernel/__main__.py:4: RuntimeWarning: overflow encountered in multiply\n",
      "/home/jfpuget/anaconda3/envs/xgb8/lib/python3.6/site-packages/scipy/optimize/_lsq/common.py:501: RuntimeWarning: invalid value encountered in less\n",
      "  mask = (g < 0) & np.isfinite(ub)\n",
      "/home/jfpuget/anaconda3/envs/xgb8/lib/python3.6/site-packages/scipy/optimize/_lsq/common.py:505: RuntimeWarning: invalid value encountered in greater\n",
      "  mask = (g > 0) & np.isfinite(lb)\n",
      "/home/jfpuget/anaconda3/envs/xgb8/lib/python3.6/site-packages/scipy/optimize/_lsq/common.py:501: RuntimeWarning: invalid value encountered in less\n",
      "  mask = (g < 0) & np.isfinite(ub)\n",
      "/home/jfpuget/anaconda3/envs/xgb8/lib/python3.6/site-packages/scipy/optimize/_lsq/common.py:505: RuntimeWarning: invalid value encountered in greater\n",
      "  mask = (g > 0) & np.isfinite(lb)\n",
      "/home/jfpuget/anaconda3/envs/xgb8/lib/python3.6/site-packages/scipy/optimize/_lsq/common.py:501: RuntimeWarning: invalid value encountered in less\n",
      "  mask = (g < 0) & np.isfinite(ub)\n",
      "/home/jfpuget/anaconda3/envs/xgb8/lib/python3.6/site-packages/scipy/optimize/_lsq/common.py:505: RuntimeWarning: invalid value encountered in greater\n",
      "  mask = (g > 0) & np.isfinite(lb)\n",
      "/home/jfpuget/anaconda3/envs/xgb8/lib/python3.6/site-packages/scipy/optimize/_lsq/common.py:501: RuntimeWarning: invalid value encountered in less\n",
      "  mask = (g < 0) & np.isfinite(ub)\n",
      "/home/jfpuget/anaconda3/envs/xgb8/lib/python3.6/site-packages/scipy/optimize/_lsq/common.py:505: RuntimeWarning: invalid value encountered in greater\n",
      "  mask = (g > 0) & np.isfinite(lb)\n",
      "/home/jfpuget/anaconda3/envs/xgb8/lib/python3.6/site-packages/scipy/optimize/_lsq/common.py:501: RuntimeWarning: invalid value encountered in less\n",
      "  mask = (g < 0) & np.isfinite(ub)\n",
      "/home/jfpuget/anaconda3/envs/xgb8/lib/python3.6/site-packages/scipy/optimize/_lsq/common.py:505: RuntimeWarning: invalid value encountered in greater\n",
      "  mask = (g > 0) & np.isfinite(lb)\n",
      "/home/jfpuget/anaconda3/envs/xgb8/lib/python3.6/site-packages/scipy/optimize/_lsq/common.py:501: RuntimeWarning: invalid value encountered in less\n",
      "  mask = (g < 0) & np.isfinite(ub)\n",
      "/home/jfpuget/anaconda3/envs/xgb8/lib/python3.6/site-packages/scipy/optimize/_lsq/common.py:505: RuntimeWarning: invalid value encountered in greater\n",
      "  mask = (g > 0) & np.isfinite(lb)\n",
      "/home/jfpuget/anaconda3/envs/xgb8/lib/python3.6/site-packages/scipy/optimize/_lsq/common.py:501: RuntimeWarning: invalid value encountered in less\n",
      "  mask = (g < 0) & np.isfinite(ub)\n",
      "/home/jfpuget/anaconda3/envs/xgb8/lib/python3.6/site-packages/scipy/optimize/_lsq/common.py:505: RuntimeWarning: invalid value encountered in greater\n",
      "  mask = (g > 0) & np.isfinite(lb)\n",
      "/home/jfpuget/anaconda3/envs/xgb8/lib/python3.6/site-packages/scipy/optimize/_lsq/common.py:501: RuntimeWarning: invalid value encountered in less\n",
      "  mask = (g < 0) & np.isfinite(ub)\n"
     ]
    },
    {
     "name": "stderr",
     "output_type": "stream",
     "text": [
      "/home/jfpuget/anaconda3/envs/xgb8/lib/python3.6/site-packages/scipy/optimize/_lsq/common.py:505: RuntimeWarning: invalid value encountered in greater\n",
      "  mask = (g > 0) & np.isfinite(lb)\n",
      "/home/jfpuget/anaconda3/envs/xgb8/lib/python3.6/site-packages/scipy/optimize/_lsq/common.py:501: RuntimeWarning: invalid value encountered in less\n",
      "  mask = (g < 0) & np.isfinite(ub)\n",
      "/home/jfpuget/anaconda3/envs/xgb8/lib/python3.6/site-packages/scipy/optimize/_lsq/common.py:505: RuntimeWarning: invalid value encountered in greater\n",
      "  mask = (g > 0) & np.isfinite(lb)\n",
      "/home/jfpuget/anaconda3/envs/xgb8/lib/python3.6/site-packages/scipy/optimize/_lsq/common.py:501: RuntimeWarning: invalid value encountered in less\n",
      "  mask = (g < 0) & np.isfinite(ub)\n",
      "/home/jfpuget/anaconda3/envs/xgb8/lib/python3.6/site-packages/scipy/optimize/_lsq/common.py:505: RuntimeWarning: invalid value encountered in greater\n",
      "  mask = (g > 0) & np.isfinite(lb)\n",
      "/home/jfpuget/anaconda3/envs/xgb8/lib/python3.6/site-packages/scipy/optimize/_lsq/common.py:501: RuntimeWarning: invalid value encountered in less\n",
      "  mask = (g < 0) & np.isfinite(ub)\n",
      "/home/jfpuget/anaconda3/envs/xgb8/lib/python3.6/site-packages/scipy/optimize/_lsq/common.py:505: RuntimeWarning: invalid value encountered in greater\n",
      "  mask = (g > 0) & np.isfinite(lb)\n",
      "/home/jfpuget/anaconda3/envs/xgb8/lib/python3.6/site-packages/scipy/optimize/_lsq/common.py:501: RuntimeWarning: invalid value encountered in less\n",
      "  mask = (g < 0) & np.isfinite(ub)\n",
      "/home/jfpuget/anaconda3/envs/xgb8/lib/python3.6/site-packages/scipy/optimize/_lsq/common.py:505: RuntimeWarning: invalid value encountered in greater\n",
      "  mask = (g > 0) & np.isfinite(lb)\n",
      "/home/jfpuget/anaconda3/envs/xgb8/lib/python3.6/site-packages/scipy/optimize/_lsq/common.py:501: RuntimeWarning: invalid value encountered in less\n",
      "  mask = (g < 0) & np.isfinite(ub)\n",
      "/home/jfpuget/anaconda3/envs/xgb8/lib/python3.6/site-packages/scipy/optimize/_lsq/common.py:505: RuntimeWarning: invalid value encountered in greater\n",
      "  mask = (g > 0) & np.isfinite(lb)\n",
      "/home/jfpuget/anaconda3/envs/xgb8/lib/python3.6/site-packages/scipy/optimize/_lsq/common.py:501: RuntimeWarning: invalid value encountered in less\n",
      "  mask = (g < 0) & np.isfinite(ub)\n",
      "/home/jfpuget/anaconda3/envs/xgb8/lib/python3.6/site-packages/scipy/optimize/_lsq/common.py:505: RuntimeWarning: invalid value encountered in greater\n",
      "  mask = (g > 0) & np.isfinite(lb)\n",
      "/home/jfpuget/anaconda3/envs/xgb8/lib/python3.6/site-packages/scipy/optimize/_lsq/common.py:501: RuntimeWarning: invalid value encountered in less\n",
      "  mask = (g < 0) & np.isfinite(ub)\n",
      "/home/jfpuget/anaconda3/envs/xgb8/lib/python3.6/site-packages/scipy/optimize/_lsq/common.py:505: RuntimeWarning: invalid value encountered in greater\n",
      "  mask = (g > 0) & np.isfinite(lb)\n",
      "/home/jfpuget/anaconda3/envs/xgb8/lib/python3.6/site-packages/scipy/optimize/_lsq/common.py:501: RuntimeWarning: invalid value encountered in less\n",
      "  mask = (g < 0) & np.isfinite(ub)\n",
      "/home/jfpuget/anaconda3/envs/xgb8/lib/python3.6/site-packages/scipy/optimize/_lsq/common.py:505: RuntimeWarning: invalid value encountered in greater\n",
      "  mask = (g > 0) & np.isfinite(lb)\n",
      "/home/jfpuget/anaconda3/envs/xgb8/lib/python3.6/site-packages/scipy/optimize/_lsq/common.py:501: RuntimeWarning: invalid value encountered in less\n",
      "  mask = (g < 0) & np.isfinite(ub)\n",
      "/home/jfpuget/anaconda3/envs/xgb8/lib/python3.6/site-packages/scipy/optimize/_lsq/common.py:505: RuntimeWarning: invalid value encountered in greater\n",
      "  mask = (g > 0) & np.isfinite(lb)\n",
      "/home/jfpuget/anaconda3/envs/xgb8/lib/python3.6/site-packages/scipy/optimize/_lsq/common.py:501: RuntimeWarning: invalid value encountered in less\n",
      "  mask = (g < 0) & np.isfinite(ub)\n",
      "/home/jfpuget/anaconda3/envs/xgb8/lib/python3.6/site-packages/scipy/optimize/_lsq/common.py:505: RuntimeWarning: invalid value encountered in greater\n",
      "  mask = (g > 0) & np.isfinite(lb)\n",
      "/home/jfpuget/anaconda3/envs/xgb8/lib/python3.6/site-packages/scipy/optimize/_lsq/common.py:501: RuntimeWarning: invalid value encountered in less\n",
      "  mask = (g < 0) & np.isfinite(ub)\n",
      "/home/jfpuget/anaconda3/envs/xgb8/lib/python3.6/site-packages/scipy/optimize/_lsq/common.py:505: RuntimeWarning: invalid value encountered in greater\n",
      "  mask = (g > 0) & np.isfinite(lb)\n"
     ]
    },
    {
     "name": "stdout",
     "output_type": "stream",
     "text": [
      "\n",
      "ending worker 0\n",
      "starting worker 20\n"
     ]
    },
    {
     "data": {
      "application/vnd.jupyter.widget-view+json": {
       "model_id": "dda00f364e54437a97283155de2fc191",
       "version_major": 2,
       "version_minor": 0
      },
      "text/plain": [
       "HBox(children=(IntProgress(value=0, max=39036), HTML(value='')))"
      ]
     },
     "metadata": {},
     "output_type": "display_data"
    },
    {
     "name": "stderr",
     "output_type": "stream",
     "text": [
      "/home/jfpuget/anaconda3/envs/xgb8/lib/python3.6/site-packages/ipykernel/__main__.py:4: RuntimeWarning: overflow encountered in multiply\n",
      "/home/jfpuget/anaconda3/envs/xgb8/lib/python3.6/site-packages/ipykernel/__main__.py:4: RuntimeWarning: invalid value encountered in true_divide\n"
     ]
    },
    {
     "name": "stdout",
     "output_type": "stream",
     "text": [
      "\n",
      "ending worker 1\n",
      "starting worker 21\n"
     ]
    },
    {
     "data": {
      "application/vnd.jupyter.widget-view+json": {
       "model_id": "ffa1869d24c34d40aa486a625a91832a",
       "version_major": 2,
       "version_minor": 0
      },
      "text/plain": [
       "HBox(children=(IntProgress(value=0, max=39020), HTML(value='')))"
      ]
     },
     "metadata": {},
     "output_type": "display_data"
    },
    {
     "name": "stderr",
     "output_type": "stream",
     "text": [
      "/home/jfpuget/anaconda3/envs/xgb8/lib/python3.6/site-packages/ipykernel/__main__.py:4: RuntimeWarning: overflow encountered in multiply\n",
      "/home/jfpuget/anaconda3/envs/xgb8/lib/python3.6/site-packages/ipykernel/__main__.py:4: RuntimeWarning: invalid value encountered in true_divide\n",
      "/home/jfpuget/anaconda3/envs/xgb8/lib/python3.6/site-packages/scipy/optimize/_lsq/common.py:501: RuntimeWarning: invalid value encountered in less\n",
      "  mask = (g < 0) & np.isfinite(ub)\n",
      "/home/jfpuget/anaconda3/envs/xgb8/lib/python3.6/site-packages/scipy/optimize/_lsq/common.py:505: RuntimeWarning: invalid value encountered in greater\n",
      "  mask = (g > 0) & np.isfinite(lb)\n",
      "/home/jfpuget/anaconda3/envs/xgb8/lib/python3.6/site-packages/scipy/optimize/_lsq/common.py:501: RuntimeWarning: invalid value encountered in less\n",
      "  mask = (g < 0) & np.isfinite(ub)\n",
      "/home/jfpuget/anaconda3/envs/xgb8/lib/python3.6/site-packages/scipy/optimize/_lsq/common.py:505: RuntimeWarning: invalid value encountered in greater\n",
      "  mask = (g > 0) & np.isfinite(lb)\n"
     ]
    },
    {
     "name": "stdout",
     "output_type": "stream",
     "text": [
      "\n",
      "ending worker 2\n",
      "starting worker 22\n"
     ]
    },
    {
     "data": {
      "application/vnd.jupyter.widget-view+json": {
       "model_id": "359e8d939e9f4d7ab7d6f75fb19f9699",
       "version_major": 2,
       "version_minor": 0
      },
      "text/plain": [
       "HBox(children=(IntProgress(value=0, max=39103), HTML(value='')))"
      ]
     },
     "metadata": {},
     "output_type": "display_data"
    },
    {
     "name": "stderr",
     "output_type": "stream",
     "text": [
      "/home/jfpuget/anaconda3/envs/xgb8/lib/python3.6/site-packages/ipykernel/__main__.py:4: RuntimeWarning: invalid value encountered in true_divide\n",
      "/home/jfpuget/anaconda3/envs/xgb8/lib/python3.6/site-packages/ipykernel/__main__.py:4: RuntimeWarning: overflow encountered in multiply\n"
     ]
    },
    {
     "name": "stdout",
     "output_type": "stream",
     "text": [
      "\n",
      "\n",
      "\n",
      "ending worker 16\n",
      "starting worker 23\n",
      "ending worker 18\n",
      "starting worker 24\n",
      "ending worker 19\n",
      "starting worker 25\n"
     ]
    },
    {
     "data": {
      "application/vnd.jupyter.widget-view+json": {
       "model_id": "41a396579ae2442ca0aca85d396cba54",
       "version_major": 2,
       "version_minor": 0
      },
      "text/plain": [
       "HBox(children=(IntProgress(value=0, max=39054), HTML(value='')))"
      ]
     },
     "metadata": {},
     "output_type": "display_data"
    },
    {
     "data": {
      "application/vnd.jupyter.widget-view+json": {
       "model_id": "178176209ebe4fffaa219c9b840b440b",
       "version_major": 2,
       "version_minor": 0
      },
      "text/plain": [
       "HBox(children=(IntProgress(value=0, max=39084), HTML(value='')))"
      ]
     },
     "metadata": {},
     "output_type": "display_data"
    },
    {
     "name": "stderr",
     "output_type": "stream",
     "text": [
      "/home/jfpuget/anaconda3/envs/xgb8/lib/python3.6/site-packages/ipykernel/__main__.py:4: RuntimeWarning: invalid value encountered in true_divide\n",
      "/home/jfpuget/anaconda3/envs/xgb8/lib/python3.6/site-packages/ipykernel/__main__.py:4: RuntimeWarning: overflow encountered in multiply\n"
     ]
    },
    {
     "data": {
      "application/vnd.jupyter.widget-view+json": {
       "model_id": "2e92d58f889e4f6f828801f9d3f47abe",
       "version_major": 2,
       "version_minor": 0
      },
      "text/plain": [
       "HBox(children=(IntProgress(value=0, max=39094), HTML(value='')))"
      ]
     },
     "metadata": {},
     "output_type": "display_data"
    },
    {
     "name": "stderr",
     "output_type": "stream",
     "text": [
      "/home/jfpuget/anaconda3/envs/xgb8/lib/python3.6/site-packages/ipykernel/__main__.py:4: RuntimeWarning: invalid value encountered in true_divide\n",
      "/home/jfpuget/anaconda3/envs/xgb8/lib/python3.6/site-packages/ipykernel/__main__.py:4: RuntimeWarning: overflow encountered in multiply\n",
      "/home/jfpuget/anaconda3/envs/xgb8/lib/python3.6/site-packages/ipykernel/__main__.py:4: RuntimeWarning: overflow encountered in multiply\n",
      "/home/jfpuget/anaconda3/envs/xgb8/lib/python3.6/site-packages/ipykernel/__main__.py:4: RuntimeWarning: invalid value encountered in true_divide\n"
     ]
    },
    {
     "name": "stdout",
     "output_type": "stream",
     "text": [
      "\n",
      "ending worker 17\n",
      "starting worker 26\n"
     ]
    },
    {
     "data": {
      "application/vnd.jupyter.widget-view+json": {
       "model_id": "2b04e7f10cfe402f89c11058e8c4c560",
       "version_major": 2,
       "version_minor": 0
      },
      "text/plain": [
       "HBox(children=(IntProgress(value=0, max=39048), HTML(value='')))"
      ]
     },
     "metadata": {},
     "output_type": "display_data"
    },
    {
     "name": "stderr",
     "output_type": "stream",
     "text": [
      "/home/jfpuget/anaconda3/envs/xgb8/lib/python3.6/site-packages/ipykernel/__main__.py:4: RuntimeWarning: invalid value encountered in true_divide\n",
      "/home/jfpuget/anaconda3/envs/xgb8/lib/python3.6/site-packages/ipykernel/__main__.py:4: RuntimeWarning: overflow encountered in multiply\n"
     ]
    },
    {
     "name": "stdout",
     "output_type": "stream",
     "text": [
      "\n",
      "ending worker 13\n",
      "starting worker 27\n"
     ]
    },
    {
     "data": {
      "application/vnd.jupyter.widget-view+json": {
       "model_id": "84483377abd8416e90899fec0bba849d",
       "version_major": 2,
       "version_minor": 0
      },
      "text/plain": [
       "HBox(children=(IntProgress(value=0, max=39086), HTML(value='')))"
      ]
     },
     "metadata": {},
     "output_type": "display_data"
    },
    {
     "name": "stderr",
     "output_type": "stream",
     "text": [
      "/home/jfpuget/anaconda3/envs/xgb8/lib/python3.6/site-packages/ipykernel/__main__.py:4: RuntimeWarning: overflow encountered in multiply\n",
      "/home/jfpuget/anaconda3/envs/xgb8/lib/python3.6/site-packages/ipykernel/__main__.py:4: RuntimeWarning: invalid value encountered in true_divide\n"
     ]
    },
    {
     "name": "stdout",
     "output_type": "stream",
     "text": [
      "\n"
     ]
    },
    {
     "name": "stderr",
     "output_type": "stream",
     "text": [
      "/home/jfpuget/anaconda3/envs/xgb8/lib/python3.6/site-packages/scipy/optimize/_lsq/common.py:501: RuntimeWarning: invalid value encountered in less\n",
      "  mask = (g < 0) & np.isfinite(ub)\n",
      "/home/jfpuget/anaconda3/envs/xgb8/lib/python3.6/site-packages/scipy/optimize/_lsq/common.py:505: RuntimeWarning: invalid value encountered in greater\n",
      "  mask = (g > 0) & np.isfinite(lb)\n"
     ]
    },
    {
     "name": "stdout",
     "output_type": "stream",
     "text": [
      "ending worker 14\n",
      "starting worker 28\n"
     ]
    },
    {
     "data": {
      "application/vnd.jupyter.widget-view+json": {
       "model_id": "e01a8ac4f95241279a9c0641b3308720",
       "version_major": 2,
       "version_minor": 0
      },
      "text/plain": [
       "HBox(children=(IntProgress(value=0, max=39095), HTML(value='')))"
      ]
     },
     "metadata": {},
     "output_type": "display_data"
    },
    {
     "name": "stderr",
     "output_type": "stream",
     "text": [
      "/home/jfpuget/anaconda3/envs/xgb8/lib/python3.6/site-packages/ipykernel/__main__.py:4: RuntimeWarning: invalid value encountered in true_divide\n",
      "/home/jfpuget/anaconda3/envs/xgb8/lib/python3.6/site-packages/ipykernel/__main__.py:4: RuntimeWarning: overflow encountered in multiply\n"
     ]
    },
    {
     "name": "stdout",
     "output_type": "stream",
     "text": [
      "\n",
      "\n",
      "ending worker 15\n",
      "starting worker 29\n"
     ]
    },
    {
     "data": {
      "application/vnd.jupyter.widget-view+json": {
       "model_id": "8b0d2b4182ab41e0b1a23001171e6f22",
       "version_major": 2,
       "version_minor": 0
      },
      "text/plain": [
       "HBox(children=(IntProgress(value=0, max=39083), HTML(value='')))"
      ]
     },
     "metadata": {},
     "output_type": "display_data"
    },
    {
     "name": "stderr",
     "output_type": "stream",
     "text": [
      "/home/jfpuget/anaconda3/envs/xgb8/lib/python3.6/site-packages/ipykernel/__main__.py:4: RuntimeWarning: overflow encountered in multiply\n",
      "/home/jfpuget/anaconda3/envs/xgb8/lib/python3.6/site-packages/ipykernel/__main__.py:4: RuntimeWarning: invalid value encountered in true_divide\n"
     ]
    },
    {
     "name": "stdout",
     "output_type": "stream",
     "text": [
      "ending worker 12\n",
      "starting worker 30\n",
      "\n"
     ]
    },
    {
     "data": {
      "application/vnd.jupyter.widget-view+json": {
       "model_id": "eaa1b42db1234f30b950560ea60a3cb4",
       "version_major": 2,
       "version_minor": 0
      },
      "text/plain": [
       "HBox(children=(IntProgress(value=0, max=39084), HTML(value='')))"
      ]
     },
     "metadata": {},
     "output_type": "display_data"
    },
    {
     "name": "stderr",
     "output_type": "stream",
     "text": [
      "/home/jfpuget/anaconda3/envs/xgb8/lib/python3.6/site-packages/ipykernel/__main__.py:4: RuntimeWarning: overflow encountered in multiply\n",
      "/home/jfpuget/anaconda3/envs/xgb8/lib/python3.6/site-packages/ipykernel/__main__.py:4: RuntimeWarning: invalid value encountered in true_divide\n"
     ]
    },
    {
     "name": "stdout",
     "output_type": "stream",
     "text": [
      "ending worker 11\n",
      "starting worker 31\n"
     ]
    },
    {
     "data": {
      "application/vnd.jupyter.widget-view+json": {
       "model_id": "557c9e940f7b4fd5bdbea91b3407b29c",
       "version_major": 2,
       "version_minor": 0
      },
      "text/plain": [
       "HBox(children=(IntProgress(value=0, max=39058), HTML(value='')))"
      ]
     },
     "metadata": {},
     "output_type": "display_data"
    },
    {
     "name": "stderr",
     "output_type": "stream",
     "text": [
      "/home/jfpuget/anaconda3/envs/xgb8/lib/python3.6/site-packages/ipykernel/__main__.py:4: RuntimeWarning: invalid value encountered in true_divide\n",
      "/home/jfpuget/anaconda3/envs/xgb8/lib/python3.6/site-packages/ipykernel/__main__.py:4: RuntimeWarning: overflow encountered in multiply\n"
     ]
    },
    {
     "name": "stdout",
     "output_type": "stream",
     "text": [
      "\n",
      "ending worker 10\n",
      "starting worker 32\n"
     ]
    },
    {
     "data": {
      "application/vnd.jupyter.widget-view+json": {
       "model_id": "e0f223bf907b424a983a9546084a64ac",
       "version_major": 2,
       "version_minor": 0
      },
      "text/plain": [
       "HBox(children=(IntProgress(value=0, max=39080), HTML(value='')))"
      ]
     },
     "metadata": {},
     "output_type": "display_data"
    },
    {
     "name": "stderr",
     "output_type": "stream",
     "text": [
      "/home/jfpuget/anaconda3/envs/xgb8/lib/python3.6/site-packages/ipykernel/__main__.py:4: RuntimeWarning: invalid value encountered in true_divide\n",
      "/home/jfpuget/anaconda3/envs/xgb8/lib/python3.6/site-packages/ipykernel/__main__.py:4: RuntimeWarning: overflow encountered in multiply\n"
     ]
    },
    {
     "name": "stdout",
     "output_type": "stream",
     "text": [
      "\n",
      "ending worker 9\n",
      "starting worker 33\n"
     ]
    },
    {
     "data": {
      "application/vnd.jupyter.widget-view+json": {
       "model_id": "52e327b9eaa849a5af97fe9d1d4a709c",
       "version_major": 2,
       "version_minor": 0
      },
      "text/plain": [
       "HBox(children=(IntProgress(value=0, max=39072), HTML(value='')))"
      ]
     },
     "metadata": {},
     "output_type": "display_data"
    },
    {
     "name": "stderr",
     "output_type": "stream",
     "text": [
      "/home/jfpuget/anaconda3/envs/xgb8/lib/python3.6/site-packages/ipykernel/__main__.py:4: RuntimeWarning: invalid value encountered in true_divide\n",
      "/home/jfpuget/anaconda3/envs/xgb8/lib/python3.6/site-packages/ipykernel/__main__.py:4: RuntimeWarning: overflow encountered in multiply\n",
      "/home/jfpuget/anaconda3/envs/xgb8/lib/python3.6/site-packages/scipy/optimize/_lsq/common.py:501: RuntimeWarning: invalid value encountered in less\n",
      "  mask = (g < 0) & np.isfinite(ub)\n",
      "/home/jfpuget/anaconda3/envs/xgb8/lib/python3.6/site-packages/scipy/optimize/_lsq/common.py:505: RuntimeWarning: invalid value encountered in greater\n",
      "  mask = (g > 0) & np.isfinite(lb)\n",
      "/home/jfpuget/anaconda3/envs/xgb8/lib/python3.6/site-packages/scipy/optimize/_lsq/common.py:501: RuntimeWarning: invalid value encountered in less\n",
      "  mask = (g < 0) & np.isfinite(ub)\n",
      "/home/jfpuget/anaconda3/envs/xgb8/lib/python3.6/site-packages/scipy/optimize/_lsq/common.py:505: RuntimeWarning: invalid value encountered in greater\n",
      "  mask = (g > 0) & np.isfinite(lb)\n",
      "/home/jfpuget/anaconda3/envs/xgb8/lib/python3.6/site-packages/scipy/optimize/_lsq/common.py:501: RuntimeWarning: invalid value encountered in less\n",
      "  mask = (g < 0) & np.isfinite(ub)\n",
      "/home/jfpuget/anaconda3/envs/xgb8/lib/python3.6/site-packages/scipy/optimize/_lsq/common.py:505: RuntimeWarning: invalid value encountered in greater\n",
      "  mask = (g > 0) & np.isfinite(lb)\n"
     ]
    },
    {
     "name": "stdout",
     "output_type": "stream",
     "text": [
      "\n"
     ]
    },
    {
     "name": "stderr",
     "output_type": "stream",
     "text": [
      "/home/jfpuget/anaconda3/envs/xgb8/lib/python3.6/site-packages/scipy/optimize/_lsq/common.py:501: RuntimeWarning: invalid value encountered in less\n",
      "  mask = (g < 0) & np.isfinite(ub)\n",
      "/home/jfpuget/anaconda3/envs/xgb8/lib/python3.6/site-packages/scipy/optimize/_lsq/common.py:505: RuntimeWarning: invalid value encountered in greater\n",
      "  mask = (g > 0) & np.isfinite(lb)\n"
     ]
    },
    {
     "name": "stdout",
     "output_type": "stream",
     "text": [
      "ending worker 8\n",
      "starting worker 34\n"
     ]
    },
    {
     "data": {
      "application/vnd.jupyter.widget-view+json": {
       "model_id": "e0884abd6d864ce58bf6da7139ee66ad",
       "version_major": 2,
       "version_minor": 0
      },
      "text/plain": [
       "HBox(children=(IntProgress(value=0, max=39073), HTML(value='')))"
      ]
     },
     "metadata": {},
     "output_type": "display_data"
    },
    {
     "name": "stderr",
     "output_type": "stream",
     "text": [
      "/home/jfpuget/anaconda3/envs/xgb8/lib/python3.6/site-packages/ipykernel/__main__.py:4: RuntimeWarning: invalid value encountered in true_divide\n",
      "/home/jfpuget/anaconda3/envs/xgb8/lib/python3.6/site-packages/ipykernel/__main__.py:4: RuntimeWarning: overflow encountered in multiply\n"
     ]
    },
    {
     "name": "stdout",
     "output_type": "stream",
     "text": [
      "\n"
     ]
    },
    {
     "name": "stderr",
     "output_type": "stream",
     "text": [
      "/home/jfpuget/anaconda3/envs/xgb8/lib/python3.6/site-packages/scipy/optimize/_lsq/common.py:501: RuntimeWarning: invalid value encountered in less\n",
      "  mask = (g < 0) & np.isfinite(ub)\n",
      "/home/jfpuget/anaconda3/envs/xgb8/lib/python3.6/site-packages/scipy/optimize/_lsq/common.py:505: RuntimeWarning: invalid value encountered in greater\n",
      "  mask = (g > 0) & np.isfinite(lb)\n"
     ]
    },
    {
     "name": "stdout",
     "output_type": "stream",
     "text": [
      "ending worker 7\n",
      "starting worker 35\n"
     ]
    },
    {
     "data": {
      "application/vnd.jupyter.widget-view+json": {
       "model_id": "3c3193ef258d453a91a20d104af4dcc0",
       "version_major": 2,
       "version_minor": 0
      },
      "text/plain": [
       "HBox(children=(IntProgress(value=0, max=39094), HTML(value='')))"
      ]
     },
     "metadata": {},
     "output_type": "display_data"
    },
    {
     "name": "stderr",
     "output_type": "stream",
     "text": [
      "/home/jfpuget/anaconda3/envs/xgb8/lib/python3.6/site-packages/ipykernel/__main__.py:4: RuntimeWarning: invalid value encountered in true_divide\n",
      "/home/jfpuget/anaconda3/envs/xgb8/lib/python3.6/site-packages/ipykernel/__main__.py:4: RuntimeWarning: overflow encountered in multiply\n"
     ]
    },
    {
     "name": "stdout",
     "output_type": "stream",
     "text": [
      "\n",
      "ending worker 3\n",
      "starting worker 36\n"
     ]
    },
    {
     "name": "stderr",
     "output_type": "stream",
     "text": [
      "/home/jfpuget/anaconda3/envs/xgb8/lib/python3.6/site-packages/scipy/optimize/_lsq/common.py:501: RuntimeWarning: invalid value encountered in less\n",
      "  mask = (g < 0) & np.isfinite(ub)\n",
      "/home/jfpuget/anaconda3/envs/xgb8/lib/python3.6/site-packages/scipy/optimize/_lsq/common.py:505: RuntimeWarning: invalid value encountered in greater\n",
      "  mask = (g > 0) & np.isfinite(lb)\n"
     ]
    },
    {
     "data": {
      "application/vnd.jupyter.widget-view+json": {
       "model_id": "97e4b718b0854274b817bcade40e0ef3",
       "version_major": 2,
       "version_minor": 0
      },
      "text/plain": [
       "HBox(children=(IntProgress(value=0, max=39106), HTML(value='')))"
      ]
     },
     "metadata": {},
     "output_type": "display_data"
    },
    {
     "name": "stderr",
     "output_type": "stream",
     "text": [
      "/home/jfpuget/anaconda3/envs/xgb8/lib/python3.6/site-packages/ipykernel/__main__.py:4: RuntimeWarning: invalid value encountered in true_divide\n",
      "/home/jfpuget/anaconda3/envs/xgb8/lib/python3.6/site-packages/ipykernel/__main__.py:4: RuntimeWarning: overflow encountered in multiply\n"
     ]
    },
    {
     "name": "stdout",
     "output_type": "stream",
     "text": [
      "\n",
      "\n",
      "\n",
      "ending worker 6\n",
      "starting worker 37\n"
     ]
    },
    {
     "data": {
      "application/vnd.jupyter.widget-view+json": {
       "model_id": "a2afae1b8bc145e985bee89521da9ba0",
       "version_major": 2,
       "version_minor": 0
      },
      "text/plain": [
       "HBox(children=(IntProgress(value=0, max=39054), HTML(value='')))"
      ]
     },
     "metadata": {},
     "output_type": "display_data"
    },
    {
     "name": "stdout",
     "output_type": "stream",
     "text": [
      "ending worker 4\n",
      "starting worker 38\n",
      "ending worker 5\n",
      "starting worker 39\n"
     ]
    },
    {
     "data": {
      "application/vnd.jupyter.widget-view+json": {
       "model_id": "4b1ed9ab366a4058830ee6eb113c105d",
       "version_major": 2,
       "version_minor": 0
      },
      "text/plain": [
       "HBox(children=(IntProgress(value=0, max=39070), HTML(value='')))"
      ]
     },
     "metadata": {},
     "output_type": "display_data"
    },
    {
     "data": {
      "application/vnd.jupyter.widget-view+json": {
       "model_id": "b8c8008fc3f44b2d9663555f2508038a",
       "version_major": 2,
       "version_minor": 0
      },
      "text/plain": [
       "HBox(children=(IntProgress(value=0, max=39041), HTML(value='')))"
      ]
     },
     "metadata": {},
     "output_type": "display_data"
    },
    {
     "name": "stderr",
     "output_type": "stream",
     "text": [
      "/home/jfpuget/anaconda3/envs/xgb8/lib/python3.6/site-packages/ipykernel/__main__.py:4: RuntimeWarning: invalid value encountered in true_divide\n",
      "/home/jfpuget/anaconda3/envs/xgb8/lib/python3.6/site-packages/ipykernel/__main__.py:4: RuntimeWarning: overflow encountered in multiply\n",
      "/home/jfpuget/anaconda3/envs/xgb8/lib/python3.6/site-packages/ipykernel/__main__.py:4: RuntimeWarning: overflow encountered in multiply\n",
      "/home/jfpuget/anaconda3/envs/xgb8/lib/python3.6/site-packages/ipykernel/__main__.py:4: RuntimeWarning: invalid value encountered in true_divide\n",
      "/home/jfpuget/anaconda3/envs/xgb8/lib/python3.6/site-packages/scipy/optimize/_lsq/common.py:501: RuntimeWarning: invalid value encountered in less\n",
      "  mask = (g < 0) & np.isfinite(ub)\n",
      "/home/jfpuget/anaconda3/envs/xgb8/lib/python3.6/site-packages/scipy/optimize/_lsq/common.py:505: RuntimeWarning: invalid value encountered in greater\n",
      "  mask = (g > 0) & np.isfinite(lb)\n",
      "/home/jfpuget/anaconda3/envs/xgb8/lib/python3.6/site-packages/ipykernel/__main__.py:4: RuntimeWarning: invalid value encountered in true_divide\n",
      "/home/jfpuget/anaconda3/envs/xgb8/lib/python3.6/site-packages/ipykernel/__main__.py:4: RuntimeWarning: overflow encountered in multiply\n",
      "/home/jfpuget/anaconda3/envs/xgb8/lib/python3.6/site-packages/scipy/optimize/_lsq/common.py:501: RuntimeWarning: invalid value encountered in less\n",
      "  mask = (g < 0) & np.isfinite(ub)\n",
      "/home/jfpuget/anaconda3/envs/xgb8/lib/python3.6/site-packages/scipy/optimize/_lsq/common.py:505: RuntimeWarning: invalid value encountered in greater\n",
      "  mask = (g > 0) & np.isfinite(lb)\n",
      "/home/jfpuget/anaconda3/envs/xgb8/lib/python3.6/site-packages/scipy/optimize/_lsq/common.py:501: RuntimeWarning: invalid value encountered in less\n",
      "  mask = (g < 0) & np.isfinite(ub)\n",
      "/home/jfpuget/anaconda3/envs/xgb8/lib/python3.6/site-packages/scipy/optimize/_lsq/common.py:505: RuntimeWarning: invalid value encountered in greater\n",
      "  mask = (g > 0) & np.isfinite(lb)\n",
      "/home/jfpuget/anaconda3/envs/xgb8/lib/python3.6/site-packages/scipy/optimize/_lsq/common.py:501: RuntimeWarning: invalid value encountered in less\n",
      "  mask = (g < 0) & np.isfinite(ub)\n",
      "/home/jfpuget/anaconda3/envs/xgb8/lib/python3.6/site-packages/scipy/optimize/_lsq/common.py:505: RuntimeWarning: invalid value encountered in greater\n",
      "  mask = (g > 0) & np.isfinite(lb)\n",
      "/home/jfpuget/anaconda3/envs/xgb8/lib/python3.6/site-packages/scipy/optimize/_lsq/common.py:501: RuntimeWarning: invalid value encountered in less\n",
      "  mask = (g < 0) & np.isfinite(ub)\n",
      "/home/jfpuget/anaconda3/envs/xgb8/lib/python3.6/site-packages/scipy/optimize/_lsq/common.py:505: RuntimeWarning: invalid value encountered in greater\n",
      "  mask = (g > 0) & np.isfinite(lb)\n",
      "/home/jfpuget/anaconda3/envs/xgb8/lib/python3.6/site-packages/scipy/optimize/_lsq/common.py:501: RuntimeWarning: invalid value encountered in less\n",
      "  mask = (g < 0) & np.isfinite(ub)\n",
      "/home/jfpuget/anaconda3/envs/xgb8/lib/python3.6/site-packages/scipy/optimize/_lsq/common.py:505: RuntimeWarning: invalid value encountered in greater\n",
      "  mask = (g > 0) & np.isfinite(lb)\n",
      "/home/jfpuget/anaconda3/envs/xgb8/lib/python3.6/site-packages/scipy/optimize/_lsq/common.py:501: RuntimeWarning: invalid value encountered in less\n",
      "  mask = (g < 0) & np.isfinite(ub)\n",
      "/home/jfpuget/anaconda3/envs/xgb8/lib/python3.6/site-packages/scipy/optimize/_lsq/common.py:505: RuntimeWarning: invalid value encountered in greater\n",
      "  mask = (g > 0) & np.isfinite(lb)\n",
      "/home/jfpuget/anaconda3/envs/xgb8/lib/python3.6/site-packages/scipy/optimize/_lsq/common.py:501: RuntimeWarning: invalid value encountered in less\n",
      "  mask = (g < 0) & np.isfinite(ub)\n",
      "/home/jfpuget/anaconda3/envs/xgb8/lib/python3.6/site-packages/scipy/optimize/_lsq/common.py:505: RuntimeWarning: invalid value encountered in greater\n",
      "  mask = (g > 0) & np.isfinite(lb)\n",
      "/home/jfpuget/anaconda3/envs/xgb8/lib/python3.6/site-packages/scipy/optimize/_lsq/common.py:501: RuntimeWarning: invalid value encountered in less\n",
      "  mask = (g < 0) & np.isfinite(ub)\n",
      "/home/jfpuget/anaconda3/envs/xgb8/lib/python3.6/site-packages/scipy/optimize/_lsq/common.py:505: RuntimeWarning: invalid value encountered in greater\n",
      "  mask = (g > 0) & np.isfinite(lb)\n",
      "/home/jfpuget/anaconda3/envs/xgb8/lib/python3.6/site-packages/scipy/optimize/_lsq/common.py:501: RuntimeWarning: invalid value encountered in less\n",
      "  mask = (g < 0) & np.isfinite(ub)\n",
      "/home/jfpuget/anaconda3/envs/xgb8/lib/python3.6/site-packages/scipy/optimize/_lsq/common.py:505: RuntimeWarning: invalid value encountered in greater\n",
      "  mask = (g > 0) & np.isfinite(lb)\n",
      "/home/jfpuget/anaconda3/envs/xgb8/lib/python3.6/site-packages/scipy/optimize/_lsq/common.py:501: RuntimeWarning: invalid value encountered in less\n",
      "  mask = (g < 0) & np.isfinite(ub)\n",
      "/home/jfpuget/anaconda3/envs/xgb8/lib/python3.6/site-packages/scipy/optimize/_lsq/common.py:505: RuntimeWarning: invalid value encountered in greater\n",
      "  mask = (g > 0) & np.isfinite(lb)\n"
     ]
    },
    {
     "name": "stdout",
     "output_type": "stream",
     "text": [
      "\n",
      "ending worker 20\n",
      "starting worker 40\n"
     ]
    },
    {
     "data": {
      "application/vnd.jupyter.widget-view+json": {
       "model_id": "6032fadf4c554f168dfa2d13160fc29b",
       "version_major": 2,
       "version_minor": 0
      },
      "text/plain": [
       "HBox(children=(IntProgress(value=0, max=39098), HTML(value='')))"
      ]
     },
     "metadata": {},
     "output_type": "display_data"
    },
    {
     "name": "stderr",
     "output_type": "stream",
     "text": [
      "/home/jfpuget/anaconda3/envs/xgb8/lib/python3.6/site-packages/ipykernel/__main__.py:4: RuntimeWarning: invalid value encountered in true_divide\n",
      "/home/jfpuget/anaconda3/envs/xgb8/lib/python3.6/site-packages/ipykernel/__main__.py:4: RuntimeWarning: overflow encountered in multiply\n"
     ]
    },
    {
     "name": "stdout",
     "output_type": "stream",
     "text": [
      "\n",
      "ending worker 21\n",
      "starting worker 41\n"
     ]
    },
    {
     "data": {
      "application/vnd.jupyter.widget-view+json": {
       "model_id": "c92a22ef8cf74228a84b2aef8b33ac8b",
       "version_major": 2,
       "version_minor": 0
      },
      "text/plain": [
       "HBox(children=(IntProgress(value=0, max=39046), HTML(value='')))"
      ]
     },
     "metadata": {},
     "output_type": "display_data"
    },
    {
     "name": "stderr",
     "output_type": "stream",
     "text": [
      "/home/jfpuget/anaconda3/envs/xgb8/lib/python3.6/site-packages/ipykernel/__main__.py:4: RuntimeWarning: invalid value encountered in true_divide\n",
      "/home/jfpuget/anaconda3/envs/xgb8/lib/python3.6/site-packages/ipykernel/__main__.py:4: RuntimeWarning: overflow encountered in multiply\n",
      "/home/jfpuget/anaconda3/envs/xgb8/lib/python3.6/site-packages/scipy/optimize/_lsq/common.py:501: RuntimeWarning: invalid value encountered in less\n",
      "  mask = (g < 0) & np.isfinite(ub)\n",
      "/home/jfpuget/anaconda3/envs/xgb8/lib/python3.6/site-packages/scipy/optimize/_lsq/common.py:505: RuntimeWarning: invalid value encountered in greater\n",
      "  mask = (g > 0) & np.isfinite(lb)\n",
      "/home/jfpuget/anaconda3/envs/xgb8/lib/python3.6/site-packages/scipy/optimize/_lsq/common.py:501: RuntimeWarning: invalid value encountered in less\n",
      "  mask = (g < 0) & np.isfinite(ub)\n",
      "/home/jfpuget/anaconda3/envs/xgb8/lib/python3.6/site-packages/scipy/optimize/_lsq/common.py:505: RuntimeWarning: invalid value encountered in greater\n",
      "  mask = (g > 0) & np.isfinite(lb)\n"
     ]
    },
    {
     "name": "stdout",
     "output_type": "stream",
     "text": [
      "\n",
      "ending worker 31\n",
      "starting worker 42\n",
      "\n"
     ]
    },
    {
     "data": {
      "application/vnd.jupyter.widget-view+json": {
       "model_id": "d3750226338e44da9afcffacab7c33da",
       "version_major": 2,
       "version_minor": 0
      },
      "text/plain": [
       "HBox(children=(IntProgress(value=0, max=39022), HTML(value='')))"
      ]
     },
     "metadata": {},
     "output_type": "display_data"
    },
    {
     "name": "stderr",
     "output_type": "stream",
     "text": [
      "/home/jfpuget/anaconda3/envs/xgb8/lib/python3.6/site-packages/ipykernel/__main__.py:4: RuntimeWarning: invalid value encountered in true_divide\n",
      "/home/jfpuget/anaconda3/envs/xgb8/lib/python3.6/site-packages/ipykernel/__main__.py:4: RuntimeWarning: overflow encountered in multiply\n"
     ]
    },
    {
     "name": "stdout",
     "output_type": "stream",
     "text": [
      "ending worker 39\n",
      "starting worker 43\n"
     ]
    },
    {
     "data": {
      "application/vnd.jupyter.widget-view+json": {
       "model_id": "716caf5048af4ceeae91e311629ef01b",
       "version_major": 2,
       "version_minor": 0
      },
      "text/plain": [
       "HBox(children=(IntProgress(value=0, max=39002), HTML(value='')))"
      ]
     },
     "metadata": {},
     "output_type": "display_data"
    },
    {
     "name": "stderr",
     "output_type": "stream",
     "text": [
      "/home/jfpuget/anaconda3/envs/xgb8/lib/python3.6/site-packages/ipykernel/__main__.py:4: RuntimeWarning: overflow encountered in multiply\n",
      "/home/jfpuget/anaconda3/envs/xgb8/lib/python3.6/site-packages/ipykernel/__main__.py:4: RuntimeWarning: invalid value encountered in true_divide\n"
     ]
    },
    {
     "name": "stdout",
     "output_type": "stream",
     "text": [
      "\n",
      "ending worker 38\n",
      "starting worker 44\n"
     ]
    },
    {
     "data": {
      "application/vnd.jupyter.widget-view+json": {
       "model_id": "9f417dc97c564adeaa1a5163a78dda17",
       "version_major": 2,
       "version_minor": 0
      },
      "text/plain": [
       "HBox(children=(IntProgress(value=0, max=39027), HTML(value='')))"
      ]
     },
     "metadata": {},
     "output_type": "display_data"
    },
    {
     "name": "stderr",
     "output_type": "stream",
     "text": [
      "/home/jfpuget/anaconda3/envs/xgb8/lib/python3.6/site-packages/scipy/optimize/_lsq/common.py:501: RuntimeWarning: invalid value encountered in less\n",
      "  mask = (g < 0) & np.isfinite(ub)\n",
      "/home/jfpuget/anaconda3/envs/xgb8/lib/python3.6/site-packages/scipy/optimize/_lsq/common.py:505: RuntimeWarning: invalid value encountered in greater\n",
      "  mask = (g > 0) & np.isfinite(lb)\n",
      "/home/jfpuget/anaconda3/envs/xgb8/lib/python3.6/site-packages/ipykernel/__main__.py:4: RuntimeWarning: overflow encountered in multiply\n",
      "/home/jfpuget/anaconda3/envs/xgb8/lib/python3.6/site-packages/ipykernel/__main__.py:4: RuntimeWarning: invalid value encountered in true_divide\n"
     ]
    },
    {
     "name": "stdout",
     "output_type": "stream",
     "text": [
      "\n",
      "\n",
      "\n",
      "ending worker 30\n",
      "starting worker 45\n"
     ]
    },
    {
     "data": {
      "application/vnd.jupyter.widget-view+json": {
       "model_id": "31f5508d0db347e5a4e174f0d8480939",
       "version_major": 2,
       "version_minor": 0
      },
      "text/plain": [
       "HBox(children=(IntProgress(value=0, max=39035), HTML(value='')))"
      ]
     },
     "metadata": {},
     "output_type": "display_data"
    },
    {
     "name": "stderr",
     "output_type": "stream",
     "text": [
      "/home/jfpuget/anaconda3/envs/xgb8/lib/python3.6/site-packages/ipykernel/__main__.py:4: RuntimeWarning: invalid value encountered in true_divide\n"
     ]
    },
    {
     "name": "stdout",
     "output_type": "stream",
     "text": [
      "\n"
     ]
    },
    {
     "name": "stderr",
     "output_type": "stream",
     "text": [
      "/home/jfpuget/anaconda3/envs/xgb8/lib/python3.6/site-packages/ipykernel/__main__.py:4: RuntimeWarning: overflow encountered in multiply\n"
     ]
    },
    {
     "name": "stdout",
     "output_type": "stream",
     "text": [
      "ending worker 36\n"
     ]
    },
    {
     "name": "stderr",
     "output_type": "stream",
     "text": [
      "/home/jfpuget/anaconda3/envs/xgb8/lib/python3.6/site-packages/scipy/optimize/_lsq/common.py:501: RuntimeWarning: invalid value encountered in less\n",
      "  mask = (g < 0) & np.isfinite(ub)\n",
      "/home/jfpuget/anaconda3/envs/xgb8/lib/python3.6/site-packages/scipy/optimize/_lsq/common.py:505: RuntimeWarning: invalid value encountered in greater\n",
      "  mask = (g > 0) & np.isfinite(lb)\n"
     ]
    },
    {
     "name": "stdout",
     "output_type": "stream",
     "text": [
      "starting worker 46\n"
     ]
    },
    {
     "data": {
      "application/vnd.jupyter.widget-view+json": {
       "model_id": "dfd8608c96e44c03885d006df74b109a",
       "version_major": 2,
       "version_minor": 0
      },
      "text/plain": [
       "HBox(children=(IntProgress(value=0, max=39069), HTML(value='')))"
      ]
     },
     "metadata": {},
     "output_type": "display_data"
    },
    {
     "name": "stderr",
     "output_type": "stream",
     "text": [
      "/home/jfpuget/anaconda3/envs/xgb8/lib/python3.6/site-packages/ipykernel/__main__.py:4: RuntimeWarning: invalid value encountered in true_divide\n",
      "/home/jfpuget/anaconda3/envs/xgb8/lib/python3.6/site-packages/ipykernel/__main__.py:4: RuntimeWarning: overflow encountered in multiply\n",
      "/home/jfpuget/anaconda3/envs/xgb8/lib/python3.6/site-packages/scipy/optimize/_lsq/common.py:501: RuntimeWarning: invalid value encountered in less\n",
      "  mask = (g < 0) & np.isfinite(ub)\n",
      "/home/jfpuget/anaconda3/envs/xgb8/lib/python3.6/site-packages/scipy/optimize/_lsq/common.py:505: RuntimeWarning: invalid value encountered in greater\n",
      "  mask = (g > 0) & np.isfinite(lb)\n"
     ]
    },
    {
     "name": "stdout",
     "output_type": "stream",
     "text": [
      "ending worker 22\n",
      "starting worker 47\n"
     ]
    },
    {
     "data": {
      "application/vnd.jupyter.widget-view+json": {
       "model_id": "c3d87f45627e45668d384320fdafa41a",
       "version_major": 2,
       "version_minor": 0
      },
      "text/plain": [
       "HBox(children=(IntProgress(value=0, max=39063), HTML(value='')))"
      ]
     },
     "metadata": {},
     "output_type": "display_data"
    },
    {
     "name": "stderr",
     "output_type": "stream",
     "text": [
      "/home/jfpuget/anaconda3/envs/xgb8/lib/python3.6/site-packages/ipykernel/__main__.py:4: RuntimeWarning: invalid value encountered in true_divide\n"
     ]
    },
    {
     "name": "stdout",
     "output_type": "stream",
     "text": [
      "ending worker 32\n",
      "starting worker 48\n"
     ]
    },
    {
     "data": {
      "application/vnd.jupyter.widget-view+json": {
       "model_id": "7be97ff5413a43169caea1cc794e2b16",
       "version_major": 2,
       "version_minor": 0
      },
      "text/plain": [
       "HBox(children=(IntProgress(value=0, max=39090), HTML(value='')))"
      ]
     },
     "metadata": {},
     "output_type": "display_data"
    },
    {
     "name": "stdout",
     "output_type": "stream",
     "text": [
      "\n"
     ]
    },
    {
     "name": "stderr",
     "output_type": "stream",
     "text": [
      "/home/jfpuget/anaconda3/envs/xgb8/lib/python3.6/site-packages/ipykernel/__main__.py:4: RuntimeWarning: overflow encountered in multiply\n",
      "/home/jfpuget/anaconda3/envs/xgb8/lib/python3.6/site-packages/ipykernel/__main__.py:4: RuntimeWarning: invalid value encountered in true_divide\n",
      "/home/jfpuget/anaconda3/envs/xgb8/lib/python3.6/site-packages/ipykernel/__main__.py:4: RuntimeWarning: overflow encountered in multiply\n"
     ]
    },
    {
     "name": "stdout",
     "output_type": "stream",
     "text": [
      "\n",
      "ending worker 35\n",
      "starting worker 49\n"
     ]
    },
    {
     "data": {
      "application/vnd.jupyter.widget-view+json": {
       "model_id": "9f6a50fd87ee452ebd01a4e85fb88241",
       "version_major": 2,
       "version_minor": 0
      },
      "text/plain": [
       "HBox(children=(IntProgress(value=0, max=39079), HTML(value='')))"
      ]
     },
     "metadata": {},
     "output_type": "display_data"
    },
    {
     "name": "stderr",
     "output_type": "stream",
     "text": [
      "/home/jfpuget/anaconda3/envs/xgb8/lib/python3.6/site-packages/ipykernel/__main__.py:4: RuntimeWarning: invalid value encountered in true_divide\n",
      "/home/jfpuget/anaconda3/envs/xgb8/lib/python3.6/site-packages/ipykernel/__main__.py:4: RuntimeWarning: overflow encountered in multiply\n"
     ]
    },
    {
     "name": "stdout",
     "output_type": "stream",
     "text": [
      "ending worker 29\n",
      "starting worker 50\n"
     ]
    },
    {
     "data": {
      "application/vnd.jupyter.widget-view+json": {
       "model_id": "d461253f2d984553ab253d35c1302db5",
       "version_major": 2,
       "version_minor": 0
      },
      "text/plain": [
       "HBox(children=(IntProgress(value=0, max=39079), HTML(value='')))"
      ]
     },
     "metadata": {},
     "output_type": "display_data"
    },
    {
     "name": "stdout",
     "output_type": "stream",
     "text": [
      "\n"
     ]
    },
    {
     "name": "stderr",
     "output_type": "stream",
     "text": [
      "/home/jfpuget/anaconda3/envs/xgb8/lib/python3.6/site-packages/scipy/optimize/_lsq/common.py:501: RuntimeWarning: invalid value encountered in less\n",
      "  mask = (g < 0) & np.isfinite(ub)\n",
      "/home/jfpuget/anaconda3/envs/xgb8/lib/python3.6/site-packages/scipy/optimize/_lsq/common.py:505: RuntimeWarning: invalid value encountered in greater\n",
      "  mask = (g > 0) & np.isfinite(lb)\n",
      "/home/jfpuget/anaconda3/envs/xgb8/lib/python3.6/site-packages/ipykernel/__main__.py:4: RuntimeWarning: overflow encountered in multiply\n",
      "/home/jfpuget/anaconda3/envs/xgb8/lib/python3.6/site-packages/ipykernel/__main__.py:4: RuntimeWarning: invalid value encountered in true_divide\n"
     ]
    },
    {
     "name": "stdout",
     "output_type": "stream",
     "text": [
      "\n",
      "ending worker 37\n",
      "starting worker 51\n"
     ]
    },
    {
     "data": {
      "application/vnd.jupyter.widget-view+json": {
       "model_id": "7168f9f39d2143c0a24773ff71fc987d",
       "version_major": 2,
       "version_minor": 0
      },
      "text/plain": [
       "HBox(children=(IntProgress(value=0, max=39076), HTML(value='')))"
      ]
     },
     "metadata": {},
     "output_type": "display_data"
    },
    {
     "name": "stderr",
     "output_type": "stream",
     "text": [
      "/home/jfpuget/anaconda3/envs/xgb8/lib/python3.6/site-packages/ipykernel/__main__.py:4: RuntimeWarning: invalid value encountered in true_divide\n",
      "/home/jfpuget/anaconda3/envs/xgb8/lib/python3.6/site-packages/ipykernel/__main__.py:4: RuntimeWarning: overflow encountered in multiply\n"
     ]
    },
    {
     "name": "stdout",
     "output_type": "stream",
     "text": [
      "ending worker 25\n",
      "starting worker 52\n"
     ]
    },
    {
     "name": "stderr",
     "output_type": "stream",
     "text": [
      "/home/jfpuget/anaconda3/envs/xgb8/lib/python3.6/site-packages/scipy/optimize/_lsq/common.py:501: RuntimeWarning: invalid value encountered in less\n",
      "  mask = (g < 0) & np.isfinite(ub)\n",
      "/home/jfpuget/anaconda3/envs/xgb8/lib/python3.6/site-packages/scipy/optimize/_lsq/common.py:505: RuntimeWarning: invalid value encountered in greater\n",
      "  mask = (g > 0) & np.isfinite(lb)\n"
     ]
    },
    {
     "data": {
      "application/vnd.jupyter.widget-view+json": {
       "model_id": "3aee39e41811426bafcc1bf088c097b5",
       "version_major": 2,
       "version_minor": 0
      },
      "text/plain": [
       "HBox(children=(IntProgress(value=0, max=39084), HTML(value='')))"
      ]
     },
     "metadata": {},
     "output_type": "display_data"
    },
    {
     "name": "stdout",
     "output_type": "stream",
     "text": [
      "\n"
     ]
    },
    {
     "name": "stderr",
     "output_type": "stream",
     "text": [
      "/home/jfpuget/anaconda3/envs/xgb8/lib/python3.6/site-packages/scipy/optimize/_lsq/common.py:501: RuntimeWarning: invalid value encountered in less\n",
      "  mask = (g < 0) & np.isfinite(ub)\n",
      "/home/jfpuget/anaconda3/envs/xgb8/lib/python3.6/site-packages/scipy/optimize/_lsq/common.py:505: RuntimeWarning: invalid value encountered in greater\n",
      "  mask = (g > 0) & np.isfinite(lb)\n",
      "/home/jfpuget/anaconda3/envs/xgb8/lib/python3.6/site-packages/ipykernel/__main__.py:4: RuntimeWarning: overflow encountered in multiply\n",
      "/home/jfpuget/anaconda3/envs/xgb8/lib/python3.6/site-packages/ipykernel/__main__.py:4: RuntimeWarning: invalid value encountered in true_divide\n"
     ]
    },
    {
     "name": "stdout",
     "output_type": "stream",
     "text": [
      "ending worker 26\n",
      "starting worker 53\n"
     ]
    },
    {
     "data": {
      "application/vnd.jupyter.widget-view+json": {
       "model_id": "f5176604706446d6b4e811b86582a88d",
       "version_major": 2,
       "version_minor": 0
      },
      "text/plain": [
       "HBox(children=(IntProgress(value=0, max=39037), HTML(value='')))"
      ]
     },
     "metadata": {},
     "output_type": "display_data"
    },
    {
     "name": "stdout",
     "output_type": "stream",
     "text": [
      "\n"
     ]
    },
    {
     "name": "stderr",
     "output_type": "stream",
     "text": [
      "/home/jfpuget/anaconda3/envs/xgb8/lib/python3.6/site-packages/ipykernel/__main__.py:4: RuntimeWarning: invalid value encountered in true_divide\n",
      "/home/jfpuget/anaconda3/envs/xgb8/lib/python3.6/site-packages/ipykernel/__main__.py:4: RuntimeWarning: overflow encountered in multiply\n"
     ]
    },
    {
     "name": "stdout",
     "output_type": "stream",
     "text": [
      "\n",
      "\n",
      "ending worker 27\n",
      "starting worker 54\n"
     ]
    },
    {
     "data": {
      "application/vnd.jupyter.widget-view+json": {
       "model_id": "8cb53e1d5bb44655ba4c8b54c68ba0eb",
       "version_major": 2,
       "version_minor": 0
      },
      "text/plain": [
       "HBox(children=(IntProgress(value=0, max=39054), HTML(value='')))"
      ]
     },
     "metadata": {},
     "output_type": "display_data"
    },
    {
     "name": "stdout",
     "output_type": "stream",
     "text": [
      "ending worker 24\n",
      "starting worker 55\n"
     ]
    },
    {
     "name": "stderr",
     "output_type": "stream",
     "text": [
      "/home/jfpuget/anaconda3/envs/xgb8/lib/python3.6/site-packages/ipykernel/__main__.py:4: RuntimeWarning: invalid value encountered in true_divide\n",
      "/home/jfpuget/anaconda3/envs/xgb8/lib/python3.6/site-packages/ipykernel/__main__.py:4: RuntimeWarning: overflow encountered in multiply\n"
     ]
    },
    {
     "data": {
      "application/vnd.jupyter.widget-view+json": {
       "model_id": "2d8ea5038f364f678bdeea369b0e9ce0",
       "version_major": 2,
       "version_minor": 0
      },
      "text/plain": [
       "HBox(children=(IntProgress(value=0, max=39078), HTML(value='')))"
      ]
     },
     "metadata": {},
     "output_type": "display_data"
    },
    {
     "name": "stderr",
     "output_type": "stream",
     "text": [
      "/home/jfpuget/anaconda3/envs/xgb8/lib/python3.6/site-packages/ipykernel/__main__.py:4: RuntimeWarning: invalid value encountered in true_divide\n",
      "/home/jfpuget/anaconda3/envs/xgb8/lib/python3.6/site-packages/ipykernel/__main__.py:4: RuntimeWarning: overflow encountered in multiply\n"
     ]
    },
    {
     "name": "stdout",
     "output_type": "stream",
     "text": [
      "ending worker 23\n",
      "starting worker 56\n"
     ]
    },
    {
     "data": {
      "application/vnd.jupyter.widget-view+json": {
       "model_id": "73548e38dc6c4797a9bc3a1d630c5911",
       "version_major": 2,
       "version_minor": 0
      },
      "text/plain": [
       "HBox(children=(IntProgress(value=0, max=39085), HTML(value='')))"
      ]
     },
     "metadata": {},
     "output_type": "display_data"
    },
    {
     "name": "stderr",
     "output_type": "stream",
     "text": [
      "/home/jfpuget/anaconda3/envs/xgb8/lib/python3.6/site-packages/ipykernel/__main__.py:4: RuntimeWarning: invalid value encountered in true_divide\n",
      "/home/jfpuget/anaconda3/envs/xgb8/lib/python3.6/site-packages/ipykernel/__main__.py:4: RuntimeWarning: overflow encountered in multiply\n"
     ]
    },
    {
     "name": "stdout",
     "output_type": "stream",
     "text": [
      "\n",
      "\n",
      "ending worker 34\n",
      "starting worker 57\n"
     ]
    },
    {
     "data": {
      "application/vnd.jupyter.widget-view+json": {
       "model_id": "a3b6e41e190c4a268f9db35415623b68",
       "version_major": 2,
       "version_minor": 0
      },
      "text/plain": [
       "HBox(children=(IntProgress(value=0, max=39076), HTML(value='')))"
      ]
     },
     "metadata": {},
     "output_type": "display_data"
    },
    {
     "name": "stderr",
     "output_type": "stream",
     "text": [
      "/home/jfpuget/anaconda3/envs/xgb8/lib/python3.6/site-packages/ipykernel/__main__.py:4: RuntimeWarning: invalid value encountered in true_divide\n",
      "/home/jfpuget/anaconda3/envs/xgb8/lib/python3.6/site-packages/ipykernel/__main__.py:4: RuntimeWarning: overflow encountered in multiply\n"
     ]
    },
    {
     "name": "stdout",
     "output_type": "stream",
     "text": [
      "ending worker 28\n",
      "starting worker 58\n"
     ]
    },
    {
     "data": {
      "application/vnd.jupyter.widget-view+json": {
       "model_id": "d3d5b01f5af14d5ea927e4ad54219212",
       "version_major": 2,
       "version_minor": 0
      },
      "text/plain": [
       "HBox(children=(IntProgress(value=0, max=39085), HTML(value='')))"
      ]
     },
     "metadata": {},
     "output_type": "display_data"
    },
    {
     "name": "stderr",
     "output_type": "stream",
     "text": [
      "/home/jfpuget/anaconda3/envs/xgb8/lib/python3.6/site-packages/ipykernel/__main__.py:4: RuntimeWarning: invalid value encountered in true_divide\n",
      "/home/jfpuget/anaconda3/envs/xgb8/lib/python3.6/site-packages/ipykernel/__main__.py:4: RuntimeWarning: overflow encountered in multiply\n",
      "/home/jfpuget/anaconda3/envs/xgb8/lib/python3.6/site-packages/scipy/optimize/_lsq/common.py:501: RuntimeWarning: invalid value encountered in less\n",
      "  mask = (g < 0) & np.isfinite(ub)\n",
      "/home/jfpuget/anaconda3/envs/xgb8/lib/python3.6/site-packages/scipy/optimize/_lsq/common.py:505: RuntimeWarning: invalid value encountered in greater\n",
      "  mask = (g > 0) & np.isfinite(lb)\n"
     ]
    },
    {
     "name": "stdout",
     "output_type": "stream",
     "text": [
      "\n"
     ]
    },
    {
     "name": "stderr",
     "output_type": "stream",
     "text": [
      "/home/jfpuget/anaconda3/envs/xgb8/lib/python3.6/site-packages/scipy/optimize/_lsq/common.py:501: RuntimeWarning: invalid value encountered in less\n",
      "  mask = (g < 0) & np.isfinite(ub)\n",
      "/home/jfpuget/anaconda3/envs/xgb8/lib/python3.6/site-packages/scipy/optimize/_lsq/common.py:505: RuntimeWarning: invalid value encountered in greater\n",
      "  mask = (g > 0) & np.isfinite(lb)\n"
     ]
    },
    {
     "name": "stdout",
     "output_type": "stream",
     "text": [
      "ending worker 33\n",
      "starting worker 59\n"
     ]
    },
    {
     "data": {
      "application/vnd.jupyter.widget-view+json": {
       "model_id": "67515ffa83d646af8a47f710ec612b56",
       "version_major": 2,
       "version_minor": 0
      },
      "text/plain": [
       "HBox(children=(IntProgress(value=0, max=39051), HTML(value='')))"
      ]
     },
     "metadata": {},
     "output_type": "display_data"
    },
    {
     "name": "stderr",
     "output_type": "stream",
     "text": [
      "/home/jfpuget/anaconda3/envs/xgb8/lib/python3.6/site-packages/ipykernel/__main__.py:4: RuntimeWarning: invalid value encountered in true_divide\n",
      "/home/jfpuget/anaconda3/envs/xgb8/lib/python3.6/site-packages/scipy/optimize/_lsq/common.py:501: RuntimeWarning: invalid value encountered in less\n",
      "  mask = (g < 0) & np.isfinite(ub)\n",
      "/home/jfpuget/anaconda3/envs/xgb8/lib/python3.6/site-packages/scipy/optimize/_lsq/common.py:505: RuntimeWarning: invalid value encountered in greater\n",
      "  mask = (g > 0) & np.isfinite(lb)\n",
      "/home/jfpuget/anaconda3/envs/xgb8/lib/python3.6/site-packages/ipykernel/__main__.py:4: RuntimeWarning: overflow encountered in multiply\n",
      "/home/jfpuget/anaconda3/envs/xgb8/lib/python3.6/site-packages/scipy/optimize/_lsq/common.py:501: RuntimeWarning: invalid value encountered in less\n",
      "  mask = (g < 0) & np.isfinite(ub)\n",
      "/home/jfpuget/anaconda3/envs/xgb8/lib/python3.6/site-packages/scipy/optimize/_lsq/common.py:505: RuntimeWarning: invalid value encountered in greater\n",
      "  mask = (g > 0) & np.isfinite(lb)\n",
      "/home/jfpuget/anaconda3/envs/xgb8/lib/python3.6/site-packages/scipy/optimize/_lsq/common.py:501: RuntimeWarning: invalid value encountered in less\n",
      "  mask = (g < 0) & np.isfinite(ub)\n",
      "/home/jfpuget/anaconda3/envs/xgb8/lib/python3.6/site-packages/scipy/optimize/_lsq/common.py:505: RuntimeWarning: invalid value encountered in greater\n",
      "  mask = (g > 0) & np.isfinite(lb)\n",
      "/home/jfpuget/anaconda3/envs/xgb8/lib/python3.6/site-packages/scipy/optimize/_lsq/common.py:501: RuntimeWarning: invalid value encountered in less\n",
      "  mask = (g < 0) & np.isfinite(ub)\n",
      "/home/jfpuget/anaconda3/envs/xgb8/lib/python3.6/site-packages/scipy/optimize/_lsq/common.py:505: RuntimeWarning: invalid value encountered in greater\n",
      "  mask = (g > 0) & np.isfinite(lb)\n",
      "/home/jfpuget/anaconda3/envs/xgb8/lib/python3.6/site-packages/scipy/optimize/_lsq/common.py:501: RuntimeWarning: invalid value encountered in less\n",
      "  mask = (g < 0) & np.isfinite(ub)\n",
      "/home/jfpuget/anaconda3/envs/xgb8/lib/python3.6/site-packages/scipy/optimize/_lsq/common.py:505: RuntimeWarning: invalid value encountered in greater\n",
      "  mask = (g > 0) & np.isfinite(lb)\n",
      "/home/jfpuget/anaconda3/envs/xgb8/lib/python3.6/site-packages/scipy/optimize/_lsq/common.py:501: RuntimeWarning: invalid value encountered in less\n",
      "  mask = (g < 0) & np.isfinite(ub)\n",
      "/home/jfpuget/anaconda3/envs/xgb8/lib/python3.6/site-packages/scipy/optimize/_lsq/common.py:505: RuntimeWarning: invalid value encountered in greater\n",
      "  mask = (g > 0) & np.isfinite(lb)\n",
      "/home/jfpuget/anaconda3/envs/xgb8/lib/python3.6/site-packages/scipy/optimize/_lsq/common.py:501: RuntimeWarning: invalid value encountered in less\n",
      "  mask = (g < 0) & np.isfinite(ub)\n",
      "/home/jfpuget/anaconda3/envs/xgb8/lib/python3.6/site-packages/scipy/optimize/_lsq/common.py:505: RuntimeWarning: invalid value encountered in greater\n",
      "  mask = (g > 0) & np.isfinite(lb)\n",
      "/home/jfpuget/anaconda3/envs/xgb8/lib/python3.6/site-packages/scipy/optimize/_lsq/common.py:501: RuntimeWarning: invalid value encountered in less\n",
      "  mask = (g < 0) & np.isfinite(ub)\n",
      "/home/jfpuget/anaconda3/envs/xgb8/lib/python3.6/site-packages/scipy/optimize/_lsq/common.py:505: RuntimeWarning: invalid value encountered in greater\n",
      "  mask = (g > 0) & np.isfinite(lb)\n",
      "/home/jfpuget/anaconda3/envs/xgb8/lib/python3.6/site-packages/scipy/optimize/_lsq/common.py:501: RuntimeWarning: invalid value encountered in less\n",
      "  mask = (g < 0) & np.isfinite(ub)\n",
      "/home/jfpuget/anaconda3/envs/xgb8/lib/python3.6/site-packages/scipy/optimize/_lsq/common.py:505: RuntimeWarning: invalid value encountered in greater\n",
      "  mask = (g > 0) & np.isfinite(lb)\n",
      "/home/jfpuget/anaconda3/envs/xgb8/lib/python3.6/site-packages/scipy/optimize/_lsq/common.py:501: RuntimeWarning: invalid value encountered in less\n",
      "  mask = (g < 0) & np.isfinite(ub)\n",
      "/home/jfpuget/anaconda3/envs/xgb8/lib/python3.6/site-packages/scipy/optimize/_lsq/common.py:505: RuntimeWarning: invalid value encountered in greater\n",
      "  mask = (g > 0) & np.isfinite(lb)\n"
     ]
    },
    {
     "name": "stdout",
     "output_type": "stream",
     "text": [
      "\n",
      "\n",
      "ending worker 41\n",
      "starting worker 60\n"
     ]
    },
    {
     "data": {
      "application/vnd.jupyter.widget-view+json": {
       "model_id": "29b3834c5ac94e5699e4a11b338cb753",
       "version_major": 2,
       "version_minor": 0
      },
      "text/plain": [
       "HBox(children=(IntProgress(value=0, max=39077), HTML(value='')))"
      ]
     },
     "metadata": {},
     "output_type": "display_data"
    },
    {
     "name": "stdout",
     "output_type": "stream",
     "text": [
      "ending worker 40\n",
      "starting worker 61\n"
     ]
    },
    {
     "data": {
      "application/vnd.jupyter.widget-view+json": {
       "model_id": "b031ef09960047099ec28ba4d817a8b6",
       "version_major": 2,
       "version_minor": 0
      },
      "text/plain": [
       "HBox(children=(IntProgress(value=0, max=39103), HTML(value='')))"
      ]
     },
     "metadata": {},
     "output_type": "display_data"
    },
    {
     "name": "stderr",
     "output_type": "stream",
     "text": [
      "/home/jfpuget/anaconda3/envs/xgb8/lib/python3.6/site-packages/ipykernel/__main__.py:4: RuntimeWarning: invalid value encountered in true_divide\n",
      "/home/jfpuget/anaconda3/envs/xgb8/lib/python3.6/site-packages/ipykernel/__main__.py:4: RuntimeWarning: overflow encountered in multiply\n",
      "/home/jfpuget/anaconda3/envs/xgb8/lib/python3.6/site-packages/ipykernel/__main__.py:4: RuntimeWarning: invalid value encountered in true_divide\n",
      "/home/jfpuget/anaconda3/envs/xgb8/lib/python3.6/site-packages/ipykernel/__main__.py:4: RuntimeWarning: overflow encountered in multiply\n",
      "/home/jfpuget/anaconda3/envs/xgb8/lib/python3.6/site-packages/scipy/optimize/_lsq/common.py:501: RuntimeWarning: invalid value encountered in less\n",
      "  mask = (g < 0) & np.isfinite(ub)\n",
      "/home/jfpuget/anaconda3/envs/xgb8/lib/python3.6/site-packages/scipy/optimize/_lsq/common.py:505: RuntimeWarning: invalid value encountered in greater\n",
      "  mask = (g > 0) & np.isfinite(lb)\n",
      "/home/jfpuget/anaconda3/envs/xgb8/lib/python3.6/site-packages/scipy/optimize/_lsq/common.py:501: RuntimeWarning: invalid value encountered in less\n",
      "  mask = (g < 0) & np.isfinite(ub)\n",
      "/home/jfpuget/anaconda3/envs/xgb8/lib/python3.6/site-packages/scipy/optimize/_lsq/common.py:505: RuntimeWarning: invalid value encountered in greater\n",
      "  mask = (g > 0) & np.isfinite(lb)\n"
     ]
    },
    {
     "name": "stdout",
     "output_type": "stream",
     "text": [
      "\n",
      "ending worker 57\n",
      "starting worker 62\n"
     ]
    },
    {
     "data": {
      "application/vnd.jupyter.widget-view+json": {
       "model_id": "a51ef038d9a746a78ad61057cad144a8",
       "version_major": 2,
       "version_minor": 0
      },
      "text/plain": [
       "HBox(children=(IntProgress(value=0, max=39051), HTML(value='')))"
      ]
     },
     "metadata": {},
     "output_type": "display_data"
    },
    {
     "name": "stderr",
     "output_type": "stream",
     "text": [
      "/home/jfpuget/anaconda3/envs/xgb8/lib/python3.6/site-packages/ipykernel/__main__.py:4: RuntimeWarning: invalid value encountered in true_divide\n",
      "/home/jfpuget/anaconda3/envs/xgb8/lib/python3.6/site-packages/ipykernel/__main__.py:4: RuntimeWarning: overflow encountered in multiply\n"
     ]
    },
    {
     "name": "stdout",
     "output_type": "stream",
     "text": [
      "\n",
      "ending worker 59\n",
      "starting worker 63\n"
     ]
    },
    {
     "data": {
      "application/vnd.jupyter.widget-view+json": {
       "model_id": "dd28de6ddb214d0cad45dd9c2456c551",
       "version_major": 2,
       "version_minor": 0
      },
      "text/plain": [
       "HBox(children=(IntProgress(value=0, max=39050), HTML(value='')))"
      ]
     },
     "metadata": {},
     "output_type": "display_data"
    },
    {
     "name": "stderr",
     "output_type": "stream",
     "text": [
      "/home/jfpuget/anaconda3/envs/xgb8/lib/python3.6/site-packages/ipykernel/__main__.py:4: RuntimeWarning: overflow encountered in multiply\n",
      "/home/jfpuget/anaconda3/envs/xgb8/lib/python3.6/site-packages/ipykernel/__main__.py:4: RuntimeWarning: invalid value encountered in true_divide\n"
     ]
    },
    {
     "name": "stdout",
     "output_type": "stream",
     "text": [
      "\n",
      "\n",
      "ending worker 58\n",
      "starting worker 64\n",
      "ending worker 56\n",
      "starting worker 65\n"
     ]
    },
    {
     "data": {
      "application/vnd.jupyter.widget-view+json": {
       "model_id": "6d854b175b0d413b857b88b2f5a94291",
       "version_major": 2,
       "version_minor": 0
      },
      "text/plain": [
       "HBox(children=(IntProgress(value=0, max=39109), HTML(value='')))"
      ]
     },
     "metadata": {},
     "output_type": "display_data"
    },
    {
     "data": {
      "application/vnd.jupyter.widget-view+json": {
       "model_id": "f256012c7eea4ca39eae6765d7919987",
       "version_major": 2,
       "version_minor": 0
      },
      "text/plain": [
       "HBox(children=(IntProgress(value=0, max=39093), HTML(value='')))"
      ]
     },
     "metadata": {},
     "output_type": "display_data"
    },
    {
     "name": "stderr",
     "output_type": "stream",
     "text": [
      "/home/jfpuget/anaconda3/envs/xgb8/lib/python3.6/site-packages/ipykernel/__main__.py:4: RuntimeWarning: invalid value encountered in true_divide\n",
      "/home/jfpuget/anaconda3/envs/xgb8/lib/python3.6/site-packages/ipykernel/__main__.py:4: RuntimeWarning: overflow encountered in multiply\n"
     ]
    },
    {
     "name": "stdout",
     "output_type": "stream",
     "text": [
      "\n"
     ]
    },
    {
     "name": "stderr",
     "output_type": "stream",
     "text": [
      "/home/jfpuget/anaconda3/envs/xgb8/lib/python3.6/site-packages/ipykernel/__main__.py:4: RuntimeWarning: invalid value encountered in true_divide\n",
      "/home/jfpuget/anaconda3/envs/xgb8/lib/python3.6/site-packages/ipykernel/__main__.py:4: RuntimeWarning: overflow encountered in multiply\n",
      "/home/jfpuget/anaconda3/envs/xgb8/lib/python3.6/site-packages/scipy/optimize/_lsq/common.py:501: RuntimeWarning: invalid value encountered in less\n",
      "  mask = (g < 0) & np.isfinite(ub)\n",
      "/home/jfpuget/anaconda3/envs/xgb8/lib/python3.6/site-packages/scipy/optimize/_lsq/common.py:505: RuntimeWarning: invalid value encountered in greater\n",
      "  mask = (g > 0) & np.isfinite(lb)\n"
     ]
    },
    {
     "name": "stdout",
     "output_type": "stream",
     "text": [
      "\n",
      "ending worker 53\n",
      "starting worker 66\n"
     ]
    },
    {
     "data": {
      "application/vnd.jupyter.widget-view+json": {
       "model_id": "e674767d8d4844d2aa6eea23996da346",
       "version_major": 2,
       "version_minor": 0
      },
      "text/plain": [
       "HBox(children=(IntProgress(value=0, max=39086), HTML(value='')))"
      ]
     },
     "metadata": {},
     "output_type": "display_data"
    },
    {
     "name": "stderr",
     "output_type": "stream",
     "text": [
      "/home/jfpuget/anaconda3/envs/xgb8/lib/python3.6/site-packages/ipykernel/__main__.py:4: RuntimeWarning: invalid value encountered in true_divide\n",
      "/home/jfpuget/anaconda3/envs/xgb8/lib/python3.6/site-packages/ipykernel/__main__.py:4: RuntimeWarning: overflow encountered in multiply\n"
     ]
    },
    {
     "name": "stdout",
     "output_type": "stream",
     "text": [
      "ending worker 55\n",
      "starting worker 67\n",
      "\n"
     ]
    },
    {
     "data": {
      "application/vnd.jupyter.widget-view+json": {
       "model_id": "1d8f089e68b7423a8b360d59134e51e6",
       "version_major": 2,
       "version_minor": 0
      },
      "text/plain": [
       "HBox(children=(IntProgress(value=0, max=39134), HTML(value='')))"
      ]
     },
     "metadata": {},
     "output_type": "display_data"
    },
    {
     "name": "stderr",
     "output_type": "stream",
     "text": [
      "/home/jfpuget/anaconda3/envs/xgb8/lib/python3.6/site-packages/ipykernel/__main__.py:4: RuntimeWarning: invalid value encountered in true_divide\n",
      "/home/jfpuget/anaconda3/envs/xgb8/lib/python3.6/site-packages/ipykernel/__main__.py:4: RuntimeWarning: overflow encountered in multiply\n",
      "/home/jfpuget/anaconda3/envs/xgb8/lib/python3.6/site-packages/scipy/optimize/_lsq/common.py:501: RuntimeWarning: invalid value encountered in less\n",
      "  mask = (g < 0) & np.isfinite(ub)\n",
      "/home/jfpuget/anaconda3/envs/xgb8/lib/python3.6/site-packages/scipy/optimize/_lsq/common.py:505: RuntimeWarning: invalid value encountered in greater\n",
      "  mask = (g > 0) & np.isfinite(lb)\n",
      "/home/jfpuget/anaconda3/envs/xgb8/lib/python3.6/site-packages/scipy/optimize/_lsq/common.py:501: RuntimeWarning: invalid value encountered in less\n",
      "  mask = (g < 0) & np.isfinite(ub)\n",
      "/home/jfpuget/anaconda3/envs/xgb8/lib/python3.6/site-packages/scipy/optimize/_lsq/common.py:505: RuntimeWarning: invalid value encountered in greater\n",
      "  mask = (g > 0) & np.isfinite(lb)\n"
     ]
    },
    {
     "name": "stdout",
     "output_type": "stream",
     "text": [
      "ending worker 51\n",
      "starting worker 68\n"
     ]
    },
    {
     "data": {
      "application/vnd.jupyter.widget-view+json": {
       "model_id": "4c3cbfa6e75f481c9cd24ee9a4bb7e48",
       "version_major": 2,
       "version_minor": 0
      },
      "text/plain": [
       "HBox(children=(IntProgress(value=0, max=39056), HTML(value='')))"
      ]
     },
     "metadata": {},
     "output_type": "display_data"
    },
    {
     "name": "stderr",
     "output_type": "stream",
     "text": [
      "/home/jfpuget/anaconda3/envs/xgb8/lib/python3.6/site-packages/ipykernel/__main__.py:4: RuntimeWarning: invalid value encountered in true_divide\n",
      "/home/jfpuget/anaconda3/envs/xgb8/lib/python3.6/site-packages/ipykernel/__main__.py:4: RuntimeWarning: overflow encountered in multiply\n",
      "/home/jfpuget/anaconda3/envs/xgb8/lib/python3.6/site-packages/scipy/optimize/_lsq/common.py:501: RuntimeWarning: invalid value encountered in less\n",
      "  mask = (g < 0) & np.isfinite(ub)\n",
      "/home/jfpuget/anaconda3/envs/xgb8/lib/python3.6/site-packages/scipy/optimize/_lsq/common.py:505: RuntimeWarning: invalid value encountered in greater\n",
      "  mask = (g > 0) & np.isfinite(lb)\n",
      "/home/jfpuget/anaconda3/envs/xgb8/lib/python3.6/site-packages/scipy/optimize/_lsq/common.py:501: RuntimeWarning: invalid value encountered in less\n",
      "  mask = (g < 0) & np.isfinite(ub)\n",
      "/home/jfpuget/anaconda3/envs/xgb8/lib/python3.6/site-packages/scipy/optimize/_lsq/common.py:505: RuntimeWarning: invalid value encountered in greater\n",
      "  mask = (g > 0) & np.isfinite(lb)\n"
     ]
    },
    {
     "name": "stdout",
     "output_type": "stream",
     "text": [
      "\n",
      "ending worker 49\n",
      "starting worker 69\n"
     ]
    },
    {
     "data": {
      "application/vnd.jupyter.widget-view+json": {
       "model_id": "adcc5be426bd450e86023ccbe9786045",
       "version_major": 2,
       "version_minor": 0
      },
      "text/plain": [
       "HBox(children=(IntProgress(value=0, max=39060), HTML(value='')))"
      ]
     },
     "metadata": {},
     "output_type": "display_data"
    },
    {
     "name": "stdout",
     "output_type": "stream",
     "text": [
      "\n"
     ]
    },
    {
     "name": "stderr",
     "output_type": "stream",
     "text": [
      "/home/jfpuget/anaconda3/envs/xgb8/lib/python3.6/site-packages/ipykernel/__main__.py:4: RuntimeWarning: invalid value encountered in true_divide\n",
      "/home/jfpuget/anaconda3/envs/xgb8/lib/python3.6/site-packages/ipykernel/__main__.py:4: RuntimeWarning: overflow encountered in multiply\n"
     ]
    },
    {
     "name": "stdout",
     "output_type": "stream",
     "text": [
      "ending worker 54\n",
      "starting worker 70\n"
     ]
    },
    {
     "data": {
      "application/vnd.jupyter.widget-view+json": {
       "model_id": "7b53eaf639f14faf9afb039e96a436b8",
       "version_major": 2,
       "version_minor": 0
      },
      "text/plain": [
       "HBox(children=(IntProgress(value=0, max=39083), HTML(value='')))"
      ]
     },
     "metadata": {},
     "output_type": "display_data"
    },
    {
     "name": "stderr",
     "output_type": "stream",
     "text": [
      "/home/jfpuget/anaconda3/envs/xgb8/lib/python3.6/site-packages/scipy/optimize/_lsq/common.py:501: RuntimeWarning: invalid value encountered in less\n",
      "  mask = (g < 0) & np.isfinite(ub)\n",
      "/home/jfpuget/anaconda3/envs/xgb8/lib/python3.6/site-packages/scipy/optimize/_lsq/common.py:505: RuntimeWarning: invalid value encountered in greater\n",
      "  mask = (g > 0) & np.isfinite(lb)\n",
      "/home/jfpuget/anaconda3/envs/xgb8/lib/python3.6/site-packages/ipykernel/__main__.py:4: RuntimeWarning: invalid value encountered in true_divide\n",
      "/home/jfpuget/anaconda3/envs/xgb8/lib/python3.6/site-packages/ipykernel/__main__.py:4: RuntimeWarning: overflow encountered in multiply\n",
      "/home/jfpuget/anaconda3/envs/xgb8/lib/python3.6/site-packages/scipy/optimize/_lsq/common.py:501: RuntimeWarning: invalid value encountered in less\n",
      "  mask = (g < 0) & np.isfinite(ub)\n",
      "/home/jfpuget/anaconda3/envs/xgb8/lib/python3.6/site-packages/scipy/optimize/_lsq/common.py:505: RuntimeWarning: invalid value encountered in greater\n",
      "  mask = (g > 0) & np.isfinite(lb)\n"
     ]
    },
    {
     "name": "stdout",
     "output_type": "stream",
     "text": [
      "\n",
      "\n",
      "\n",
      "\n",
      "ending worker 48\n",
      "starting worker 71\n"
     ]
    },
    {
     "data": {
      "application/vnd.jupyter.widget-view+json": {
       "model_id": "334fe43e18fb489f86519b184de889e0",
       "version_major": 2,
       "version_minor": 0
      },
      "text/plain": [
       "HBox(children=(IntProgress(value=0, max=39027), HTML(value='')))"
      ]
     },
     "metadata": {},
     "output_type": "display_data"
    },
    {
     "name": "stdout",
     "output_type": "stream",
     "text": [
      "ending worker 50\n",
      "starting worker 72\n",
      "ending worker 52\n",
      "starting worker 73\n"
     ]
    },
    {
     "name": "stderr",
     "output_type": "stream",
     "text": [
      "/home/jfpuget/anaconda3/envs/xgb8/lib/python3.6/site-packages/ipykernel/__main__.py:4: RuntimeWarning: overflow encountered in multiply\n",
      "/home/jfpuget/anaconda3/envs/xgb8/lib/python3.6/site-packages/ipykernel/__main__.py:4: RuntimeWarning: invalid value encountered in true_divide\n"
     ]
    },
    {
     "data": {
      "application/vnd.jupyter.widget-view+json": {
       "model_id": "c5e74775582d46c2a68e9cbf94ea48f4",
       "version_major": 2,
       "version_minor": 0
      },
      "text/plain": [
       "HBox(children=(IntProgress(value=0, max=39077), HTML(value='')))"
      ]
     },
     "metadata": {},
     "output_type": "display_data"
    },
    {
     "data": {
      "application/vnd.jupyter.widget-view+json": {
       "model_id": "9209b7bef38b4b5ebe07dd9bd1bac665",
       "version_major": 2,
       "version_minor": 0
      },
      "text/plain": [
       "HBox(children=(IntProgress(value=0, max=39070), HTML(value='')))"
      ]
     },
     "metadata": {},
     "output_type": "display_data"
    },
    {
     "name": "stdout",
     "output_type": "stream",
     "text": [
      "ending worker 47\n",
      "starting worker 74\n"
     ]
    },
    {
     "name": "stderr",
     "output_type": "stream",
     "text": [
      "/home/jfpuget/anaconda3/envs/xgb8/lib/python3.6/site-packages/ipykernel/__main__.py:4: RuntimeWarning: invalid value encountered in true_divide\n",
      "/home/jfpuget/anaconda3/envs/xgb8/lib/python3.6/site-packages/ipykernel/__main__.py:4: RuntimeWarning: overflow encountered in multiply\n",
      "/home/jfpuget/anaconda3/envs/xgb8/lib/python3.6/site-packages/ipykernel/__main__.py:4: RuntimeWarning: invalid value encountered in true_divide\n",
      "/home/jfpuget/anaconda3/envs/xgb8/lib/python3.6/site-packages/ipykernel/__main__.py:4: RuntimeWarning: overflow encountered in multiply\n"
     ]
    },
    {
     "data": {
      "application/vnd.jupyter.widget-view+json": {
       "model_id": "a80b85bbe1264c4bbaba0bb2956f8ac8",
       "version_major": 2,
       "version_minor": 0
      },
      "text/plain": [
       "HBox(children=(IntProgress(value=0, max=39061), HTML(value='')))"
      ]
     },
     "metadata": {},
     "output_type": "display_data"
    },
    {
     "name": "stderr",
     "output_type": "stream",
     "text": [
      "/home/jfpuget/anaconda3/envs/xgb8/lib/python3.6/site-packages/ipykernel/__main__.py:4: RuntimeWarning: invalid value encountered in true_divide\n",
      "/home/jfpuget/anaconda3/envs/xgb8/lib/python3.6/site-packages/ipykernel/__main__.py:4: RuntimeWarning: overflow encountered in multiply\n",
      "/home/jfpuget/anaconda3/envs/xgb8/lib/python3.6/site-packages/scipy/optimize/_lsq/common.py:501: RuntimeWarning: invalid value encountered in less\n",
      "  mask = (g < 0) & np.isfinite(ub)\n",
      "/home/jfpuget/anaconda3/envs/xgb8/lib/python3.6/site-packages/scipy/optimize/_lsq/common.py:505: RuntimeWarning: invalid value encountered in greater\n",
      "  mask = (g > 0) & np.isfinite(lb)\n"
     ]
    },
    {
     "name": "stdout",
     "output_type": "stream",
     "text": [
      "\n",
      "\n",
      "ending worker 46\n",
      "starting worker 75\n"
     ]
    },
    {
     "data": {
      "application/vnd.jupyter.widget-view+json": {
       "model_id": "f0f1a01aaff746c684030d7f67cfa616",
       "version_major": 2,
       "version_minor": 0
      },
      "text/plain": [
       "HBox(children=(IntProgress(value=0, max=39030), HTML(value='')))"
      ]
     },
     "metadata": {},
     "output_type": "display_data"
    },
    {
     "name": "stderr",
     "output_type": "stream",
     "text": [
      "/home/jfpuget/anaconda3/envs/xgb8/lib/python3.6/site-packages/ipykernel/__main__.py:4: RuntimeWarning: overflow encountered in multiply\n",
      "/home/jfpuget/anaconda3/envs/xgb8/lib/python3.6/site-packages/ipykernel/__main__.py:4: RuntimeWarning: invalid value encountered in true_divide\n",
      "/home/jfpuget/anaconda3/envs/xgb8/lib/python3.6/site-packages/scipy/optimize/_lsq/common.py:501: RuntimeWarning: invalid value encountered in less\n",
      "  mask = (g < 0) & np.isfinite(ub)\n",
      "/home/jfpuget/anaconda3/envs/xgb8/lib/python3.6/site-packages/scipy/optimize/_lsq/common.py:505: RuntimeWarning: invalid value encountered in greater\n",
      "  mask = (g > 0) & np.isfinite(lb)\n"
     ]
    },
    {
     "name": "stdout",
     "output_type": "stream",
     "text": [
      "ending worker 45\n",
      "starting worker 76\n"
     ]
    },
    {
     "data": {
      "application/vnd.jupyter.widget-view+json": {
       "model_id": "0d04385fa61548098768bc73a0cacd4b",
       "version_major": 2,
       "version_minor": 0
      },
      "text/plain": [
       "HBox(children=(IntProgress(value=0, max=39092), HTML(value='')))"
      ]
     },
     "metadata": {},
     "output_type": "display_data"
    },
    {
     "name": "stderr",
     "output_type": "stream",
     "text": [
      "/home/jfpuget/anaconda3/envs/xgb8/lib/python3.6/site-packages/ipykernel/__main__.py:4: RuntimeWarning: invalid value encountered in true_divide\n",
      "/home/jfpuget/anaconda3/envs/xgb8/lib/python3.6/site-packages/ipykernel/__main__.py:4: RuntimeWarning: overflow encountered in multiply\n",
      "/home/jfpuget/anaconda3/envs/xgb8/lib/python3.6/site-packages/scipy/optimize/_lsq/common.py:501: RuntimeWarning: invalid value encountered in less\n",
      "  mask = (g < 0) & np.isfinite(ub)\n",
      "/home/jfpuget/anaconda3/envs/xgb8/lib/python3.6/site-packages/scipy/optimize/_lsq/common.py:505: RuntimeWarning: invalid value encountered in greater\n",
      "  mask = (g > 0) & np.isfinite(lb)\n",
      "/home/jfpuget/anaconda3/envs/xgb8/lib/python3.6/site-packages/scipy/optimize/_lsq/common.py:501: RuntimeWarning: invalid value encountered in less\n",
      "  mask = (g < 0) & np.isfinite(ub)\n",
      "/home/jfpuget/anaconda3/envs/xgb8/lib/python3.6/site-packages/scipy/optimize/_lsq/common.py:505: RuntimeWarning: invalid value encountered in greater\n",
      "  mask = (g > 0) & np.isfinite(lb)\n"
     ]
    },
    {
     "name": "stdout",
     "output_type": "stream",
     "text": [
      "\n",
      "ending worker 43\n",
      "starting worker 77\n"
     ]
    },
    {
     "data": {
      "application/vnd.jupyter.widget-view+json": {
       "model_id": "f27e3a8a676b48a9980afbf9c68d57d3",
       "version_major": 2,
       "version_minor": 0
      },
      "text/plain": [
       "HBox(children=(IntProgress(value=0, max=39061), HTML(value='')))"
      ]
     },
     "metadata": {},
     "output_type": "display_data"
    },
    {
     "name": "stderr",
     "output_type": "stream",
     "text": [
      "/home/jfpuget/anaconda3/envs/xgb8/lib/python3.6/site-packages/ipykernel/__main__.py:4: RuntimeWarning: invalid value encountered in true_divide\n",
      "/home/jfpuget/anaconda3/envs/xgb8/lib/python3.6/site-packages/ipykernel/__main__.py:4: RuntimeWarning: overflow encountered in multiply\n"
     ]
    },
    {
     "name": "stdout",
     "output_type": "stream",
     "text": [
      "\n",
      "ending worker 44\n",
      "starting worker 78\n"
     ]
    },
    {
     "data": {
      "application/vnd.jupyter.widget-view+json": {
       "model_id": "d786f6dac4364fe89d54f57d48a4ed46",
       "version_major": 2,
       "version_minor": 0
      },
      "text/plain": [
       "HBox(children=(IntProgress(value=0, max=39064), HTML(value='')))"
      ]
     },
     "metadata": {},
     "output_type": "display_data"
    },
    {
     "name": "stderr",
     "output_type": "stream",
     "text": [
      "/home/jfpuget/anaconda3/envs/xgb8/lib/python3.6/site-packages/ipykernel/__main__.py:4: RuntimeWarning: invalid value encountered in true_divide\n",
      "/home/jfpuget/anaconda3/envs/xgb8/lib/python3.6/site-packages/scipy/optimize/_lsq/common.py:501: RuntimeWarning: invalid value encountered in less\n",
      "  mask = (g < 0) & np.isfinite(ub)\n",
      "/home/jfpuget/anaconda3/envs/xgb8/lib/python3.6/site-packages/scipy/optimize/_lsq/common.py:505: RuntimeWarning: invalid value encountered in greater\n",
      "  mask = (g > 0) & np.isfinite(lb)\n",
      "/home/jfpuget/anaconda3/envs/xgb8/lib/python3.6/site-packages/ipykernel/__main__.py:4: RuntimeWarning: overflow encountered in multiply\n",
      "/home/jfpuget/anaconda3/envs/xgb8/lib/python3.6/site-packages/scipy/optimize/_lsq/common.py:501: RuntimeWarning: invalid value encountered in less\n",
      "  mask = (g < 0) & np.isfinite(ub)\n",
      "/home/jfpuget/anaconda3/envs/xgb8/lib/python3.6/site-packages/scipy/optimize/_lsq/common.py:505: RuntimeWarning: invalid value encountered in greater\n",
      "  mask = (g > 0) & np.isfinite(lb)\n",
      "/home/jfpuget/anaconda3/envs/xgb8/lib/python3.6/site-packages/scipy/optimize/_lsq/common.py:501: RuntimeWarning: invalid value encountered in less\n",
      "  mask = (g < 0) & np.isfinite(ub)\n",
      "/home/jfpuget/anaconda3/envs/xgb8/lib/python3.6/site-packages/scipy/optimize/_lsq/common.py:505: RuntimeWarning: invalid value encountered in greater\n",
      "  mask = (g > 0) & np.isfinite(lb)\n"
     ]
    },
    {
     "name": "stdout",
     "output_type": "stream",
     "text": [
      "\n",
      "ending worker 42\n",
      "starting worker 79\n"
     ]
    },
    {
     "name": "stderr",
     "output_type": "stream",
     "text": [
      "/home/jfpuget/anaconda3/envs/xgb8/lib/python3.6/site-packages/scipy/optimize/_lsq/common.py:501: RuntimeWarning: invalid value encountered in less\n",
      "  mask = (g < 0) & np.isfinite(ub)\n",
      "/home/jfpuget/anaconda3/envs/xgb8/lib/python3.6/site-packages/scipy/optimize/_lsq/common.py:505: RuntimeWarning: invalid value encountered in greater\n",
      "  mask = (g > 0) & np.isfinite(lb)\n"
     ]
    },
    {
     "data": {
      "application/vnd.jupyter.widget-view+json": {
       "model_id": "644b14c622f9452cbe007587caf2e970",
       "version_major": 2,
       "version_minor": 0
      },
      "text/plain": [
       "HBox(children=(IntProgress(value=0, max=39054), HTML(value='')))"
      ]
     },
     "metadata": {},
     "output_type": "display_data"
    },
    {
     "name": "stderr",
     "output_type": "stream",
     "text": [
      "/home/jfpuget/anaconda3/envs/xgb8/lib/python3.6/site-packages/ipykernel/__main__.py:4: RuntimeWarning: invalid value encountered in true_divide\n",
      "/home/jfpuget/anaconda3/envs/xgb8/lib/python3.6/site-packages/ipykernel/__main__.py:4: RuntimeWarning: overflow encountered in multiply\n",
      "/home/jfpuget/anaconda3/envs/xgb8/lib/python3.6/site-packages/scipy/optimize/_lsq/common.py:501: RuntimeWarning: invalid value encountered in less\n",
      "  mask = (g < 0) & np.isfinite(ub)\n",
      "/home/jfpuget/anaconda3/envs/xgb8/lib/python3.6/site-packages/scipy/optimize/_lsq/common.py:505: RuntimeWarning: invalid value encountered in greater\n",
      "  mask = (g > 0) & np.isfinite(lb)\n",
      "/home/jfpuget/anaconda3/envs/xgb8/lib/python3.6/site-packages/scipy/optimize/_lsq/common.py:501: RuntimeWarning: invalid value encountered in less\n",
      "  mask = (g < 0) & np.isfinite(ub)\n",
      "/home/jfpuget/anaconda3/envs/xgb8/lib/python3.6/site-packages/scipy/optimize/_lsq/common.py:505: RuntimeWarning: invalid value encountered in greater\n",
      "  mask = (g > 0) & np.isfinite(lb)\n",
      "/home/jfpuget/anaconda3/envs/xgb8/lib/python3.6/site-packages/scipy/optimize/_lsq/common.py:501: RuntimeWarning: invalid value encountered in less\n",
      "  mask = (g < 0) & np.isfinite(ub)\n",
      "/home/jfpuget/anaconda3/envs/xgb8/lib/python3.6/site-packages/scipy/optimize/_lsq/common.py:505: RuntimeWarning: invalid value encountered in greater\n",
      "  mask = (g > 0) & np.isfinite(lb)\n"
     ]
    },
    {
     "name": "stdout",
     "output_type": "stream",
     "text": [
      "\n",
      "ending worker 60\n",
      "starting worker 80\n"
     ]
    },
    {
     "data": {
      "application/vnd.jupyter.widget-view+json": {
       "model_id": "579a62c34256434ea70254524d67fa33",
       "version_major": 2,
       "version_minor": 0
      },
      "text/plain": [
       "HBox(children=(IntProgress(value=0, max=39073), HTML(value='')))"
      ]
     },
     "metadata": {},
     "output_type": "display_data"
    },
    {
     "name": "stderr",
     "output_type": "stream",
     "text": [
      "/home/jfpuget/anaconda3/envs/xgb8/lib/python3.6/site-packages/ipykernel/__main__.py:4: RuntimeWarning: overflow encountered in multiply\n",
      "/home/jfpuget/anaconda3/envs/xgb8/lib/python3.6/site-packages/ipykernel/__main__.py:4: RuntimeWarning: invalid value encountered in true_divide\n"
     ]
    },
    {
     "name": "stdout",
     "output_type": "stream",
     "text": [
      "\n",
      "ending worker 61\n",
      "starting worker 81\n"
     ]
    },
    {
     "data": {
      "application/vnd.jupyter.widget-view+json": {
       "model_id": "bb7a2c6c7e054f029316c5e83f87ce79",
       "version_major": 2,
       "version_minor": 0
      },
      "text/plain": [
       "HBox(children=(IntProgress(value=0, max=39080), HTML(value='')))"
      ]
     },
     "metadata": {},
     "output_type": "display_data"
    },
    {
     "name": "stderr",
     "output_type": "stream",
     "text": [
      "/home/jfpuget/anaconda3/envs/xgb8/lib/python3.6/site-packages/ipykernel/__main__.py:4: RuntimeWarning: invalid value encountered in true_divide\n",
      "/home/jfpuget/anaconda3/envs/xgb8/lib/python3.6/site-packages/ipykernel/__main__.py:4: RuntimeWarning: overflow encountered in multiply\n",
      "/home/jfpuget/anaconda3/envs/xgb8/lib/python3.6/site-packages/scipy/optimize/_lsq/common.py:501: RuntimeWarning: invalid value encountered in less\n",
      "  mask = (g < 0) & np.isfinite(ub)\n",
      "/home/jfpuget/anaconda3/envs/xgb8/lib/python3.6/site-packages/scipy/optimize/_lsq/common.py:505: RuntimeWarning: invalid value encountered in greater\n",
      "  mask = (g > 0) & np.isfinite(lb)\n",
      "/home/jfpuget/anaconda3/envs/xgb8/lib/python3.6/site-packages/scipy/optimize/_lsq/common.py:501: RuntimeWarning: invalid value encountered in less\n",
      "  mask = (g < 0) & np.isfinite(ub)\n",
      "/home/jfpuget/anaconda3/envs/xgb8/lib/python3.6/site-packages/scipy/optimize/_lsq/common.py:505: RuntimeWarning: invalid value encountered in greater\n",
      "  mask = (g > 0) & np.isfinite(lb)\n"
     ]
    },
    {
     "name": "stdout",
     "output_type": "stream",
     "text": [
      "\n",
      "\n",
      "ending worker 77\n",
      "starting worker 82\n"
     ]
    },
    {
     "data": {
      "application/vnd.jupyter.widget-view+json": {
       "model_id": "162ba76bba7a4655b3808dfc903c47e5",
       "version_major": 2,
       "version_minor": 0
      },
      "text/plain": [
       "HBox(children=(IntProgress(value=0, max=39070), HTML(value='')))"
      ]
     },
     "metadata": {},
     "output_type": "display_data"
    },
    {
     "name": "stdout",
     "output_type": "stream",
     "text": [
      "\n"
     ]
    },
    {
     "name": "stderr",
     "output_type": "stream",
     "text": [
      "/home/jfpuget/anaconda3/envs/xgb8/lib/python3.6/site-packages/ipykernel/__main__.py:4: RuntimeWarning: invalid value encountered in true_divide\n",
      "/home/jfpuget/anaconda3/envs/xgb8/lib/python3.6/site-packages/ipykernel/__main__.py:4: RuntimeWarning: overflow encountered in multiply\n"
     ]
    },
    {
     "name": "stdout",
     "output_type": "stream",
     "text": [
      "ending worker 74\n",
      "starting worker 83\n"
     ]
    },
    {
     "data": {
      "application/vnd.jupyter.widget-view+json": {
       "model_id": "d1886b6ec6f7453a89496995762830ea",
       "version_major": 2,
       "version_minor": 0
      },
      "text/plain": [
       "HBox(children=(IntProgress(value=0, max=39100), HTML(value='')))"
      ]
     },
     "metadata": {},
     "output_type": "display_data"
    },
    {
     "name": "stderr",
     "output_type": "stream",
     "text": [
      "/home/jfpuget/anaconda3/envs/xgb8/lib/python3.6/site-packages/ipykernel/__main__.py:4: RuntimeWarning: overflow encountered in multiply\n",
      "/home/jfpuget/anaconda3/envs/xgb8/lib/python3.6/site-packages/ipykernel/__main__.py:4: RuntimeWarning: invalid value encountered in true_divide\n"
     ]
    },
    {
     "name": "stdout",
     "output_type": "stream",
     "text": [
      "ending worker 75\n",
      "starting worker 84\n"
     ]
    },
    {
     "data": {
      "application/vnd.jupyter.widget-view+json": {
       "model_id": "e70c37d52558445f9346cc01fcec7078",
       "version_major": 2,
       "version_minor": 0
      },
      "text/plain": [
       "HBox(children=(IntProgress(value=0, max=39063), HTML(value='')))"
      ]
     },
     "metadata": {},
     "output_type": "display_data"
    },
    {
     "name": "stderr",
     "output_type": "stream",
     "text": [
      "/home/jfpuget/anaconda3/envs/xgb8/lib/python3.6/site-packages/ipykernel/__main__.py:4: RuntimeWarning: overflow encountered in multiply\n",
      "/home/jfpuget/anaconda3/envs/xgb8/lib/python3.6/site-packages/ipykernel/__main__.py:4: RuntimeWarning: invalid value encountered in true_divide\n",
      "/home/jfpuget/anaconda3/envs/xgb8/lib/python3.6/site-packages/scipy/optimize/_lsq/common.py:501: RuntimeWarning: invalid value encountered in less\n",
      "  mask = (g < 0) & np.isfinite(ub)\n",
      "/home/jfpuget/anaconda3/envs/xgb8/lib/python3.6/site-packages/scipy/optimize/_lsq/common.py:505: RuntimeWarning: invalid value encountered in greater\n",
      "  mask = (g > 0) & np.isfinite(lb)\n"
     ]
    },
    {
     "name": "stdout",
     "output_type": "stream",
     "text": [
      "\n",
      "\n",
      "\n",
      "\n",
      "\n",
      "\n",
      "ending worker 68\n",
      "starting worker 85\n",
      "\n"
     ]
    },
    {
     "data": {
      "application/vnd.jupyter.widget-view+json": {
       "model_id": "c2ea4079ecbd473fb93f6c7e524b80b9",
       "version_major": 2,
       "version_minor": 0
      },
      "text/plain": [
       "HBox(children=(IntProgress(value=0, max=39064), HTML(value='')))"
      ]
     },
     "metadata": {},
     "output_type": "display_data"
    },
    {
     "name": "stderr",
     "output_type": "stream",
     "text": [
      "/home/jfpuget/anaconda3/envs/xgb8/lib/python3.6/site-packages/ipykernel/__main__.py:4: RuntimeWarning: invalid value encountered in true_divide\n"
     ]
    },
    {
     "name": "stdout",
     "output_type": "stream",
     "text": [
      "\n"
     ]
    },
    {
     "name": "stderr",
     "output_type": "stream",
     "text": [
      "/home/jfpuget/anaconda3/envs/xgb8/lib/python3.6/site-packages/ipykernel/__main__.py:4: RuntimeWarning: overflow encountered in multiply\n"
     ]
    },
    {
     "name": "stdout",
     "output_type": "stream",
     "text": [
      "ending worker 79\n",
      "starting worker 86\n",
      "ending worker 66\n",
      "starting worker 87\n"
     ]
    },
    {
     "data": {
      "application/vnd.jupyter.widget-view+json": {
       "model_id": "bc56a221f00b4ad9a2b7d8e587057764",
       "version_major": 2,
       "version_minor": 0
      },
      "text/plain": [
       "HBox(children=(IntProgress(value=0, max=39086), HTML(value='')))"
      ]
     },
     "metadata": {},
     "output_type": "display_data"
    },
    {
     "name": "stdout",
     "output_type": "stream",
     "text": [
      "ending worker 72\n",
      "starting worker 88\n"
     ]
    },
    {
     "data": {
      "application/vnd.jupyter.widget-view+json": {
       "model_id": "a3f4654db79e4539b3dcde87ae720e49",
       "version_major": 2,
       "version_minor": 0
      },
      "text/plain": [
       "HBox(children=(IntProgress(value=0, max=39044), HTML(value='')))"
      ]
     },
     "metadata": {},
     "output_type": "display_data"
    },
    {
     "data": {
      "application/vnd.jupyter.widget-view+json": {
       "model_id": "8b065e1c041c4017af769888aa72cf29",
       "version_major": 2,
       "version_minor": 0
      },
      "text/plain": [
       "HBox(children=(IntProgress(value=0, max=39036), HTML(value='')))"
      ]
     },
     "metadata": {},
     "output_type": "display_data"
    },
    {
     "name": "stderr",
     "output_type": "stream",
     "text": [
      "/home/jfpuget/anaconda3/envs/xgb8/lib/python3.6/site-packages/ipykernel/__main__.py:4: RuntimeWarning: invalid value encountered in true_divide\n",
      "/home/jfpuget/anaconda3/envs/xgb8/lib/python3.6/site-packages/ipykernel/__main__.py:4: RuntimeWarning: overflow encountered in multiply\n"
     ]
    },
    {
     "name": "stdout",
     "output_type": "stream",
     "text": [
      "ending worker 63\n",
      "starting worker 89\n",
      "ending worker 73\n",
      "starting worker 90\n"
     ]
    },
    {
     "name": "stderr",
     "output_type": "stream",
     "text": [
      "/home/jfpuget/anaconda3/envs/xgb8/lib/python3.6/site-packages/ipykernel/__main__.py:4: RuntimeWarning: invalid value encountered in true_divide\n"
     ]
    },
    {
     "data": {
      "application/vnd.jupyter.widget-view+json": {
       "model_id": "70f91c66bba74547ace5b0b694a74638",
       "version_major": 2,
       "version_minor": 0
      },
      "text/plain": [
       "HBox(children=(IntProgress(value=0, max=39076), HTML(value='')))"
      ]
     },
     "metadata": {},
     "output_type": "display_data"
    },
    {
     "data": {
      "application/vnd.jupyter.widget-view+json": {
       "model_id": "d575abb5f94a46be9f9c58c052dd1cad",
       "version_major": 2,
       "version_minor": 0
      },
      "text/plain": [
       "HBox(children=(IntProgress(value=0, max=28537), HTML(value='')))"
      ]
     },
     "metadata": {},
     "output_type": "display_data"
    },
    {
     "name": "stderr",
     "output_type": "stream",
     "text": [
      "/home/jfpuget/anaconda3/envs/xgb8/lib/python3.6/site-packages/ipykernel/__main__.py:4: RuntimeWarning: overflow encountered in multiply\n",
      "/home/jfpuget/anaconda3/envs/xgb8/lib/python3.6/site-packages/ipykernel/__main__.py:4: RuntimeWarning: invalid value encountered in true_divide\n",
      "/home/jfpuget/anaconda3/envs/xgb8/lib/python3.6/site-packages/ipykernel/__main__.py:4: RuntimeWarning: overflow encountered in multiply\n"
     ]
    },
    {
     "name": "stdout",
     "output_type": "stream",
     "text": [
      "ending worker 78\n"
     ]
    },
    {
     "name": "stderr",
     "output_type": "stream",
     "text": [
      "/home/jfpuget/anaconda3/envs/xgb8/lib/python3.6/site-packages/ipykernel/__main__.py:4: RuntimeWarning: invalid value encountered in true_divide\n"
     ]
    },
    {
     "name": "stdout",
     "output_type": "stream",
     "text": [
      "starting worker 100\n"
     ]
    },
    {
     "data": {
      "application/vnd.jupyter.widget-view+json": {
       "model_id": "6a99f7660b854ba6a86f96aac2984b64",
       "version_major": 2,
       "version_minor": 0
      },
      "text/plain": [
       "HBox(children=(IntProgress(value=0, max=1), HTML(value='')))"
      ]
     },
     "metadata": {},
     "output_type": "display_data"
    },
    {
     "name": "stdout",
     "output_type": "stream",
     "text": [
      "\n",
      "ending worker 100\n"
     ]
    },
    {
     "name": "stderr",
     "output_type": "stream",
     "text": [
      "/home/jfpuget/anaconda3/envs/xgb8/lib/python3.6/site-packages/ipykernel/__main__.py:4: RuntimeWarning: overflow encountered in multiply\n",
      "/home/jfpuget/anaconda3/envs/xgb8/lib/python3.6/site-packages/ipykernel/__main__.py:4: RuntimeWarning: invalid value encountered in true_divide\n"
     ]
    },
    {
     "name": "stdout",
     "output_type": "stream",
     "text": [
      "\n",
      "\n",
      "ending worker 62\n",
      "\n"
     ]
    },
    {
     "name": "stderr",
     "output_type": "stream",
     "text": [
      "/home/jfpuget/anaconda3/envs/xgb8/lib/python3.6/site-packages/ipykernel/__main__.py:4: RuntimeWarning: overflow encountered in multiply\n"
     ]
    },
    {
     "name": "stdout",
     "output_type": "stream",
     "text": [
      "\n",
      "\n",
      "ending worker 76\n",
      "ending worker 71\n"
     ]
    },
    {
     "name": "stderr",
     "output_type": "stream",
     "text": [
      "/home/jfpuget/anaconda3/envs/xgb8/lib/python3.6/site-packages/scipy/optimize/_lsq/common.py:501: RuntimeWarning: invalid value encountered in less\n",
      "  mask = (g < 0) & np.isfinite(ub)\n",
      "/home/jfpuget/anaconda3/envs/xgb8/lib/python3.6/site-packages/scipy/optimize/_lsq/common.py:505: RuntimeWarning: invalid value encountered in greater\n",
      "  mask = (g > 0) & np.isfinite(lb)\n"
     ]
    },
    {
     "name": "stdout",
     "output_type": "stream",
     "text": [
      "ending worker 70\n"
     ]
    },
    {
     "name": "stderr",
     "output_type": "stream",
     "text": [
      "/home/jfpuget/anaconda3/envs/xgb8/lib/python3.6/site-packages/scipy/optimize/_lsq/common.py:501: RuntimeWarning: invalid value encountered in less\n",
      "  mask = (g < 0) & np.isfinite(ub)\n",
      "/home/jfpuget/anaconda3/envs/xgb8/lib/python3.6/site-packages/scipy/optimize/_lsq/common.py:505: RuntimeWarning: invalid value encountered in greater\n",
      "  mask = (g > 0) & np.isfinite(lb)\n"
     ]
    },
    {
     "name": "stdout",
     "output_type": "stream",
     "text": [
      "ending worker 65\n",
      "ending worker 64\n"
     ]
    },
    {
     "name": "stderr",
     "output_type": "stream",
     "text": [
      "/home/jfpuget/anaconda3/envs/xgb8/lib/python3.6/site-packages/scipy/optimize/_lsq/common.py:501: RuntimeWarning: invalid value encountered in less\n",
      "  mask = (g < 0) & np.isfinite(ub)\n",
      "/home/jfpuget/anaconda3/envs/xgb8/lib/python3.6/site-packages/scipy/optimize/_lsq/common.py:505: RuntimeWarning: invalid value encountered in greater\n",
      "  mask = (g > 0) & np.isfinite(lb)\n"
     ]
    },
    {
     "name": "stdout",
     "output_type": "stream",
     "text": [
      "\n",
      "\n",
      "ending worker 69\n"
     ]
    },
    {
     "name": "stderr",
     "output_type": "stream",
     "text": [
      "/home/jfpuget/anaconda3/envs/xgb8/lib/python3.6/site-packages/scipy/optimize/_lsq/common.py:501: RuntimeWarning: invalid value encountered in less\n",
      "  mask = (g < 0) & np.isfinite(ub)\n",
      "/home/jfpuget/anaconda3/envs/xgb8/lib/python3.6/site-packages/scipy/optimize/_lsq/common.py:505: RuntimeWarning: invalid value encountered in greater\n",
      "  mask = (g > 0) & np.isfinite(lb)\n"
     ]
    },
    {
     "name": "stdout",
     "output_type": "stream",
     "text": [
      "ending worker 67\n"
     ]
    },
    {
     "name": "stderr",
     "output_type": "stream",
     "text": [
      "/home/jfpuget/anaconda3/envs/xgb8/lib/python3.6/site-packages/scipy/optimize/_lsq/common.py:501: RuntimeWarning: invalid value encountered in less\n",
      "  mask = (g < 0) & np.isfinite(ub)\n",
      "/home/jfpuget/anaconda3/envs/xgb8/lib/python3.6/site-packages/scipy/optimize/_lsq/common.py:505: RuntimeWarning: invalid value encountered in greater\n",
      "  mask = (g > 0) & np.isfinite(lb)\n",
      "/home/jfpuget/anaconda3/envs/xgb8/lib/python3.6/site-packages/scipy/optimize/_lsq/common.py:501: RuntimeWarning: invalid value encountered in less\n",
      "  mask = (g < 0) & np.isfinite(ub)\n",
      "/home/jfpuget/anaconda3/envs/xgb8/lib/python3.6/site-packages/scipy/optimize/_lsq/common.py:505: RuntimeWarning: invalid value encountered in greater\n",
      "  mask = (g > 0) & np.isfinite(lb)\n",
      "/home/jfpuget/anaconda3/envs/xgb8/lib/python3.6/site-packages/scipy/optimize/_lsq/common.py:501: RuntimeWarning: invalid value encountered in less\n",
      "  mask = (g < 0) & np.isfinite(ub)\n",
      "/home/jfpuget/anaconda3/envs/xgb8/lib/python3.6/site-packages/scipy/optimize/_lsq/common.py:505: RuntimeWarning: invalid value encountered in greater\n",
      "  mask = (g > 0) & np.isfinite(lb)\n",
      "/home/jfpuget/anaconda3/envs/xgb8/lib/python3.6/site-packages/scipy/optimize/_lsq/common.py:501: RuntimeWarning: invalid value encountered in less\n",
      "  mask = (g < 0) & np.isfinite(ub)\n",
      "/home/jfpuget/anaconda3/envs/xgb8/lib/python3.6/site-packages/scipy/optimize/_lsq/common.py:505: RuntimeWarning: invalid value encountered in greater\n",
      "  mask = (g > 0) & np.isfinite(lb)\n"
     ]
    },
    {
     "name": "stdout",
     "output_type": "stream",
     "text": [
      "\n",
      "\n",
      "ending worker 81\n",
      "ending worker 80\n",
      "\n",
      "ending worker 90\n",
      "\n",
      "ending worker 87\n",
      "\n",
      "ending worker 89\n",
      "\n",
      "ending worker 88\n",
      "\n",
      "\n",
      "ending worker 82\n",
      "ending worker 83\n",
      "\n",
      "ending worker 84\n",
      "\n",
      "ending worker 85\n",
      "\n",
      "ending worker 86\n"
     ]
    }
   ],
   "source": [
    "params = [(i, fname) for i in range(91)]\n",
    "params.append((100, fname))\n",
    "\n",
    "if 1: \n",
    "    pool = Pool(processes=20, maxtasksperchild=1)\n",
    "    ls   = pool.map( work_test, params, chunksize=1 )\n",
    "    pool.close()\n",
    "else:\n",
    "    ls = [work_tta(param) for param in params]"
   ]
  },
  {
   "cell_type": "code",
   "execution_count": null,
   "metadata": {},
   "outputs": [],
   "source": []
  }
 ],
 "metadata": {
  "kernelspec": {
   "display_name": "Python [conda env:xgb8]",
   "language": "python",
   "name": "conda-env-xgb8-py"
  },
  "language_info": {
   "codemirror_mode": {
    "name": "ipython",
    "version": 3
   },
   "file_extension": ".py",
   "mimetype": "text/x-python",
   "name": "python",
   "nbconvert_exporter": "python",
   "pygments_lexer": "ipython3",
   "version": "3.6.5"
  }
 },
 "nbformat": 4,
 "nbformat_minor": 2
}
