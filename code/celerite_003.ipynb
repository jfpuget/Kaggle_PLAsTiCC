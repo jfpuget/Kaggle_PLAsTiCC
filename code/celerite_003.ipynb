{
 "cells": [
  {
   "cell_type": "code",
   "execution_count": 1,
   "metadata": {},
   "outputs": [],
   "source": [
    "fname='celerite_003'\n",
    "\n",
    "n_tta = 6\n",
    "\n",
    "seed = 0"
   ]
  },
  {
   "cell_type": "code",
   "execution_count": 2,
   "metadata": {},
   "outputs": [],
   "source": [
    "import numpy as np\n",
    "import pandas as pd\n",
    "from sklearn.model_selection import StratifiedKFold\n",
    "from sklearn.metrics import confusion_matrix\n",
    "import gc\n",
    "import matplotlib.pyplot as plt\n",
    "import seaborn as sns\n",
    "import logging\n",
    "from tqdm import tqdm_notebook\n",
    "import itertools\n",
    "import pickle as pkl\n",
    "\n",
    "import autograd\n",
    "import celerite\n",
    "from celerite import terms\n",
    "import scipy.optimize as op\n",
    "from scipy.optimize import minimize\n",
    "\n",
    "\n",
    "from multiprocessing import Pool"
   ]
  },
  {
   "cell_type": "code",
   "execution_count": 3,
   "metadata": {},
   "outputs": [],
   "source": [
    "import random as rn\n",
    "def init_seeds(seed):\n",
    "\n",
    "    # The below is necessary for starting Numpy generated random numbers\n",
    "    # in a well-defined initial state.\n",
    "\n",
    "    np.random.seed(seed)\n",
    "\n",
    "    # The below is necessary for starting core Python generated random numbers\n",
    "    # in a well-defined state.\n",
    "\n",
    "    rn.seed(seed)\n",
    "\n",
    "\n",
    "init_seeds(seed)"
   ]
  },
  {
   "cell_type": "code",
   "execution_count": 4,
   "metadata": {},
   "outputs": [],
   "source": [
    "# eda_031_celerite\n",
    "def get_gp(train, object_id, expand=True):\n",
    "    passbands = [0, 1, 2, 3, 4, 5]\n",
    "    n_param = 2\n",
    "    res = pd.DataFrame()\n",
    "    res['object_id'] = [object_id]\n",
    "    for pb in passbands:\n",
    "        for i in range(n_param):\n",
    "            res['celerite_%d_%d' % (pb, i)] = np.NaN\n",
    "    df0 = train[train.object_id == object_id]\n",
    "    if df0.hostgal_photoz.mean() == 0:\n",
    "        return res\n",
    "    offset = 11\n",
    "    for pb in range(6):\n",
    "        if True:\n",
    "            df = df0[(df0.object_id == object_id) & (df0.passband == pb)]\n",
    "            flux_err_mean = df.flux_err.mean()\n",
    "            flux_err_std = df.flux_err.std()\n",
    "            df = df[df.flux_err <= flux_err_mean + 6*flux_err_std]\n",
    "            mjd_delta_prev = (df.mjd - df.mjd.shift(1)).fillna(100).values.ravel()\n",
    "            mjd_delta_next = (df.mjd.shift(-1) - df.mjd).fillna(100).values.ravel()\n",
    "            x_min = df.mjd.min()\n",
    "            x_max = df.mjd.max()\n",
    "            yerr_mean = df.flux_err.mean()\n",
    "            x = df.mjd.values\n",
    "            y = df.flux.values\n",
    "            yerr = df.flux_err\n",
    "            if expand:\n",
    "                mjd_delta_prev = np.concatenate((100 * np.ones((offset,)),\n",
    "                                    mjd_delta_prev,\n",
    "                                    100 * np.ones((offset,)),\n",
    "                                  ))\n",
    "                mjd_delta_next = np.concatenate((100 * np.ones((offset,)),\n",
    "                                    mjd_delta_next,\n",
    "                                    100 * np.ones((offset,)),\n",
    "                                  ))\n",
    "                x = np.concatenate((np.linspace(x_min-250, x_min -200, offset),\n",
    "                                    x,\n",
    "                                    np.linspace(x_max+200, x_max+250, offset),\n",
    "                                  ))\n",
    "                y = np.concatenate((np.random.randn(offset) * yerr_mean,\n",
    "                                    y,\n",
    "                                    np.random.randn(offset) * yerr_mean\n",
    "                                   ))\n",
    "                yerr = np.concatenate((yerr_mean * np.ones(offset),\n",
    "                                        yerr,\n",
    "                                        yerr_mean * np.ones(offset)\n",
    "                                      ))\n",
    "            #ystd = y.std()\n",
    "            #y /= ystd\n",
    "            #yerr = yerr / ystd\n",
    "\n",
    "            # A Matern32 component\n",
    "            log_sigma = 0\n",
    "            log_rho = 0\n",
    "            eps = 0.001\n",
    "            bounds = dict(log_sigma=(-15, 15), log_rho=(-15, 15))\n",
    "            kernel = terms.Matern32Term(log_sigma=log_sigma, log_rho=log_rho, eps=eps, bounds=bounds)\n",
    "            #kernel.freeze_parameter(\"eps\")  # We don't want to fit for \"Q\" in this term\n",
    "\n",
    "\n",
    "            gp = celerite.GP(kernel, mean=0)\n",
    "            gp.compute(x, yerr)  # You always need to call compute once.\n",
    "\n",
    "            def neg_log_like(params, y, gp):\n",
    "                gp.set_parameter_vector(params)\n",
    "                return -gp.log_likelihood(y)\n",
    "\n",
    "            def grad_neg_log_like(params, y, gp):\n",
    "                gp.set_parameter_vector(params)\n",
    "                return -gp.grad_log_likelihood(y)[1]\n",
    "\n",
    "            initial_params = gp.get_parameter_vector()\n",
    "            bounds = gp.get_parameter_bounds()\n",
    "\n",
    "            r = minimize(neg_log_like, initial_params, jac=grad_neg_log_like, \n",
    "                         method=\"L-BFGS-B\", bounds=bounds, args=(y, gp))\n",
    "            for i in range(n_param):\n",
    "                res['celerite_%d_%d' % (pb, i)] = r.x[i]\n",
    "        else:\n",
    "            continue\n",
    "    return res"
   ]
  },
  {
   "cell_type": "code",
   "execution_count": 5,
   "metadata": {},
   "outputs": [],
   "source": [
    "def apply_gp(df, meta):\n",
    "    df = df[['object_id', 'mjd', 'passband', 'flux', 'flux_err']].merge(meta[['object_id', 'hostgal_photoz']],\n",
    "                                                           how='left', on='object_id')\n",
    "    agg =  [get_gp(df, object_id) for object_id in tqdm_notebook(df.object_id.unique())]\n",
    "    return pd.concat(agg, axis=0)"
   ]
  },
  {
   "cell_type": "code",
   "execution_count": 6,
   "metadata": {},
   "outputs": [
    {
     "data": {
      "text/html": [
       "<div>\n",
       "<style scoped>\n",
       "    .dataframe tbody tr th:only-of-type {\n",
       "        vertical-align: middle;\n",
       "    }\n",
       "\n",
       "    .dataframe tbody tr th {\n",
       "        vertical-align: top;\n",
       "    }\n",
       "\n",
       "    .dataframe thead th {\n",
       "        text-align: right;\n",
       "    }\n",
       "</style>\n",
       "<table border=\"1\" class=\"dataframe\">\n",
       "  <thead>\n",
       "    <tr style=\"text-align: right;\">\n",
       "      <th></th>\n",
       "      <th>object_id</th>\n",
       "      <th>mjd</th>\n",
       "      <th>passband</th>\n",
       "      <th>flux</th>\n",
       "      <th>flux_err</th>\n",
       "      <th>detected</th>\n",
       "    </tr>\n",
       "  </thead>\n",
       "  <tbody>\n",
       "    <tr>\n",
       "      <th>0</th>\n",
       "      <td>615</td>\n",
       "      <td>59750.4229</td>\n",
       "      <td>2</td>\n",
       "      <td>-544.810303</td>\n",
       "      <td>3.622952</td>\n",
       "      <td>1</td>\n",
       "    </tr>\n",
       "    <tr>\n",
       "      <th>1</th>\n",
       "      <td>615</td>\n",
       "      <td>59750.4306</td>\n",
       "      <td>1</td>\n",
       "      <td>-816.434326</td>\n",
       "      <td>5.553370</td>\n",
       "      <td>1</td>\n",
       "    </tr>\n",
       "    <tr>\n",
       "      <th>2</th>\n",
       "      <td>615</td>\n",
       "      <td>59750.4383</td>\n",
       "      <td>3</td>\n",
       "      <td>-471.385529</td>\n",
       "      <td>3.801213</td>\n",
       "      <td>1</td>\n",
       "    </tr>\n",
       "    <tr>\n",
       "      <th>3</th>\n",
       "      <td>615</td>\n",
       "      <td>59750.4450</td>\n",
       "      <td>4</td>\n",
       "      <td>-388.984985</td>\n",
       "      <td>11.395031</td>\n",
       "      <td>1</td>\n",
       "    </tr>\n",
       "    <tr>\n",
       "      <th>4</th>\n",
       "      <td>615</td>\n",
       "      <td>59752.4070</td>\n",
       "      <td>2</td>\n",
       "      <td>-681.858887</td>\n",
       "      <td>4.041204</td>\n",
       "      <td>1</td>\n",
       "    </tr>\n",
       "  </tbody>\n",
       "</table>\n",
       "</div>"
      ],
      "text/plain": [
       "   object_id         mjd  passband        flux   flux_err  detected\n",
       "0        615  59750.4229         2 -544.810303   3.622952         1\n",
       "1        615  59750.4306         1 -816.434326   5.553370         1\n",
       "2        615  59750.4383         3 -471.385529   3.801213         1\n",
       "3        615  59750.4450         4 -388.984985  11.395031         1\n",
       "4        615  59752.4070         2 -681.858887   4.041204         1"
      ]
     },
     "execution_count": 6,
     "metadata": {},
     "output_type": "execute_result"
    }
   ],
   "source": [
    "train = pd.read_csv('../input/training_set.csv')\n",
    "train.head()"
   ]
  },
  {
   "cell_type": "code",
   "execution_count": 7,
   "metadata": {},
   "outputs": [
    {
     "data": {
      "text/html": [
       "<div>\n",
       "<style scoped>\n",
       "    .dataframe tbody tr th:only-of-type {\n",
       "        vertical-align: middle;\n",
       "    }\n",
       "\n",
       "    .dataframe tbody tr th {\n",
       "        vertical-align: top;\n",
       "    }\n",
       "\n",
       "    .dataframe thead th {\n",
       "        text-align: right;\n",
       "    }\n",
       "</style>\n",
       "<table border=\"1\" class=\"dataframe\">\n",
       "  <thead>\n",
       "    <tr style=\"text-align: right;\">\n",
       "      <th></th>\n",
       "      <th>object_id</th>\n",
       "      <th>ddf</th>\n",
       "      <th>hostgal_photoz</th>\n",
       "      <th>target</th>\n",
       "    </tr>\n",
       "  </thead>\n",
       "  <tbody>\n",
       "    <tr>\n",
       "      <th>0</th>\n",
       "      <td>615</td>\n",
       "      <td>1</td>\n",
       "      <td>0.0000</td>\n",
       "      <td>92</td>\n",
       "    </tr>\n",
       "    <tr>\n",
       "      <th>1</th>\n",
       "      <td>713</td>\n",
       "      <td>1</td>\n",
       "      <td>1.6267</td>\n",
       "      <td>88</td>\n",
       "    </tr>\n",
       "    <tr>\n",
       "      <th>2</th>\n",
       "      <td>730</td>\n",
       "      <td>1</td>\n",
       "      <td>0.2262</td>\n",
       "      <td>42</td>\n",
       "    </tr>\n",
       "    <tr>\n",
       "      <th>3</th>\n",
       "      <td>745</td>\n",
       "      <td>1</td>\n",
       "      <td>0.2813</td>\n",
       "      <td>90</td>\n",
       "    </tr>\n",
       "    <tr>\n",
       "      <th>4</th>\n",
       "      <td>1124</td>\n",
       "      <td>1</td>\n",
       "      <td>0.2415</td>\n",
       "      <td>90</td>\n",
       "    </tr>\n",
       "  </tbody>\n",
       "</table>\n",
       "</div>"
      ],
      "text/plain": [
       "   object_id  ddf  hostgal_photoz  target\n",
       "0        615    1          0.0000      92\n",
       "1        713    1          1.6267      88\n",
       "2        730    1          0.2262      42\n",
       "3        745    1          0.2813      90\n",
       "4       1124    1          0.2415      90"
      ]
     },
     "execution_count": 7,
     "metadata": {},
     "output_type": "execute_result"
    }
   ],
   "source": [
    "meta_cols = ['object_id', 'ddf', 'hostgal_photoz', 'target']\n",
    "meta_train = pd.read_csv('../input/training_set_metadata.csv')[meta_cols]\n",
    "meta_train.head()"
   ]
  },
  {
   "cell_type": "code",
   "execution_count": 8,
   "metadata": {},
   "outputs": [
    {
     "data": {
      "text/html": [
       "<div>\n",
       "<style scoped>\n",
       "    .dataframe tbody tr th:only-of-type {\n",
       "        vertical-align: middle;\n",
       "    }\n",
       "\n",
       "    .dataframe tbody tr th {\n",
       "        vertical-align: top;\n",
       "    }\n",
       "\n",
       "    .dataframe thead th {\n",
       "        text-align: right;\n",
       "    }\n",
       "</style>\n",
       "<table border=\"1\" class=\"dataframe\">\n",
       "  <thead>\n",
       "    <tr style=\"text-align: right;\">\n",
       "      <th></th>\n",
       "      <th>object_id</th>\n",
       "      <th>celerite_0_0</th>\n",
       "      <th>celerite_0_1</th>\n",
       "      <th>celerite_1_0</th>\n",
       "      <th>celerite_1_1</th>\n",
       "      <th>celerite_2_0</th>\n",
       "      <th>celerite_2_1</th>\n",
       "      <th>celerite_3_0</th>\n",
       "      <th>celerite_3_1</th>\n",
       "      <th>celerite_4_0</th>\n",
       "      <th>celerite_4_1</th>\n",
       "      <th>celerite_5_0</th>\n",
       "      <th>celerite_5_1</th>\n",
       "    </tr>\n",
       "  </thead>\n",
       "  <tbody>\n",
       "    <tr>\n",
       "      <th>0</th>\n",
       "      <td>4173</td>\n",
       "      <td>4.372327</td>\n",
       "      <td>5.003063</td>\n",
       "      <td>4.66952</td>\n",
       "      <td>5.350874</td>\n",
       "      <td>5.380249</td>\n",
       "      <td>5.955909</td>\n",
       "      <td>4.256575</td>\n",
       "      <td>5.256</td>\n",
       "      <td>3.884235</td>\n",
       "      <td>5.017465</td>\n",
       "      <td>3.452796</td>\n",
       "      <td>4.815897</td>\n",
       "    </tr>\n",
       "  </tbody>\n",
       "</table>\n",
       "</div>"
      ],
      "text/plain": [
       "   object_id  celerite_0_0  celerite_0_1  celerite_1_0  celerite_1_1  \\\n",
       "0       4173      4.372327      5.003063       4.66952      5.350874   \n",
       "\n",
       "   celerite_2_0  celerite_2_1  celerite_3_0  celerite_3_1  celerite_4_0  \\\n",
       "0      5.380249      5.955909      4.256575         5.256      3.884235   \n",
       "\n",
       "   celerite_4_1  celerite_5_0  celerite_5_1  \n",
       "0      5.017465      3.452796      4.815897  "
      ]
     },
     "execution_count": 8,
     "metadata": {},
     "output_type": "execute_result"
    }
   ],
   "source": [
    "get_gp(train.merge(meta_train, how='left', on='object_id'), 4173)"
   ]
  },
  {
   "cell_type": "code",
   "execution_count": 8,
   "metadata": {},
   "outputs": [
    {
     "data": {
      "text/html": [
       "<div>\n",
       "<style scoped>\n",
       "    .dataframe tbody tr th:only-of-type {\n",
       "        vertical-align: middle;\n",
       "    }\n",
       "\n",
       "    .dataframe tbody tr th {\n",
       "        vertical-align: top;\n",
       "    }\n",
       "\n",
       "    .dataframe thead th {\n",
       "        text-align: right;\n",
       "    }\n",
       "</style>\n",
       "<table border=\"1\" class=\"dataframe\">\n",
       "  <thead>\n",
       "    <tr style=\"text-align: right;\">\n",
       "      <th></th>\n",
       "      <th>object_id</th>\n",
       "      <th>celerite_0_0</th>\n",
       "      <th>celerite_0_1</th>\n",
       "      <th>celerite_1_0</th>\n",
       "      <th>celerite_1_1</th>\n",
       "      <th>celerite_2_0</th>\n",
       "      <th>celerite_2_1</th>\n",
       "      <th>celerite_3_0</th>\n",
       "      <th>celerite_3_1</th>\n",
       "      <th>celerite_4_0</th>\n",
       "      <th>celerite_4_1</th>\n",
       "      <th>celerite_5_0</th>\n",
       "      <th>celerite_5_1</th>\n",
       "    </tr>\n",
       "  </thead>\n",
       "  <tbody>\n",
       "    <tr>\n",
       "      <th>0</th>\n",
       "      <td>4173</td>\n",
       "      <td>4.372327</td>\n",
       "      <td>5.003063</td>\n",
       "      <td>4.66952</td>\n",
       "      <td>5.350874</td>\n",
       "      <td>5.380249</td>\n",
       "      <td>5.955909</td>\n",
       "      <td>4.256575</td>\n",
       "      <td>5.256</td>\n",
       "      <td>3.884235</td>\n",
       "      <td>5.017465</td>\n",
       "      <td>3.440875</td>\n",
       "      <td>4.792469</td>\n",
       "    </tr>\n",
       "  </tbody>\n",
       "</table>\n",
       "</div>"
      ],
      "text/plain": [
       "   object_id  celerite_0_0  celerite_0_1  celerite_1_0  celerite_1_1  \\\n",
       "0       4173      4.372327      5.003063       4.66952      5.350874   \n",
       "\n",
       "   celerite_2_0  celerite_2_1  celerite_3_0  celerite_3_1  celerite_4_0  \\\n",
       "0      5.380249      5.955909      4.256575         5.256      3.884235   \n",
       "\n",
       "   celerite_4_1  celerite_5_0  celerite_5_1  \n",
       "0      5.017465      3.440875      4.792469  "
      ]
     },
     "execution_count": 8,
     "metadata": {},
     "output_type": "execute_result"
    }
   ],
   "source": []
  },
  {
   "cell_type": "code",
   "execution_count": 9,
   "metadata": {},
   "outputs": [],
   "source": [
    "def work_tta(param):\n",
    "    (i, fname) = param\n",
    "    print('starting worker', i)\n",
    "    train = pd.read_csv('../input/training_set.csv')\n",
    "    meta_train = pd.read_csv('../input/training_set_metadata.csv')[meta_cols]\n",
    "    df = train.copy()\n",
    "    if i > 0:\n",
    "        init_seeds(i)\n",
    "        df['flux'] += df['flux_err'] * np.random.randn(*df['flux_err'].shape)\n",
    "    df = apply_gp(df, meta_train)\n",
    "    with open('../data/tta_%d_%s.pkl' % (i, fname), 'wb') as file:\n",
    "        pkl.dump(df, file)  \n",
    "    print('ending worker', i)\n",
    "    return 'done'"
   ]
  },
  {
   "cell_type": "code",
   "execution_count": 10,
   "metadata": {
    "scrolled": true
   },
   "outputs": [
    {
     "name": "stdout",
     "output_type": "stream",
     "text": [
      "starting worker 2\n",
      "starting worker 0\n",
      "starting worker 5\n",
      "starting worker 1\n",
      "starting worker 3\n",
      "starting worker 7\n",
      "starting worker 8\n",
      "starting worker 4\n",
      "starting worker 6\n",
      "starting worker 9\n",
      "starting worker 10\n"
     ]
    },
    {
     "data": {
      "application/vnd.jupyter.widget-view+json": {
       "model_id": "055ec5381e224bf4aa8b822d643bef44",
       "version_major": 2,
       "version_minor": 0
      },
      "text/plain": [
       "HBox(children=(IntProgress(value=0, max=7848), HTML(value='')))"
      ]
     },
     "metadata": {},
     "output_type": "display_data"
    },
    {
     "data": {
      "application/vnd.jupyter.widget-view+json": {
       "model_id": "eccc4f4abb6f4469949010054621ba13",
       "version_major": 2,
       "version_minor": 0
      },
      "text/plain": [
       "HBox(children=(IntProgress(value=0, max=7848), HTML(value='')))"
      ]
     },
     "metadata": {},
     "output_type": "display_data"
    },
    {
     "data": {
      "application/vnd.jupyter.widget-view+json": {
       "model_id": "7a5a7f381a2148ddb753e3993676928a",
       "version_major": 2,
       "version_minor": 0
      },
      "text/plain": [
       "HBox(children=(IntProgress(value=0, max=7848), HTML(value='')))"
      ]
     },
     "metadata": {},
     "output_type": "display_data"
    },
    {
     "data": {
      "application/vnd.jupyter.widget-view+json": {
       "model_id": "3b5c7b17c28247fbb1248c91feabee0b",
       "version_major": 2,
       "version_minor": 0
      },
      "text/plain": [
       "HBox(children=(IntProgress(value=0, max=7848), HTML(value='')))"
      ]
     },
     "metadata": {},
     "output_type": "display_data"
    },
    {
     "data": {
      "application/vnd.jupyter.widget-view+json": {
       "model_id": "1f0df15e730e42a0bc602dbc25b4d249",
       "version_major": 2,
       "version_minor": 0
      },
      "text/plain": [
       "HBox(children=(IntProgress(value=0, max=7848), HTML(value='')))"
      ]
     },
     "metadata": {},
     "output_type": "display_data"
    },
    {
     "data": {
      "application/vnd.jupyter.widget-view+json": {
       "model_id": "fff19743f3bd47f880d906aa2bd99cda",
       "version_major": 2,
       "version_minor": 0
      },
      "text/plain": [
       "HBox(children=(IntProgress(value=0, max=7848), HTML(value='')))"
      ]
     },
     "metadata": {},
     "output_type": "display_data"
    },
    {
     "data": {
      "application/vnd.jupyter.widget-view+json": {
       "model_id": "baefe6c321c345cb97e504a0eda324eb",
       "version_major": 2,
       "version_minor": 0
      },
      "text/plain": [
       "HBox(children=(IntProgress(value=0, max=7848), HTML(value='')))"
      ]
     },
     "metadata": {},
     "output_type": "display_data"
    },
    {
     "data": {
      "application/vnd.jupyter.widget-view+json": {
       "model_id": "b4605f0a84414c29a339d7517733972b",
       "version_major": 2,
       "version_minor": 0
      },
      "text/plain": [
       "HBox(children=(IntProgress(value=0, max=7848), HTML(value='')))"
      ]
     },
     "metadata": {},
     "output_type": "display_data"
    },
    {
     "data": {
      "application/vnd.jupyter.widget-view+json": {
       "model_id": "d469f7b4f9af44ff93910f5aec1e17e2",
       "version_major": 2,
       "version_minor": 0
      },
      "text/plain": [
       "HBox(children=(IntProgress(value=0, max=7848), HTML(value='')))"
      ]
     },
     "metadata": {},
     "output_type": "display_data"
    },
    {
     "data": {
      "application/vnd.jupyter.widget-view+json": {
       "model_id": "c8045a76ae1b4a7dbfdce2b89e8be1f9",
       "version_major": 2,
       "version_minor": 0
      },
      "text/plain": [
       "HBox(children=(IntProgress(value=0, max=7848), HTML(value='')))"
      ]
     },
     "metadata": {},
     "output_type": "display_data"
    },
    {
     "data": {
      "application/vnd.jupyter.widget-view+json": {
       "model_id": "f368619da67e491a9399790950f72025",
       "version_major": 2,
       "version_minor": 0
      },
      "text/plain": [
       "HBox(children=(IntProgress(value=0, max=7848), HTML(value='')))"
      ]
     },
     "metadata": {},
     "output_type": "display_data"
    },
    {
     "name": "stdout",
     "output_type": "stream",
     "text": [
      "\n",
      "ending worker 7\n",
      "\n",
      "ending worker 8\n",
      "\n",
      "\n",
      "\n",
      "ending worker 3\n",
      "\n",
      "\n",
      "ending worker 5\n",
      "\n",
      "ending worker 0\n",
      "ending worker 9\n",
      "ending worker 4\n",
      "ending worker 1\n",
      "\n",
      "ending worker 10\n",
      "\n",
      "ending worker 2\n",
      "\n",
      "ending worker 6\n"
     ]
    }
   ],
   "source": [
    "params = [(i, fname) for i in range(11)]\n",
    "\n",
    "if 1: \n",
    "    pool = Pool(processes=11, maxtasksperchild=1)\n",
    "    ls   = pool.map( work_tta, params, chunksize=1 )\n",
    "    pool.close()\n",
    "else:\n",
    "    ls = [work_tta(param) for param in params]"
   ]
  },
  {
   "cell_type": "code",
   "execution_count": null,
   "metadata": {
    "scrolled": true
   },
   "outputs": [
    {
     "name": "stdout",
     "output_type": "stream",
     "text": [
      "starting worker 1\n",
      "starting worker 0\n",
      "starting worker 2\n",
      "starting worker 3\n",
      "starting worker 7\n",
      "starting worker 5\n",
      "starting worker 4\n",
      "starting worker 6\n",
      "starting worker 8\n",
      "starting worker 10\n",
      "starting worker 9\n"
     ]
    },
    {
     "data": {
      "application/vnd.jupyter.widget-view+json": {
       "model_id": "b73097db30c948ec95bdeae042d30f72",
       "version_major": 2,
       "version_minor": 0
      },
      "text/plain": [
       "HBox(children=(IntProgress(value=0, max=7848), HTML(value='')))"
      ]
     },
     "metadata": {},
     "output_type": "display_data"
    },
    {
     "data": {
      "application/vnd.jupyter.widget-view+json": {
       "model_id": "6ecc80db2b0e4898b52a8aa4630bc0bb",
       "version_major": 2,
       "version_minor": 0
      },
      "text/plain": [
       "HBox(children=(IntProgress(value=0, max=7848), HTML(value='')))"
      ]
     },
     "metadata": {},
     "output_type": "display_data"
    },
    {
     "data": {
      "application/vnd.jupyter.widget-view+json": {
       "model_id": "6e4dd2a6fd444d06bffed8c7bd7b5c6b",
       "version_major": 2,
       "version_minor": 0
      },
      "text/plain": [
       "HBox(children=(IntProgress(value=0, max=7848), HTML(value='')))"
      ]
     },
     "metadata": {},
     "output_type": "display_data"
    },
    {
     "data": {
      "application/vnd.jupyter.widget-view+json": {
       "model_id": "0eab5b22761843f28e7c2ff2c1d99305",
       "version_major": 2,
       "version_minor": 0
      },
      "text/plain": [
       "HBox(children=(IntProgress(value=0, max=7848), HTML(value='')))"
      ]
     },
     "metadata": {},
     "output_type": "display_data"
    },
    {
     "data": {
      "application/vnd.jupyter.widget-view+json": {
       "model_id": "f5dfdb471f44464eb4cfd36bef0e95cf",
       "version_major": 2,
       "version_minor": 0
      },
      "text/plain": [
       "HBox(children=(IntProgress(value=0, max=7848), HTML(value='')))"
      ]
     },
     "metadata": {},
     "output_type": "display_data"
    },
    {
     "data": {
      "application/vnd.jupyter.widget-view+json": {
       "model_id": "e96259aa66d14fa5bacea4f554de342e",
       "version_major": 2,
       "version_minor": 0
      },
      "text/plain": [
       "HBox(children=(IntProgress(value=0, max=7848), HTML(value='')))"
      ]
     },
     "metadata": {},
     "output_type": "display_data"
    },
    {
     "data": {
      "application/vnd.jupyter.widget-view+json": {
       "model_id": "0577077a150a424fa4ef7c50426ed125",
       "version_major": 2,
       "version_minor": 0
      },
      "text/plain": [
       "HBox(children=(IntProgress(value=0, max=7848), HTML(value='')))"
      ]
     },
     "metadata": {},
     "output_type": "display_data"
    },
    {
     "data": {
      "application/vnd.jupyter.widget-view+json": {
       "model_id": "ab0b35f698fd4fa5897a129b0db250d6",
       "version_major": 2,
       "version_minor": 0
      },
      "text/plain": [
       "HBox(children=(IntProgress(value=0, max=7848), HTML(value='')))"
      ]
     },
     "metadata": {},
     "output_type": "display_data"
    },
    {
     "data": {
      "application/vnd.jupyter.widget-view+json": {
       "model_id": "17d8fbecaabd450599501d3aab450ffc",
       "version_major": 2,
       "version_minor": 0
      },
      "text/plain": [
       "HBox(children=(IntProgress(value=0, max=7848), HTML(value='')))"
      ]
     },
     "metadata": {},
     "output_type": "display_data"
    },
    {
     "data": {
      "application/vnd.jupyter.widget-view+json": {
       "model_id": "e95cb3f771f6438bb39b3374ca7c04ad",
       "version_major": 2,
       "version_minor": 0
      },
      "text/plain": [
       "HBox(children=(IntProgress(value=0, max=7848), HTML(value='')))"
      ]
     },
     "metadata": {},
     "output_type": "display_data"
    },
    {
     "data": {
      "application/vnd.jupyter.widget-view+json": {
       "model_id": "b4ddfc8e5daa4c8d9641ce0fd6dccf9e",
       "version_major": 2,
       "version_minor": 0
      },
      "text/plain": [
       "HBox(children=(IntProgress(value=0, max=7848), HTML(value='')))"
      ]
     },
     "metadata": {},
     "output_type": "display_data"
    }
   ],
   "source": []
  },
  {
   "cell_type": "code",
   "execution_count": 11,
   "metadata": {},
   "outputs": [],
   "source": [
    "def work_test(param):\n",
    "    (i, fname) = param\n",
    "    print('starting worker', i)\n",
    "    with open('../input/test_chunk_%d.csv' %i, 'rb') as file:\n",
    "        test = pkl.load(file)\n",
    "    meta_test = pd.read_csv('../input/training_set_metadata.csv')[meta_cols]\n",
    "    df = apply_gp(test, meta_test)\n",
    "    with open('../data/test_%d_%s.pkl' % (i, fname), 'wb') as file:\n",
    "        pkl.dump(df, file)  \n",
    "    print('ending worker', i)\n",
    "    return 'done'"
   ]
  },
  {
   "cell_type": "code",
   "execution_count": 12,
   "metadata": {
    "scrolled": true
   },
   "outputs": [
    {
     "name": "stdout",
     "output_type": "stream",
     "text": [
      "starting worker 0\n",
      "starting worker 2\n",
      "starting worker 4\n",
      "starting worker 3\n",
      "starting worker 6\n",
      "starting worker 8\n",
      "starting worker 5\n",
      "starting worker 1\n",
      "starting worker 7\n",
      "starting worker 15\n",
      "starting worker 11\n",
      "starting worker 9\n",
      "starting worker 10\n",
      "starting worker 14\n",
      "starting worker 13\n",
      "starting worker 12\n",
      "starting worker 18\n",
      "starting worker 16\n",
      "starting worker 19\n",
      "starting worker 17\n"
     ]
    },
    {
     "data": {
      "application/vnd.jupyter.widget-view+json": {
       "model_id": "081e7a429d86495c80833ac91191028f",
       "version_major": 2,
       "version_minor": 0
      },
      "text/plain": [
       "HBox(children=(IntProgress(value=0, max=15137), HTML(value='')))"
      ]
     },
     "metadata": {},
     "output_type": "display_data"
    },
    {
     "data": {
      "application/vnd.jupyter.widget-view+json": {
       "model_id": "781ff9d5e6ed4d18956acd0f7b8cac28",
       "version_major": 2,
       "version_minor": 0
      },
      "text/plain": [
       "HBox(children=(IntProgress(value=0, max=39057), HTML(value='')))"
      ]
     },
     "metadata": {},
     "output_type": "display_data"
    },
    {
     "data": {
      "application/vnd.jupyter.widget-view+json": {
       "model_id": "f3bf7e21700b458e8877e744bfaa35e7",
       "version_major": 2,
       "version_minor": 0
      },
      "text/plain": [
       "HBox(children=(IntProgress(value=0, max=39048), HTML(value='')))"
      ]
     },
     "metadata": {},
     "output_type": "display_data"
    },
    {
     "data": {
      "application/vnd.jupyter.widget-view+json": {
       "model_id": "0ae14288da2c49b7b5da6c9448508e96",
       "version_major": 2,
       "version_minor": 0
      },
      "text/plain": [
       "HBox(children=(IntProgress(value=0, max=39078), HTML(value='')))"
      ]
     },
     "metadata": {},
     "output_type": "display_data"
    },
    {
     "data": {
      "application/vnd.jupyter.widget-view+json": {
       "model_id": "ad260cbca39244f4930c06cb8a97aa59",
       "version_major": 2,
       "version_minor": 0
      },
      "text/plain": [
       "HBox(children=(IntProgress(value=0, max=39055), HTML(value='')))"
      ]
     },
     "metadata": {},
     "output_type": "display_data"
    },
    {
     "data": {
      "application/vnd.jupyter.widget-view+json": {
       "model_id": "82a0531942e94d4aa2155f706beeac1c",
       "version_major": 2,
       "version_minor": 0
      },
      "text/plain": [
       "HBox(children=(IntProgress(value=0, max=34964), HTML(value='')))"
      ]
     },
     "metadata": {},
     "output_type": "display_data"
    },
    {
     "data": {
      "application/vnd.jupyter.widget-view+json": {
       "model_id": "5f04dea202824a74ad3b409327ba06da",
       "version_major": 2,
       "version_minor": 0
      },
      "text/plain": [
       "HBox(children=(IntProgress(value=0, max=15183), HTML(value='')))"
      ]
     },
     "metadata": {},
     "output_type": "display_data"
    },
    {
     "data": {
      "application/vnd.jupyter.widget-view+json": {
       "model_id": "8349dfe2209a49db8c163dccdb0c247c",
       "version_major": 2,
       "version_minor": 0
      },
      "text/plain": [
       "HBox(children=(IntProgress(value=0, max=39079), HTML(value='')))"
      ]
     },
     "metadata": {},
     "output_type": "display_data"
    },
    {
     "data": {
      "application/vnd.jupyter.widget-view+json": {
       "model_id": "b00a953f1145411e84308e8c519760cc",
       "version_major": 2,
       "version_minor": 0
      },
      "text/plain": [
       "HBox(children=(IntProgress(value=0, max=39096), HTML(value='')))"
      ]
     },
     "metadata": {},
     "output_type": "display_data"
    },
    {
     "data": {
      "application/vnd.jupyter.widget-view+json": {
       "model_id": "1828cabe3d534c50b60b7c3184898b89",
       "version_major": 2,
       "version_minor": 0
      },
      "text/plain": [
       "HBox(children=(IntProgress(value=0, max=39054), HTML(value='')))"
      ]
     },
     "metadata": {},
     "output_type": "display_data"
    },
    {
     "data": {
      "application/vnd.jupyter.widget-view+json": {
       "model_id": "9f5957409ada4a0f944c8f80c62baa9b",
       "version_major": 2,
       "version_minor": 0
      },
      "text/plain": [
       "HBox(children=(IntProgress(value=0, max=39058), HTML(value='')))"
      ]
     },
     "metadata": {},
     "output_type": "display_data"
    },
    {
     "data": {
      "application/vnd.jupyter.widget-view+json": {
       "model_id": "1703aae7b6ec4856b95f4bfdfbc51901",
       "version_major": 2,
       "version_minor": 0
      },
      "text/plain": [
       "HBox(children=(IntProgress(value=0, max=39033), HTML(value='')))"
      ]
     },
     "metadata": {},
     "output_type": "display_data"
    },
    {
     "data": {
      "application/vnd.jupyter.widget-view+json": {
       "model_id": "bb4caad2c94140b6b7721025f86130cb",
       "version_major": 2,
       "version_minor": 0
      },
      "text/plain": [
       "HBox(children=(IntProgress(value=0, max=39087), HTML(value='')))"
      ]
     },
     "metadata": {},
     "output_type": "display_data"
    },
    {
     "data": {
      "application/vnd.jupyter.widget-view+json": {
       "model_id": "7dcffb5b2cd24f73a6ee4d74a8165763",
       "version_major": 2,
       "version_minor": 0
      },
      "text/plain": [
       "HBox(children=(IntProgress(value=0, max=39098), HTML(value='')))"
      ]
     },
     "metadata": {},
     "output_type": "display_data"
    },
    {
     "data": {
      "application/vnd.jupyter.widget-view+json": {
       "model_id": "eb55ad2cb2e6498783d5d1f19a83afc2",
       "version_major": 2,
       "version_minor": 0
      },
      "text/plain": [
       "HBox(children=(IntProgress(value=0, max=39078), HTML(value='')))"
      ]
     },
     "metadata": {},
     "output_type": "display_data"
    },
    {
     "data": {
      "application/vnd.jupyter.widget-view+json": {
       "model_id": "336f44ab4e0c4faaa3cb1e12fbcc3c88",
       "version_major": 2,
       "version_minor": 0
      },
      "text/plain": [
       "HBox(children=(IntProgress(value=0, max=39110), HTML(value='')))"
      ]
     },
     "metadata": {},
     "output_type": "display_data"
    },
    {
     "data": {
      "application/vnd.jupyter.widget-view+json": {
       "model_id": "9dad29362b4646f5901f0f4d3f0096e8",
       "version_major": 2,
       "version_minor": 0
      },
      "text/plain": [
       "HBox(children=(IntProgress(value=0, max=39096), HTML(value='')))"
      ]
     },
     "metadata": {},
     "output_type": "display_data"
    },
    {
     "data": {
      "application/vnd.jupyter.widget-view+json": {
       "model_id": "a1ede30be16d480abc72fbc0ab02c239",
       "version_major": 2,
       "version_minor": 0
      },
      "text/plain": [
       "HBox(children=(IntProgress(value=0, max=39054), HTML(value='')))"
      ]
     },
     "metadata": {},
     "output_type": "display_data"
    },
    {
     "data": {
      "application/vnd.jupyter.widget-view+json": {
       "model_id": "8b0514cee05d468a8e7ff73f51285e18",
       "version_major": 2,
       "version_minor": 0
      },
      "text/plain": [
       "HBox(children=(IntProgress(value=0, max=39095), HTML(value='')))"
      ]
     },
     "metadata": {},
     "output_type": "display_data"
    },
    {
     "data": {
      "application/vnd.jupyter.widget-view+json": {
       "model_id": "a3af7b89986e462280dd9377a6b645d8",
       "version_major": 2,
       "version_minor": 0
      },
      "text/plain": [
       "HBox(children=(IntProgress(value=0, max=39092), HTML(value='')))"
      ]
     },
     "metadata": {},
     "output_type": "display_data"
    },
    {
     "name": "stderr",
     "output_type": "stream",
     "text": [
      "/home/jfpuget/anaconda3/envs/xgb8/lib/python3.6/site-packages/celerite/celerite.py:119: RuntimeWarning: invalid value encountered in less\n",
      "  if check_sorted and np.any(np.diff(t) < 0.0):\n",
      "/home/jfpuget/anaconda3/envs/xgb8/lib/python3.6/site-packages/celerite/celerite.py:119: RuntimeWarning: invalid value encountered in less\n",
      "  if check_sorted and np.any(np.diff(t) < 0.0):\n",
      "/home/jfpuget/anaconda3/envs/xgb8/lib/python3.6/site-packages/celerite/celerite.py:119: RuntimeWarning: invalid value encountered in less\n",
      "  if check_sorted and np.any(np.diff(t) < 0.0):\n",
      "/home/jfpuget/anaconda3/envs/xgb8/lib/python3.6/site-packages/celerite/celerite.py:119: RuntimeWarning: invalid value encountered in less\n",
      "  if check_sorted and np.any(np.diff(t) < 0.0):\n",
      "/home/jfpuget/anaconda3/envs/xgb8/lib/python3.6/site-packages/celerite/celerite.py:119: RuntimeWarning: invalid value encountered in less\n",
      "  if check_sorted and np.any(np.diff(t) < 0.0):\n"
     ]
    },
    {
     "name": "stdout",
     "output_type": "stream",
     "text": [
      "\n",
      "ending worker 1\n",
      "starting worker 20\n"
     ]
    },
    {
     "data": {
      "application/vnd.jupyter.widget-view+json": {
       "model_id": "feb5b649cc574ff79ee1792feb5767e4",
       "version_major": 2,
       "version_minor": 0
      },
      "text/plain": [
       "HBox(children=(IntProgress(value=0, max=39036), HTML(value='')))"
      ]
     },
     "metadata": {},
     "output_type": "display_data"
    },
    {
     "name": "stderr",
     "output_type": "stream",
     "text": [
      "/home/jfpuget/anaconda3/envs/xgb8/lib/python3.6/site-packages/celerite/celerite.py:119: RuntimeWarning: invalid value encountered in less\n",
      "  if check_sorted and np.any(np.diff(t) < 0.0):\n",
      "/home/jfpuget/anaconda3/envs/xgb8/lib/python3.6/site-packages/celerite/celerite.py:119: RuntimeWarning: invalid value encountered in less\n",
      "  if check_sorted and np.any(np.diff(t) < 0.0):\n"
     ]
    },
    {
     "name": "stdout",
     "output_type": "stream",
     "text": [
      "\n",
      "ending worker 0\n",
      "starting worker 21\n"
     ]
    },
    {
     "data": {
      "application/vnd.jupyter.widget-view+json": {
       "model_id": "7917d9f219ef437caf59ca95e8709a14",
       "version_major": 2,
       "version_minor": 0
      },
      "text/plain": [
       "HBox(children=(IntProgress(value=0, max=39020), HTML(value='')))"
      ]
     },
     "metadata": {},
     "output_type": "display_data"
    },
    {
     "name": "stderr",
     "output_type": "stream",
     "text": [
      "/home/jfpuget/anaconda3/envs/xgb8/lib/python3.6/site-packages/celerite/celerite.py:119: RuntimeWarning: invalid value encountered in less\n",
      "  if check_sorted and np.any(np.diff(t) < 0.0):\n",
      "/home/jfpuget/anaconda3/envs/xgb8/lib/python3.6/site-packages/celerite/celerite.py:119: RuntimeWarning: invalid value encountered in less\n",
      "  if check_sorted and np.any(np.diff(t) < 0.0):\n"
     ]
    },
    {
     "name": "stdout",
     "output_type": "stream",
     "text": [
      "\n",
      "ending worker 2\n",
      "starting worker 22\n"
     ]
    },
    {
     "data": {
      "application/vnd.jupyter.widget-view+json": {
       "model_id": "12908b72b6874ace82cb9da2f91147c6",
       "version_major": 2,
       "version_minor": 0
      },
      "text/plain": [
       "HBox(children=(IntProgress(value=0, max=39103), HTML(value='')))"
      ]
     },
     "metadata": {},
     "output_type": "display_data"
    },
    {
     "name": "stdout",
     "output_type": "stream",
     "text": [
      "\n",
      "ending worker 17\n",
      "starting worker 23\n"
     ]
    },
    {
     "data": {
      "application/vnd.jupyter.widget-view+json": {
       "model_id": "8c92c11e3dee4c4ab740bc02e5a69d1c",
       "version_major": 2,
       "version_minor": 0
      },
      "text/plain": [
       "HBox(children=(IntProgress(value=0, max=39054), HTML(value='')))"
      ]
     },
     "metadata": {},
     "output_type": "display_data"
    },
    {
     "name": "stdout",
     "output_type": "stream",
     "text": [
      "\n",
      "ending worker 15\n",
      "starting worker 24\n"
     ]
    },
    {
     "data": {
      "application/vnd.jupyter.widget-view+json": {
       "model_id": "e004d296d8214f6a958232289f273759",
       "version_major": 2,
       "version_minor": 0
      },
      "text/plain": [
       "HBox(children=(IntProgress(value=0, max=39084), HTML(value='')))"
      ]
     },
     "metadata": {},
     "output_type": "display_data"
    },
    {
     "name": "stdout",
     "output_type": "stream",
     "text": [
      "\n",
      "ending worker 14\n",
      "starting worker 25\n"
     ]
    },
    {
     "data": {
      "application/vnd.jupyter.widget-view+json": {
       "model_id": "e10fe83368964f69b5be5c72a0d104ca",
       "version_major": 2,
       "version_minor": 0
      },
      "text/plain": [
       "HBox(children=(IntProgress(value=0, max=39094), HTML(value='')))"
      ]
     },
     "metadata": {},
     "output_type": "display_data"
    },
    {
     "name": "stdout",
     "output_type": "stream",
     "text": [
      "\n",
      "\n",
      "ending worker 18\n",
      "starting worker 26\n"
     ]
    },
    {
     "data": {
      "application/vnd.jupyter.widget-view+json": {
       "model_id": "c40f9d61202e42a48c8c8304e035bcd3",
       "version_major": 2,
       "version_minor": 0
      },
      "text/plain": [
       "HBox(children=(IntProgress(value=0, max=39048), HTML(value='')))"
      ]
     },
     "metadata": {},
     "output_type": "display_data"
    },
    {
     "name": "stdout",
     "output_type": "stream",
     "text": [
      "ending worker 11\n",
      "starting worker 27\n"
     ]
    },
    {
     "data": {
      "application/vnd.jupyter.widget-view+json": {
       "model_id": "8a571bb8c63d41eb9a1d1acd1cef3984",
       "version_major": 2,
       "version_minor": 0
      },
      "text/plain": [
       "HBox(children=(IntProgress(value=0, max=39086), HTML(value='')))"
      ]
     },
     "metadata": {},
     "output_type": "display_data"
    },
    {
     "name": "stdout",
     "output_type": "stream",
     "text": [
      "\n",
      "\n",
      "ending worker 10\n",
      "starting worker 28\n"
     ]
    },
    {
     "data": {
      "application/vnd.jupyter.widget-view+json": {
       "model_id": "09bffa98949f49128250f1474b097767",
       "version_major": 2,
       "version_minor": 0
      },
      "text/plain": [
       "HBox(children=(IntProgress(value=0, max=39095), HTML(value='')))"
      ]
     },
     "metadata": {},
     "output_type": "display_data"
    },
    {
     "name": "stdout",
     "output_type": "stream",
     "text": [
      "ending worker 8\n",
      "starting worker 29\n"
     ]
    },
    {
     "data": {
      "application/vnd.jupyter.widget-view+json": {
       "model_id": "86baa0da721f4a80815b315be9723348",
       "version_major": 2,
       "version_minor": 0
      },
      "text/plain": [
       "HBox(children=(IntProgress(value=0, max=39083), HTML(value='')))"
      ]
     },
     "metadata": {},
     "output_type": "display_data"
    },
    {
     "name": "stdout",
     "output_type": "stream",
     "text": [
      "\n",
      "\n",
      "ending worker 7\n",
      "starting worker 30\n"
     ]
    },
    {
     "data": {
      "application/vnd.jupyter.widget-view+json": {
       "model_id": "476eeff05e5b438daf26731c05a88885",
       "version_major": 2,
       "version_minor": 0
      },
      "text/plain": [
       "HBox(children=(IntProgress(value=0, max=39084), HTML(value='')))"
      ]
     },
     "metadata": {},
     "output_type": "display_data"
    },
    {
     "name": "stdout",
     "output_type": "stream",
     "text": [
      "ending worker 19\n",
      "starting worker 31\n"
     ]
    },
    {
     "data": {
      "application/vnd.jupyter.widget-view+json": {
       "model_id": "440fe94d34324ed880de4b8f97e8ca68",
       "version_major": 2,
       "version_minor": 0
      },
      "text/plain": [
       "HBox(children=(IntProgress(value=0, max=39058), HTML(value='')))"
      ]
     },
     "metadata": {},
     "output_type": "display_data"
    },
    {
     "name": "stdout",
     "output_type": "stream",
     "text": [
      "\n",
      "ending worker 3\n",
      "starting worker 32\n"
     ]
    },
    {
     "data": {
      "application/vnd.jupyter.widget-view+json": {
       "model_id": "54a3fb1ddd6d4bcc8162d66224b2cc5a",
       "version_major": 2,
       "version_minor": 0
      },
      "text/plain": [
       "HBox(children=(IntProgress(value=0, max=39080), HTML(value='')))"
      ]
     },
     "metadata": {},
     "output_type": "display_data"
    },
    {
     "name": "stdout",
     "output_type": "stream",
     "text": [
      "\n",
      "ending worker 13\n",
      "starting worker 33\n",
      "\n"
     ]
    },
    {
     "data": {
      "application/vnd.jupyter.widget-view+json": {
       "model_id": "14f42c707acf41658665725876a6f61b",
       "version_major": 2,
       "version_minor": 0
      },
      "text/plain": [
       "HBox(children=(IntProgress(value=0, max=39072), HTML(value='')))"
      ]
     },
     "metadata": {},
     "output_type": "display_data"
    },
    {
     "name": "stdout",
     "output_type": "stream",
     "text": [
      "\n",
      "ending worker 12\n",
      "starting worker 34\n"
     ]
    },
    {
     "data": {
      "application/vnd.jupyter.widget-view+json": {
       "model_id": "61bd8aa5226a40e9b2fd39219ee80c39",
       "version_major": 2,
       "version_minor": 0
      },
      "text/plain": [
       "HBox(children=(IntProgress(value=0, max=39073), HTML(value='')))"
      ]
     },
     "metadata": {},
     "output_type": "display_data"
    },
    {
     "name": "stdout",
     "output_type": "stream",
     "text": [
      "ending worker 16\n",
      "starting worker 35\n"
     ]
    },
    {
     "data": {
      "application/vnd.jupyter.widget-view+json": {
       "model_id": "f5ba91c875fa40d3a1fc51ffc1d69fa0",
       "version_major": 2,
       "version_minor": 0
      },
      "text/plain": [
       "HBox(children=(IntProgress(value=0, max=39094), HTML(value='')))"
      ]
     },
     "metadata": {},
     "output_type": "display_data"
    },
    {
     "name": "stderr",
     "output_type": "stream",
     "text": [
      "/home/jfpuget/anaconda3/envs/xgb8/lib/python3.6/site-packages/celerite/celerite.py:119: RuntimeWarning: invalid value encountered in less\n",
      "  if check_sorted and np.any(np.diff(t) < 0.0):\n"
     ]
    },
    {
     "name": "stdout",
     "output_type": "stream",
     "text": [
      "\n",
      "ending worker 9\n",
      "starting worker 36\n"
     ]
    },
    {
     "data": {
      "application/vnd.jupyter.widget-view+json": {
       "model_id": "4e9a1907b9044b74b09082a44c93665f",
       "version_major": 2,
       "version_minor": 0
      },
      "text/plain": [
       "HBox(children=(IntProgress(value=0, max=39106), HTML(value='')))"
      ]
     },
     "metadata": {},
     "output_type": "display_data"
    },
    {
     "name": "stdout",
     "output_type": "stream",
     "text": [
      "\n",
      "ending worker 6\n",
      "starting worker 37\n"
     ]
    },
    {
     "data": {
      "application/vnd.jupyter.widget-view+json": {
       "model_id": "3f7770c9a0f94968bf0dd05c7123361f",
       "version_major": 2,
       "version_minor": 0
      },
      "text/plain": [
       "HBox(children=(IntProgress(value=0, max=39054), HTML(value='')))"
      ]
     },
     "metadata": {},
     "output_type": "display_data"
    },
    {
     "name": "stdout",
     "output_type": "stream",
     "text": [
      "\n",
      "ending worker 5\n",
      "starting worker 38\n"
     ]
    },
    {
     "data": {
      "application/vnd.jupyter.widget-view+json": {
       "model_id": "7c30ce8e8850483ca10cb1735d7ee491",
       "version_major": 2,
       "version_minor": 0
      },
      "text/plain": [
       "HBox(children=(IntProgress(value=0, max=39070), HTML(value='')))"
      ]
     },
     "metadata": {},
     "output_type": "display_data"
    },
    {
     "name": "stdout",
     "output_type": "stream",
     "text": [
      "\n",
      "ending worker 4\n",
      "starting worker 39\n"
     ]
    },
    {
     "data": {
      "application/vnd.jupyter.widget-view+json": {
       "model_id": "c05ceea5df6a491591ac7370462edd29",
       "version_major": 2,
       "version_minor": 0
      },
      "text/plain": [
       "HBox(children=(IntProgress(value=0, max=39041), HTML(value='')))"
      ]
     },
     "metadata": {},
     "output_type": "display_data"
    },
    {
     "name": "stderr",
     "output_type": "stream",
     "text": [
      "/home/jfpuget/anaconda3/envs/xgb8/lib/python3.6/site-packages/celerite/celerite.py:119: RuntimeWarning: invalid value encountered in less\n",
      "  if check_sorted and np.any(np.diff(t) < 0.0):\n",
      "/home/jfpuget/anaconda3/envs/xgb8/lib/python3.6/site-packages/celerite/celerite.py:119: RuntimeWarning: invalid value encountered in less\n",
      "  if check_sorted and np.any(np.diff(t) < 0.0):\n",
      "/home/jfpuget/anaconda3/envs/xgb8/lib/python3.6/site-packages/celerite/celerite.py:119: RuntimeWarning: invalid value encountered in less\n",
      "  if check_sorted and np.any(np.diff(t) < 0.0):\n",
      "/home/jfpuget/anaconda3/envs/xgb8/lib/python3.6/site-packages/celerite/celerite.py:119: RuntimeWarning: invalid value encountered in less\n",
      "  if check_sorted and np.any(np.diff(t) < 0.0):\n"
     ]
    },
    {
     "name": "stdout",
     "output_type": "stream",
     "text": [
      "\n",
      "ending worker 20\n",
      "starting worker 40\n"
     ]
    },
    {
     "data": {
      "application/vnd.jupyter.widget-view+json": {
       "model_id": "c758ba50473345f3913a8773e564d5ef",
       "version_major": 2,
       "version_minor": 0
      },
      "text/plain": [
       "HBox(children=(IntProgress(value=0, max=39098), HTML(value='')))"
      ]
     },
     "metadata": {},
     "output_type": "display_data"
    },
    {
     "name": "stderr",
     "output_type": "stream",
     "text": [
      "/home/jfpuget/anaconda3/envs/xgb8/lib/python3.6/site-packages/celerite/celerite.py:119: RuntimeWarning: invalid value encountered in less\n",
      "  if check_sorted and np.any(np.diff(t) < 0.0):\n"
     ]
    },
    {
     "name": "stdout",
     "output_type": "stream",
     "text": [
      "\n",
      "ending worker 21\n",
      "starting worker 41\n"
     ]
    },
    {
     "data": {
      "application/vnd.jupyter.widget-view+json": {
       "model_id": "e033b743ebce4cdeaab35ffebc70f755",
       "version_major": 2,
       "version_minor": 0
      },
      "text/plain": [
       "HBox(children=(IntProgress(value=0, max=39046), HTML(value='')))"
      ]
     },
     "metadata": {},
     "output_type": "display_data"
    },
    {
     "name": "stderr",
     "output_type": "stream",
     "text": [
      "/home/jfpuget/anaconda3/envs/xgb8/lib/python3.6/site-packages/celerite/celerite.py:119: RuntimeWarning: invalid value encountered in less\n",
      "  if check_sorted and np.any(np.diff(t) < 0.0):\n",
      "/home/jfpuget/anaconda3/envs/xgb8/lib/python3.6/site-packages/celerite/celerite.py:119: RuntimeWarning: invalid value encountered in less\n",
      "  if check_sorted and np.any(np.diff(t) < 0.0):\n",
      "/home/jfpuget/anaconda3/envs/xgb8/lib/python3.6/site-packages/celerite/celerite.py:119: RuntimeWarning: invalid value encountered in less\n",
      "  if check_sorted and np.any(np.diff(t) < 0.0):\n"
     ]
    },
    {
     "name": "stdout",
     "output_type": "stream",
     "text": [
      "\n",
      "ending worker 22\n",
      "starting worker 42\n"
     ]
    },
    {
     "data": {
      "application/vnd.jupyter.widget-view+json": {
       "model_id": "d3ad7909814c4659b561957fc2ac8add",
       "version_major": 2,
       "version_minor": 0
      },
      "text/plain": [
       "HBox(children=(IntProgress(value=0, max=39022), HTML(value='')))"
      ]
     },
     "metadata": {},
     "output_type": "display_data"
    },
    {
     "name": "stdout",
     "output_type": "stream",
     "text": [
      "\n",
      "ending worker 23\n",
      "starting worker 43\n"
     ]
    },
    {
     "data": {
      "application/vnd.jupyter.widget-view+json": {
       "model_id": "5050873972124566b3efc14d7d017e23",
       "version_major": 2,
       "version_minor": 0
      },
      "text/plain": [
       "HBox(children=(IntProgress(value=0, max=39002), HTML(value='')))"
      ]
     },
     "metadata": {},
     "output_type": "display_data"
    },
    {
     "name": "stdout",
     "output_type": "stream",
     "text": [
      "\n",
      "\n",
      "\n",
      "ending worker 29\n",
      "starting worker 44\n"
     ]
    },
    {
     "data": {
      "application/vnd.jupyter.widget-view+json": {
       "model_id": "fe133f2eed7e483e96b4c958a49a741d",
       "version_major": 2,
       "version_minor": 0
      },
      "text/plain": [
       "HBox(children=(IntProgress(value=0, max=39027), HTML(value='')))"
      ]
     },
     "metadata": {},
     "output_type": "display_data"
    },
    {
     "name": "stdout",
     "output_type": "stream",
     "text": [
      "ending worker 24\n",
      "starting worker 45\n",
      "ending worker 25\n",
      "starting worker 46\n"
     ]
    },
    {
     "data": {
      "application/vnd.jupyter.widget-view+json": {
       "model_id": "86fd5e12ba184476b7364b35445cbdb5",
       "version_major": 2,
       "version_minor": 0
      },
      "text/plain": [
       "HBox(children=(IntProgress(value=0, max=39035), HTML(value='')))"
      ]
     },
     "metadata": {},
     "output_type": "display_data"
    },
    {
     "data": {
      "application/vnd.jupyter.widget-view+json": {
       "model_id": "94dfca9b34a34af1abf3d2699ceb5a6b",
       "version_major": 2,
       "version_minor": 0
      },
      "text/plain": [
       "HBox(children=(IntProgress(value=0, max=39069), HTML(value='')))"
      ]
     },
     "metadata": {},
     "output_type": "display_data"
    },
    {
     "name": "stdout",
     "output_type": "stream",
     "text": [
      "\n",
      "ending worker 32\n",
      "starting worker 47\n"
     ]
    },
    {
     "data": {
      "application/vnd.jupyter.widget-view+json": {
       "model_id": "cbda2cf3f4d94cb19a883697303289c8",
       "version_major": 2,
       "version_minor": 0
      },
      "text/plain": [
       "HBox(children=(IntProgress(value=0, max=39063), HTML(value='')))"
      ]
     },
     "metadata": {},
     "output_type": "display_data"
    },
    {
     "name": "stdout",
     "output_type": "stream",
     "text": [
      "\n"
     ]
    },
    {
     "name": "stderr",
     "output_type": "stream",
     "text": [
      "/home/jfpuget/anaconda3/envs/xgb8/lib/python3.6/site-packages/celerite/celerite.py:119: RuntimeWarning: invalid value encountered in less\n",
      "  if check_sorted and np.any(np.diff(t) < 0.0):\n"
     ]
    },
    {
     "name": "stdout",
     "output_type": "stream",
     "text": [
      "ending worker 28\n",
      "starting worker 48\n"
     ]
    },
    {
     "data": {
      "application/vnd.jupyter.widget-view+json": {
       "model_id": "267952289e5843118529ceef8a663448",
       "version_major": 2,
       "version_minor": 0
      },
      "text/plain": [
       "HBox(children=(IntProgress(value=0, max=39090), HTML(value='')))"
      ]
     },
     "metadata": {},
     "output_type": "display_data"
    },
    {
     "name": "stdout",
     "output_type": "stream",
     "text": [
      "\n",
      "ending worker 30\n",
      "starting worker 49\n"
     ]
    },
    {
     "data": {
      "application/vnd.jupyter.widget-view+json": {
       "model_id": "37e90eb08503473c9b293d01432c1a4f",
       "version_major": 2,
       "version_minor": 0
      },
      "text/plain": [
       "HBox(children=(IntProgress(value=0, max=39079), HTML(value='')))"
      ]
     },
     "metadata": {},
     "output_type": "display_data"
    },
    {
     "name": "stdout",
     "output_type": "stream",
     "text": [
      "\n",
      "ending worker 26\n",
      "starting worker 50\n"
     ]
    },
    {
     "data": {
      "application/vnd.jupyter.widget-view+json": {
       "model_id": "36465ac60b1c47c9bb51169aae25452a",
       "version_major": 2,
       "version_minor": 0
      },
      "text/plain": [
       "HBox(children=(IntProgress(value=0, max=39079), HTML(value='')))"
      ]
     },
     "metadata": {},
     "output_type": "display_data"
    },
    {
     "name": "stdout",
     "output_type": "stream",
     "text": [
      "\n",
      "\n",
      "ending worker 33\n",
      "starting worker 51\n"
     ]
    },
    {
     "data": {
      "application/vnd.jupyter.widget-view+json": {
       "model_id": "58f1b7e8a23a4800aa57f8ca3956f3c3",
       "version_major": 2,
       "version_minor": 0
      },
      "text/plain": [
       "HBox(children=(IntProgress(value=0, max=39076), HTML(value='')))"
      ]
     },
     "metadata": {},
     "output_type": "display_data"
    },
    {
     "name": "stdout",
     "output_type": "stream",
     "text": [
      "ending worker 34\n",
      "starting worker 52\n"
     ]
    },
    {
     "data": {
      "application/vnd.jupyter.widget-view+json": {
       "model_id": "33ec1219dacc451faf9075f8a79e1cb6",
       "version_major": 2,
       "version_minor": 0
      },
      "text/plain": [
       "HBox(children=(IntProgress(value=0, max=39084), HTML(value='')))"
      ]
     },
     "metadata": {},
     "output_type": "display_data"
    },
    {
     "name": "stdout",
     "output_type": "stream",
     "text": [
      "\n",
      "ending worker 35\n",
      "starting worker 53\n"
     ]
    },
    {
     "data": {
      "application/vnd.jupyter.widget-view+json": {
       "model_id": "429f6420f5ef49e2b7606fab71e9730e",
       "version_major": 2,
       "version_minor": 0
      },
      "text/plain": [
       "HBox(children=(IntProgress(value=0, max=39037), HTML(value='')))"
      ]
     },
     "metadata": {},
     "output_type": "display_data"
    },
    {
     "name": "stdout",
     "output_type": "stream",
     "text": [
      "\n",
      "ending worker 27\n",
      "starting worker 54\n"
     ]
    },
    {
     "data": {
      "application/vnd.jupyter.widget-view+json": {
       "model_id": "d05d9a21a08a43329f185cb65b175959",
       "version_major": 2,
       "version_minor": 0
      },
      "text/plain": [
       "HBox(children=(IntProgress(value=0, max=39054), HTML(value='')))"
      ]
     },
     "metadata": {},
     "output_type": "display_data"
    },
    {
     "name": "stdout",
     "output_type": "stream",
     "text": [
      "\n",
      "\n",
      "ending worker 37\n",
      "starting worker 55\n"
     ]
    },
    {
     "data": {
      "application/vnd.jupyter.widget-view+json": {
       "model_id": "c12b60ec0a8949128441fd6abc1eb20d",
       "version_major": 2,
       "version_minor": 0
      },
      "text/plain": [
       "HBox(children=(IntProgress(value=0, max=39078), HTML(value='')))"
      ]
     },
     "metadata": {},
     "output_type": "display_data"
    },
    {
     "name": "stdout",
     "output_type": "stream",
     "text": [
      "ending worker 39\n",
      "starting worker 56\n"
     ]
    },
    {
     "data": {
      "application/vnd.jupyter.widget-view+json": {
       "model_id": "2ec85bc324f64c5bb9b338f9c9665bea",
       "version_major": 2,
       "version_minor": 0
      },
      "text/plain": [
       "HBox(children=(IntProgress(value=0, max=39085), HTML(value='')))"
      ]
     },
     "metadata": {},
     "output_type": "display_data"
    },
    {
     "name": "stdout",
     "output_type": "stream",
     "text": [
      "\n",
      "ending worker 31\n",
      "starting worker 57\n"
     ]
    },
    {
     "data": {
      "application/vnd.jupyter.widget-view+json": {
       "model_id": "f20bd7adf3ea42a59ea3c55fe3e934b6",
       "version_major": 2,
       "version_minor": 0
      },
      "text/plain": [
       "HBox(children=(IntProgress(value=0, max=39076), HTML(value='')))"
      ]
     },
     "metadata": {},
     "output_type": "display_data"
    },
    {
     "name": "stdout",
     "output_type": "stream",
     "text": [
      "\n",
      "ending worker 36\n",
      "starting worker 58\n"
     ]
    },
    {
     "data": {
      "application/vnd.jupyter.widget-view+json": {
       "model_id": "35c4540da7154d3db45e55ec20343e7a",
       "version_major": 2,
       "version_minor": 0
      },
      "text/plain": [
       "HBox(children=(IntProgress(value=0, max=39085), HTML(value='')))"
      ]
     },
     "metadata": {},
     "output_type": "display_data"
    },
    {
     "name": "stdout",
     "output_type": "stream",
     "text": [
      "\n",
      "ending worker 38\n",
      "starting worker 59\n"
     ]
    },
    {
     "data": {
      "application/vnd.jupyter.widget-view+json": {
       "model_id": "3ab69318aa804f45a24122579fd3cb2c",
       "version_major": 2,
       "version_minor": 0
      },
      "text/plain": [
       "HBox(children=(IntProgress(value=0, max=39051), HTML(value='')))"
      ]
     },
     "metadata": {},
     "output_type": "display_data"
    },
    {
     "name": "stderr",
     "output_type": "stream",
     "text": [
      "/home/jfpuget/anaconda3/envs/xgb8/lib/python3.6/site-packages/celerite/celerite.py:119: RuntimeWarning: invalid value encountered in less\n",
      "  if check_sorted and np.any(np.diff(t) < 0.0):\n",
      "/home/jfpuget/anaconda3/envs/xgb8/lib/python3.6/site-packages/celerite/celerite.py:119: RuntimeWarning: invalid value encountered in less\n",
      "  if check_sorted and np.any(np.diff(t) < 0.0):\n",
      "/home/jfpuget/anaconda3/envs/xgb8/lib/python3.6/site-packages/celerite/celerite.py:119: RuntimeWarning: invalid value encountered in less\n",
      "  if check_sorted and np.any(np.diff(t) < 0.0):\n"
     ]
    },
    {
     "name": "stdout",
     "output_type": "stream",
     "text": [
      "\n",
      "ending worker 40\n",
      "starting worker 60\n"
     ]
    },
    {
     "data": {
      "application/vnd.jupyter.widget-view+json": {
       "model_id": "4f1c8a480cb54b1f95fcf5ed19eae1e8",
       "version_major": 2,
       "version_minor": 0
      },
      "text/plain": [
       "HBox(children=(IntProgress(value=0, max=39077), HTML(value='')))"
      ]
     },
     "metadata": {},
     "output_type": "display_data"
    },
    {
     "name": "stderr",
     "output_type": "stream",
     "text": [
      "/home/jfpuget/anaconda3/envs/xgb8/lib/python3.6/site-packages/celerite/celerite.py:119: RuntimeWarning: invalid value encountered in less\n",
      "  if check_sorted and np.any(np.diff(t) < 0.0):\n"
     ]
    },
    {
     "name": "stdout",
     "output_type": "stream",
     "text": [
      "\n",
      "ending worker 41\n",
      "starting worker 61\n"
     ]
    },
    {
     "data": {
      "application/vnd.jupyter.widget-view+json": {
       "model_id": "d7989c84f5574f97ac8d1d18b5a0bf1a",
       "version_major": 2,
       "version_minor": 0
      },
      "text/plain": [
       "HBox(children=(IntProgress(value=0, max=39103), HTML(value='')))"
      ]
     },
     "metadata": {},
     "output_type": "display_data"
    },
    {
     "name": "stderr",
     "output_type": "stream",
     "text": [
      "/home/jfpuget/anaconda3/envs/xgb8/lib/python3.6/site-packages/celerite/celerite.py:119: RuntimeWarning: invalid value encountered in less\n",
      "  if check_sorted and np.any(np.diff(t) < 0.0):\n",
      "/home/jfpuget/anaconda3/envs/xgb8/lib/python3.6/site-packages/celerite/celerite.py:119: RuntimeWarning: invalid value encountered in less\n",
      "  if check_sorted and np.any(np.diff(t) < 0.0):\n",
      "/home/jfpuget/anaconda3/envs/xgb8/lib/python3.6/site-packages/celerite/celerite.py:119: RuntimeWarning: invalid value encountered in less\n",
      "  if check_sorted and np.any(np.diff(t) < 0.0):\n",
      "/home/jfpuget/anaconda3/envs/xgb8/lib/python3.6/site-packages/celerite/celerite.py:119: RuntimeWarning: invalid value encountered in less\n",
      "  if check_sorted and np.any(np.diff(t) < 0.0):\n",
      "/home/jfpuget/anaconda3/envs/xgb8/lib/python3.6/site-packages/celerite/celerite.py:119: RuntimeWarning: invalid value encountered in less\n",
      "  if check_sorted and np.any(np.diff(t) < 0.0):\n"
     ]
    },
    {
     "name": "stdout",
     "output_type": "stream",
     "text": [
      "\n",
      "ending worker 42\n",
      "starting worker 62\n"
     ]
    },
    {
     "data": {
      "application/vnd.jupyter.widget-view+json": {
       "model_id": "769c2d9e4eee451586cdcc99f70522a0",
       "version_major": 2,
       "version_minor": 0
      },
      "text/plain": [
       "HBox(children=(IntProgress(value=0, max=39051), HTML(value='')))"
      ]
     },
     "metadata": {},
     "output_type": "display_data"
    },
    {
     "name": "stdout",
     "output_type": "stream",
     "text": [
      "\n",
      "\n",
      "\n",
      "\n",
      "ending worker 58\n",
      "starting worker 63\n"
     ]
    },
    {
     "data": {
      "application/vnd.jupyter.widget-view+json": {
       "model_id": "838c7a79292d4402b999399e4dc389a3",
       "version_major": 2,
       "version_minor": 0
      },
      "text/plain": [
       "HBox(children=(IntProgress(value=0, max=39050), HTML(value='')))"
      ]
     },
     "metadata": {},
     "output_type": "display_data"
    },
    {
     "name": "stdout",
     "output_type": "stream",
     "text": [
      "ending worker 43\n",
      "starting worker 64\n",
      "\n"
     ]
    },
    {
     "data": {
      "application/vnd.jupyter.widget-view+json": {
       "model_id": "ac1b0d7e39054a0fb29823de2be74fdb",
       "version_major": 2,
       "version_minor": 0
      },
      "text/plain": [
       "HBox(children=(IntProgress(value=0, max=39109), HTML(value='')))"
      ]
     },
     "metadata": {},
     "output_type": "display_data"
    },
    {
     "name": "stdout",
     "output_type": "stream",
     "text": [
      "ending worker 54\n",
      "starting worker 65\n"
     ]
    },
    {
     "data": {
      "application/vnd.jupyter.widget-view+json": {
       "model_id": "5fc9dbfd318e416baa48aa1142c6ad2e",
       "version_major": 2,
       "version_minor": 0
      },
      "text/plain": [
       "HBox(children=(IntProgress(value=0, max=39093), HTML(value='')))"
      ]
     },
     "metadata": {},
     "output_type": "display_data"
    },
    {
     "name": "stdout",
     "output_type": "stream",
     "text": [
      "ending worker 56\n",
      "starting worker 66\n"
     ]
    },
    {
     "data": {
      "application/vnd.jupyter.widget-view+json": {
       "model_id": "6bd6f6ffde694b2cbb8d302561da3462",
       "version_major": 2,
       "version_minor": 0
      },
      "text/plain": [
       "HBox(children=(IntProgress(value=0, max=39086), HTML(value='')))"
      ]
     },
     "metadata": {},
     "output_type": "display_data"
    },
    {
     "name": "stdout",
     "output_type": "stream",
     "text": [
      "ending worker 47\n",
      "starting worker 67\n"
     ]
    },
    {
     "data": {
      "application/vnd.jupyter.widget-view+json": {
       "model_id": "76ebec5cbb4147359012a1a2643eb21e",
       "version_major": 2,
       "version_minor": 0
      },
      "text/plain": [
       "HBox(children=(IntProgress(value=0, max=39134), HTML(value='')))"
      ]
     },
     "metadata": {},
     "output_type": "display_data"
    },
    {
     "name": "stdout",
     "output_type": "stream",
     "text": [
      "\n",
      "\n",
      "\n",
      "ending worker 51\n",
      "starting worker 68\n"
     ]
    },
    {
     "data": {
      "application/vnd.jupyter.widget-view+json": {
       "model_id": "df29f98ab86b43bbb24bcadcfdf4f953",
       "version_major": 2,
       "version_minor": 0
      },
      "text/plain": [
       "HBox(children=(IntProgress(value=0, max=39056), HTML(value='')))"
      ]
     },
     "metadata": {},
     "output_type": "display_data"
    },
    {
     "name": "stdout",
     "output_type": "stream",
     "text": [
      "\n",
      "ending worker 44\n",
      "starting worker 69\n"
     ]
    },
    {
     "data": {
      "application/vnd.jupyter.widget-view+json": {
       "model_id": "ee02a86fd50e48bc86a5388c2de2053e",
       "version_major": 2,
       "version_minor": 0
      },
      "text/plain": [
       "HBox(children=(IntProgress(value=0, max=39060), HTML(value='')))"
      ]
     },
     "metadata": {},
     "output_type": "display_data"
    },
    {
     "name": "stdout",
     "output_type": "stream",
     "text": [
      "ending worker 59\n",
      "starting worker 70\n"
     ]
    },
    {
     "data": {
      "application/vnd.jupyter.widget-view+json": {
       "model_id": "90f31849bf7b4f7cb529aa71f837590a",
       "version_major": 2,
       "version_minor": 0
      },
      "text/plain": [
       "HBox(children=(IntProgress(value=0, max=39083), HTML(value='')))"
      ]
     },
     "metadata": {},
     "output_type": "display_data"
    },
    {
     "name": "stdout",
     "output_type": "stream",
     "text": [
      "\n",
      "ending worker 48\n",
      "starting worker 71\n",
      "\n"
     ]
    },
    {
     "data": {
      "application/vnd.jupyter.widget-view+json": {
       "model_id": "6fc94bb950184496838bd2c55c65ead5",
       "version_major": 2,
       "version_minor": 0
      },
      "text/plain": [
       "HBox(children=(IntProgress(value=0, max=39027), HTML(value='')))"
      ]
     },
     "metadata": {},
     "output_type": "display_data"
    },
    {
     "name": "stdout",
     "output_type": "stream",
     "text": [
      "\n",
      "ending worker 52\n",
      "starting worker 72\n"
     ]
    },
    {
     "data": {
      "application/vnd.jupyter.widget-view+json": {
       "model_id": "217c635a9c674c0181a4422eea7281b9",
       "version_major": 2,
       "version_minor": 0
      },
      "text/plain": [
       "HBox(children=(IntProgress(value=0, max=39077), HTML(value='')))"
      ]
     },
     "metadata": {},
     "output_type": "display_data"
    },
    {
     "name": "stdout",
     "output_type": "stream",
     "text": [
      "\n",
      "ending worker 57\n",
      "starting worker 73\n",
      "ending worker 45\n",
      "starting worker 74\n"
     ]
    },
    {
     "data": {
      "application/vnd.jupyter.widget-view+json": {
       "model_id": "de823677005245d19eec0fafdf195500",
       "version_major": 2,
       "version_minor": 0
      },
      "text/plain": [
       "HBox(children=(IntProgress(value=0, max=39070), HTML(value='')))"
      ]
     },
     "metadata": {},
     "output_type": "display_data"
    },
    {
     "name": "stdout",
     "output_type": "stream",
     "text": [
      "\n"
     ]
    },
    {
     "data": {
      "application/vnd.jupyter.widget-view+json": {
       "model_id": "07fbefd5d7494cbfbc74738ed7a8c74b",
       "version_major": 2,
       "version_minor": 0
      },
      "text/plain": [
       "HBox(children=(IntProgress(value=0, max=39061), HTML(value='')))"
      ]
     },
     "metadata": {},
     "output_type": "display_data"
    },
    {
     "name": "stdout",
     "output_type": "stream",
     "text": [
      "ending worker 50\n",
      "starting worker 75\n"
     ]
    },
    {
     "data": {
      "application/vnd.jupyter.widget-view+json": {
       "model_id": "bf21810e00cc4107bde7d915c8561d42",
       "version_major": 2,
       "version_minor": 0
      },
      "text/plain": [
       "HBox(children=(IntProgress(value=0, max=39030), HTML(value='')))"
      ]
     },
     "metadata": {},
     "output_type": "display_data"
    },
    {
     "name": "stdout",
     "output_type": "stream",
     "text": [
      "ending worker 53\n",
      "starting worker 76\n"
     ]
    },
    {
     "data": {
      "application/vnd.jupyter.widget-view+json": {
       "model_id": "6228190b82664e1ea3dd9a134bb7ec6c",
       "version_major": 2,
       "version_minor": 0
      },
      "text/plain": [
       "HBox(children=(IntProgress(value=0, max=39092), HTML(value='')))"
      ]
     },
     "metadata": {},
     "output_type": "display_data"
    },
    {
     "name": "stdout",
     "output_type": "stream",
     "text": [
      "\n",
      "ending worker 55\n",
      "starting worker 77\n"
     ]
    },
    {
     "data": {
      "application/vnd.jupyter.widget-view+json": {
       "model_id": "8735b6bdf960436ba8bcfdd42e7195c6",
       "version_major": 2,
       "version_minor": 0
      },
      "text/plain": [
       "HBox(children=(IntProgress(value=0, max=39061), HTML(value='')))"
      ]
     },
     "metadata": {},
     "output_type": "display_data"
    },
    {
     "name": "stdout",
     "output_type": "stream",
     "text": [
      "\n",
      "ending worker 46\n",
      "starting worker 78\n"
     ]
    },
    {
     "data": {
      "application/vnd.jupyter.widget-view+json": {
       "model_id": "2f1f2e288f4744c6a9a3fc251e09281a",
       "version_major": 2,
       "version_minor": 0
      },
      "text/plain": [
       "HBox(children=(IntProgress(value=0, max=39064), HTML(value='')))"
      ]
     },
     "metadata": {},
     "output_type": "display_data"
    },
    {
     "name": "stdout",
     "output_type": "stream",
     "text": [
      "\n",
      "ending worker 49\n",
      "starting worker 79\n"
     ]
    },
    {
     "data": {
      "application/vnd.jupyter.widget-view+json": {
       "model_id": "452f02475ed7405b8596ec5e16cbf8fb",
       "version_major": 2,
       "version_minor": 0
      },
      "text/plain": [
       "HBox(children=(IntProgress(value=0, max=39054), HTML(value='')))"
      ]
     },
     "metadata": {},
     "output_type": "display_data"
    },
    {
     "name": "stderr",
     "output_type": "stream",
     "text": [
      "/home/jfpuget/anaconda3/envs/xgb8/lib/python3.6/site-packages/celerite/celerite.py:119: RuntimeWarning: invalid value encountered in less\n",
      "  if check_sorted and np.any(np.diff(t) < 0.0):\n",
      "/home/jfpuget/anaconda3/envs/xgb8/lib/python3.6/site-packages/celerite/celerite.py:119: RuntimeWarning: invalid value encountered in less\n",
      "  if check_sorted and np.any(np.diff(t) < 0.0):\n",
      "/home/jfpuget/anaconda3/envs/xgb8/lib/python3.6/site-packages/celerite/celerite.py:119: RuntimeWarning: invalid value encountered in less\n",
      "  if check_sorted and np.any(np.diff(t) < 0.0):\n",
      "/home/jfpuget/anaconda3/envs/xgb8/lib/python3.6/site-packages/celerite/celerite.py:119: RuntimeWarning: invalid value encountered in less\n",
      "  if check_sorted and np.any(np.diff(t) < 0.0):\n",
      "/home/jfpuget/anaconda3/envs/xgb8/lib/python3.6/site-packages/celerite/celerite.py:119: RuntimeWarning: invalid value encountered in less\n",
      "  if check_sorted and np.any(np.diff(t) < 0.0):\n"
     ]
    },
    {
     "name": "stdout",
     "output_type": "stream",
     "text": [
      "\n",
      "ending worker 60\n",
      "starting worker 80\n"
     ]
    },
    {
     "data": {
      "application/vnd.jupyter.widget-view+json": {
       "model_id": "cad046af0bef46dc8fcd4acc7739b47d",
       "version_major": 2,
       "version_minor": 0
      },
      "text/plain": [
       "HBox(children=(IntProgress(value=0, max=39073), HTML(value='')))"
      ]
     },
     "metadata": {},
     "output_type": "display_data"
    },
    {
     "name": "stdout",
     "output_type": "stream",
     "text": [
      "\n",
      "ending worker 61\n",
      "starting worker 81\n"
     ]
    },
    {
     "data": {
      "application/vnd.jupyter.widget-view+json": {
       "model_id": "ec8f7366b0fb4b4486ebfc4532a2c603",
       "version_major": 2,
       "version_minor": 0
      },
      "text/plain": [
       "HBox(children=(IntProgress(value=0, max=39080), HTML(value='')))"
      ]
     },
     "metadata": {},
     "output_type": "display_data"
    },
    {
     "name": "stderr",
     "output_type": "stream",
     "text": [
      "/home/jfpuget/anaconda3/envs/xgb8/lib/python3.6/site-packages/celerite/celerite.py:119: RuntimeWarning: invalid value encountered in less\n",
      "  if check_sorted and np.any(np.diff(t) < 0.0):\n",
      "/home/jfpuget/anaconda3/envs/xgb8/lib/python3.6/site-packages/celerite/celerite.py:119: RuntimeWarning: invalid value encountered in less\n",
      "  if check_sorted and np.any(np.diff(t) < 0.0):\n",
      "/home/jfpuget/anaconda3/envs/xgb8/lib/python3.6/site-packages/celerite/celerite.py:119: RuntimeWarning: invalid value encountered in less\n",
      "  if check_sorted and np.any(np.diff(t) < 0.0):\n",
      "/home/jfpuget/anaconda3/envs/xgb8/lib/python3.6/site-packages/celerite/celerite.py:119: RuntimeWarning: invalid value encountered in less\n",
      "  if check_sorted and np.any(np.diff(t) < 0.0):\n",
      "/home/jfpuget/anaconda3/envs/xgb8/lib/python3.6/site-packages/celerite/celerite.py:119: RuntimeWarning: invalid value encountered in less\n",
      "  if check_sorted and np.any(np.diff(t) < 0.0):\n"
     ]
    },
    {
     "name": "stdout",
     "output_type": "stream",
     "text": [
      "\n",
      "ending worker 62\n",
      "starting worker 82\n"
     ]
    },
    {
     "data": {
      "application/vnd.jupyter.widget-view+json": {
       "model_id": "dd9968071b35490ca3a0f7cb6660abf2",
       "version_major": 2,
       "version_minor": 0
      },
      "text/plain": [
       "HBox(children=(IntProgress(value=0, max=39070), HTML(value='')))"
      ]
     },
     "metadata": {},
     "output_type": "display_data"
    },
    {
     "name": "stdout",
     "output_type": "stream",
     "text": [
      "\n",
      "ending worker 78\n",
      "starting worker 83\n"
     ]
    },
    {
     "data": {
      "application/vnd.jupyter.widget-view+json": {
       "model_id": "39cf94f0db3941b0a9236a6496ea24c2",
       "version_major": 2,
       "version_minor": 0
      },
      "text/plain": [
       "HBox(children=(IntProgress(value=0, max=39100), HTML(value='')))"
      ]
     },
     "metadata": {},
     "output_type": "display_data"
    },
    {
     "name": "stdout",
     "output_type": "stream",
     "text": [
      "\n",
      "ending worker 75\n",
      "starting worker 84\n",
      "\n"
     ]
    },
    {
     "data": {
      "application/vnd.jupyter.widget-view+json": {
       "model_id": "f4947b4fb04d4f1f8743e78c864220ed",
       "version_major": 2,
       "version_minor": 0
      },
      "text/plain": [
       "HBox(children=(IntProgress(value=0, max=39063), HTML(value='')))"
      ]
     },
     "metadata": {},
     "output_type": "display_data"
    },
    {
     "name": "stdout",
     "output_type": "stream",
     "text": [
      "\n",
      "ending worker 76\n",
      "starting worker 85\n"
     ]
    },
    {
     "data": {
      "application/vnd.jupyter.widget-view+json": {
       "model_id": "0c798c35b32844c1adfe862fd6f457c6",
       "version_major": 2,
       "version_minor": 0
      },
      "text/plain": [
       "HBox(children=(IntProgress(value=0, max=39064), HTML(value='')))"
      ]
     },
     "metadata": {},
     "output_type": "display_data"
    },
    {
     "name": "stdout",
     "output_type": "stream",
     "text": [
      "ending worker 74\n",
      "starting worker 86\n",
      "\n"
     ]
    },
    {
     "data": {
      "application/vnd.jupyter.widget-view+json": {
       "model_id": "26915fb5e9ab44088de9a7009a3e0ddd",
       "version_major": 2,
       "version_minor": 0
      },
      "text/plain": [
       "HBox(children=(IntProgress(value=0, max=39086), HTML(value='')))"
      ]
     },
     "metadata": {},
     "output_type": "display_data"
    },
    {
     "name": "stdout",
     "output_type": "stream",
     "text": [
      "ending worker 77\n",
      "starting worker 87\n"
     ]
    },
    {
     "data": {
      "application/vnd.jupyter.widget-view+json": {
       "model_id": "c3f6b2c3ad1a4f6491276cdc4ed9c13c",
       "version_major": 2,
       "version_minor": 0
      },
      "text/plain": [
       "HBox(children=(IntProgress(value=0, max=39044), HTML(value='')))"
      ]
     },
     "metadata": {},
     "output_type": "display_data"
    },
    {
     "name": "stdout",
     "output_type": "stream",
     "text": [
      "\n",
      "ending worker 79\n",
      "starting worker 88\n"
     ]
    },
    {
     "data": {
      "application/vnd.jupyter.widget-view+json": {
       "model_id": "17db6d070c724a42ac909302d2cf1177",
       "version_major": 2,
       "version_minor": 0
      },
      "text/plain": [
       "HBox(children=(IntProgress(value=0, max=39036), HTML(value='')))"
      ]
     },
     "metadata": {},
     "output_type": "display_data"
    },
    {
     "name": "stdout",
     "output_type": "stream",
     "text": [
      "\n",
      "\n",
      "ending worker 66\n",
      "starting worker 89\n"
     ]
    },
    {
     "data": {
      "application/vnd.jupyter.widget-view+json": {
       "model_id": "16735bc9eb5d4311a040bb3db7ace6ae",
       "version_major": 2,
       "version_minor": 0
      },
      "text/plain": [
       "HBox(children=(IntProgress(value=0, max=39076), HTML(value='')))"
      ]
     },
     "metadata": {},
     "output_type": "display_data"
    },
    {
     "name": "stdout",
     "output_type": "stream",
     "text": [
      "ending worker 69\n",
      "starting worker 90\n"
     ]
    },
    {
     "data": {
      "application/vnd.jupyter.widget-view+json": {
       "model_id": "69307cf8a4ef42e4983787782f56ad6e",
       "version_major": 2,
       "version_minor": 0
      },
      "text/plain": [
       "HBox(children=(IntProgress(value=0, max=28537), HTML(value='')))"
      ]
     },
     "metadata": {},
     "output_type": "display_data"
    },
    {
     "name": "stdout",
     "output_type": "stream",
     "text": [
      "\n",
      "\n",
      "\n",
      "ending worker 73\n",
      "starting worker 100\n"
     ]
    },
    {
     "data": {
      "application/vnd.jupyter.widget-view+json": {
       "model_id": "be3951fa96644d1a8417b8d4c7647df0",
       "version_major": 2,
       "version_minor": 0
      },
      "text/plain": [
       "HBox(children=(IntProgress(value=0, max=1), HTML(value='')))"
      ]
     },
     "metadata": {},
     "output_type": "display_data"
    },
    {
     "name": "stdout",
     "output_type": "stream",
     "text": [
      "\n",
      "ending worker 100\n",
      "ending worker 67\n",
      "ending worker 64\n",
      "\n"
     ]
    },
    {
     "name": "stderr",
     "output_type": "stream",
     "text": [
      "/home/jfpuget/anaconda3/envs/xgb8/lib/python3.6/site-packages/celerite/celerite.py:119: RuntimeWarning: invalid value encountered in less\n",
      "  if check_sorted and np.any(np.diff(t) < 0.0):\n"
     ]
    },
    {
     "name": "stdout",
     "output_type": "stream",
     "text": [
      "\n",
      "ending worker 70\n",
      "ending worker 71\n",
      "\n",
      "\n",
      "ending worker 65\n",
      "ending worker 63\n",
      "\n",
      "ending worker 68\n",
      "\n",
      "ending worker 72\n"
     ]
    },
    {
     "name": "stderr",
     "output_type": "stream",
     "text": [
      "/home/jfpuget/anaconda3/envs/xgb8/lib/python3.6/site-packages/celerite/celerite.py:119: RuntimeWarning: invalid value encountered in less\n",
      "  if check_sorted and np.any(np.diff(t) < 0.0):\n"
     ]
    },
    {
     "name": "stdout",
     "output_type": "stream",
     "text": [
      "\n",
      "ending worker 80\n",
      "\n",
      "ending worker 81\n"
     ]
    },
    {
     "name": "stderr",
     "output_type": "stream",
     "text": [
      "/home/jfpuget/anaconda3/envs/xgb8/lib/python3.6/site-packages/celerite/celerite.py:119: RuntimeWarning: invalid value encountered in less\n",
      "  if check_sorted and np.any(np.diff(t) < 0.0):\n",
      "/home/jfpuget/anaconda3/envs/xgb8/lib/python3.6/site-packages/celerite/celerite.py:119: RuntimeWarning: invalid value encountered in less\n",
      "  if check_sorted and np.any(np.diff(t) < 0.0):\n"
     ]
    },
    {
     "name": "stdout",
     "output_type": "stream",
     "text": [
      "\n",
      "ending worker 90\n"
     ]
    },
    {
     "name": "stderr",
     "output_type": "stream",
     "text": [
      "/home/jfpuget/anaconda3/envs/xgb8/lib/python3.6/site-packages/celerite/celerite.py:119: RuntimeWarning: invalid value encountered in less\n",
      "  if check_sorted and np.any(np.diff(t) < 0.0):\n"
     ]
    },
    {
     "name": "stdout",
     "output_type": "stream",
     "text": [
      "\n",
      "ending worker 82\n",
      "\n",
      "ending worker 88\n",
      "\n",
      "ending worker 89\n",
      "\n",
      "\n",
      "\n",
      "\n",
      "ending worker 84\n",
      "ending worker 85\n",
      "ending worker 86\n",
      "ending worker 83\n",
      "\n",
      "ending worker 87\n"
     ]
    }
   ],
   "source": [
    "params = [(i, fname) for i in range(91)]\n",
    "params.append((100, fname))\n",
    "\n",
    "if 1: \n",
    "    pool = Pool(processes=20, maxtasksperchild=1)\n",
    "    ls   = pool.map( work_test, params, chunksize=1 )\n",
    "    pool.close()\n",
    "else:\n",
    "    ls = [work_tta(param) for param in params]"
   ]
  },
  {
   "cell_type": "code",
   "execution_count": null,
   "metadata": {},
   "outputs": [],
   "source": []
  }
 ],
 "metadata": {
  "kernelspec": {
   "display_name": "Python [conda env:xgb8]",
   "language": "python",
   "name": "conda-env-xgb8-py"
  },
  "language_info": {
   "codemirror_mode": {
    "name": "ipython",
    "version": 3
   },
   "file_extension": ".py",
   "mimetype": "text/x-python",
   "name": "python",
   "nbconvert_exporter": "python",
   "pygments_lexer": "ipython3",
   "version": "3.6.5"
  }
 },
 "nbformat": 4,
 "nbformat_minor": 2
}
